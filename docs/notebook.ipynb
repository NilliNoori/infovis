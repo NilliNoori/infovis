{
 "cells": [
  {
   "cell_type": "markdown",
   "id": "82d789dc-0c62-43e0-bb5b-0a328eb0b993",
   "metadata": {},
   "source": [
    "## Datastory\n",
    "###  The Impact of Economic Prosperity on Dietary Habits and Health Outcomes\n",
    "\n",
    "Imagine living in a world where economic prosperity significantly shapes our dietary habits and health outcomes. In wealthier countries, higher GDP per capita translates into better access to a variety of nutritious foods like fruits, vegetables, and whole grains. Improved infrastructure and supply chains make these healthy options more affordable and available. However, there's a catch. This same prosperity often brings lifestyle changes, such as increased consumption of processed foods and reduced physical activity, leading to higher rates of obesity and related diseases. This paradox highlights a complex relationship between economic prosperity and public health.\n",
    "\n",
    "#### Dietary habits based on GDP of a country\n",
    "Take, for example, the consumption of fruits and vegetables. In countries with higher GDP per capita, people tend to eat more fresh produce. The scatter plots vividly show that as economic conditions improve, access to a diverse range of fruits and vegetables increases, promoting better health outcomes. This trend emphasizes the crucial role of economic resources in enabling healthier dietary choices.\n",
    "\n",
    "Similarly, the intake of legumes and nuts also rises with higher GDP per capita. Wealthier nations see a slight uptick in the consumption of these healthy food groups, reflecting increased health awareness and the ability to afford a more varied diet. Whole grains follow a similar pattern. People in these countries eat more whole grains, which are often healthier but more expensive than refined grains.\n",
    "\n",
    "When it comes to fish and dairy, the story is similar. Higher-income countries tend to have higher fish consumption, thanks to better access to seafood and a greater emphasis on healthy diets. Dairy products are also more common in these nations, contributing to lower rates of chronic diseases such as cardiovascular conditions, obesity, and diabetes. These dietary patterns underscore the role of socio-economic factors in shaping health disparities (BMC Public Health, 2020).\n",
    "\n",
    "But the relationship between GDP per capita and red meat intake is more complex. In wealthier countries, red meat consumption might plateau or even decrease due to health concerns and a shift towards plant-based diets. This nuanced relationship indicates that socio-economic factors also influence dietary preferences and health awareness (Globalization and Health, 2020).\n",
    "\n",
    "Overall, these findings highlight the significant impact of socio-economic factors on dietary habits and access to nutritious foods. In wealthier nations, better access to a variety of healthy foods leads to healthier dietary patterns and lower rates of chronic diseases. Conversely, in lower-income countries, limited economic resources create barriers to accessing nutritious foods, contributing to health disparities. This underscores the need for targeted public health initiatives in lower GDP countries to improve the availability and affordability of nutritious foods, promoting better health outcomes and reducing health disparities globally (CDC, 2018)."
   ]
  },
  {
   "cell_type": "code",
   "execution_count": 18,
   "id": "d9cb5744-e3f4-4d1b-8458-3d16490b59af",
   "metadata": {
    "editable": true,
    "slideshow": {
     "slide_type": ""
    },
    "tags": [
     "hide-input"
    ]
   },
   "outputs": [],
   "source": [
    "#Import packages\n",
    "import pandas as pd\n",
    "import matplotlib.pyplot as plt\n",
    "import statsmodels.api as sm\n",
    "import seaborn as sns\n",
    "import plotly.express as px\n",
    "import plotly.graph_objs as go"
   ]
  },
  {
   "cell_type": "code",
   "execution_count": 10,
   "id": "32bc5ec0-78c9-43e1-9c11-383472f3e149",
   "metadata": {
    "editable": true,
    "slideshow": {
     "slide_type": ""
    },
    "tags": [
     "hide-input"
    ]
   },
   "outputs": [],
   "source": [
    "# Load the dataset\n",
    "file_path = 'health_diet.csv'\n",
    "data = pd.read_csv(file_path)"
   ]
  },
  {
   "cell_type": "code",
   "execution_count": 11,
   "id": "219bdaa9-728e-46ad-aec7-510e53877e95",
   "metadata": {
    "editable": true,
    "slideshow": {
     "slide_type": ""
    },
    "tags": [
     "hide-input"
    ]
   },
   "outputs": [
    {
     "data": {
      "application/vnd.plotly.v1+json": {
       "config": {
        "plotlyServerURL": "https://plot.ly"
       },
       "data": [
        {
         "hovertemplate": "GDP per Capita=%{x}<br>Fruit Intake=%{y}<extra></extra>",
         "legendgroup": "",
         "marker": {
          "color": "#636efa",
          "symbol": "circle"
         },
         "mode": "markers",
         "name": "",
         "orientation": "v",
         "showlegend": false,
         "type": "scatter",
         "x": [
          2459.23,
          7647.41,
          12657.3,
          55834.76,
          66279.79,
          22992.22,
          11557.68,
          19179.26,
          49038.71,
          53927.94,
          14345.73,
          798.25,
          49848.48,
          3039.7,
          2004.17,
          4236.27,
          20669.9,
          48405.7,
          36124.69,
          13198.69,
          18766.01,
          6895.51,
          7941.24,
          15036.48,
          15013.58,
          62848.43,
          10188.37,
          15368.49,
          960.74,
          47763.47,
          69357.23,
          23290.36,
          13395.27,
          4435.71,
          3431.3,
          1033.74,
          5347.27,
          14244.26,
          2939.72,
          6387.39,
          18825.13,
          null,
          37016.34,
          37179.01,
          51957.24,
          4754.27,
          12301.5,
          54412.58,
          16355.22,
          11307.17,
          11377.44,
          11289.99,
          1734.32,
          37820.66,
          32701.75,
          2155.71,
          46830.52,
          12160.48,
          45508.06,
          3224.99,
          15351.56,
          44411.38,
          13036.32,
          5038.96,
          2142.67,
          2118.21,
          2185.82,
          25939.81,
          28553.07,
          14961.62,
          7768.62,
          13156.91,
          5303.51,
          25822.16,
          2980.85,
          28920.17,
          10582.93,
          5682.67,
          73004.94,
          13108.11,
          10388.29,
          53502.34,
          38209.61,
          41362.7,
          10087.28,
          10300.67,
          40271.79,
          24303.8,
          4564.6,
          4817.17,
          3844.53,
          1966.09,
          24129.12,
          39798.97,
          48156.56,
          6746.81,
          16097.12,
          1641.19,
          12390.65,
          14526.76,
          null,
          11919.21,
          2679.56,
          32411.6,
          112222.73,
          27357.51,
          7303.23,
          null,
          11023.51,
          1539.46,
          22683.08,
          19200.55,
          3416.06,
          15208.02,
          2229.99,
          40654.16,
          4013.48,
          18742.94,
          10722.57,
          1220.2,
          5500.95,
          20014.04,
          1349.33,
          24590.98,
          9986.86,
          1151.44,
          5206.64,
          5449.59,
          54341.03,
          61924.34,
          3419.69,
          8518.67,
          39934.45,
          30565.87,
          4659.42,
          27894.86,
          11930.22,
          7583.65,
          14188.45,
          3529.09,
          29245.89,
          null,
          32064.23,
          11796.58,
          5668.27,
          100441.51,
          25684.25,
          26280.31,
          1950.06,
          47572.5,
          4584.43,
          3073.29,
          91189.77,
          2301.51,
          1680.19,
          8211.53,
          59826.24,
          915.85,
          16565.02,
          1056.54,
          3837.22,
          18405.7,
          29876.24,
          35662.4,
          51194.07,
          8464.76,
          25517.21,
          null,
          1680.12,
          1949.85,
          16657.62,
          2962.67,
          15564.02,
          3189.15,
          5470.4,
          27079,
          10208.93,
          26480.86,
          3964.63,
          2449.36,
          2347.14,
          12341.19,
          21781.44,
          58978.44,
          6588.91,
          11871.03,
          13592.55,
          8654.12,
          2631.22,
          5368.8,
          2599.94,
          13697.11,
          3309.54,
          2291.12,
          null,
          null,
          null,
          null,
          null,
          null,
          null,
          null,
          null
         ],
         "xaxis": "x",
         "y": [
          65.7,
          119.7,
          138.9,
          null,
          107.6,
          94,
          91.2,
          95.5,
          131.9,
          105.7,
          104.8,
          73.8,
          103.9,
          74.8,
          34.8,
          54.7,
          95.9,
          119.8,
          83.7,
          499.9,
          246.3,
          85.6,
          86.6,
          85,
          129.5,
          82.9,
          97.8,
          50.9,
          99,
          136.1,
          138,
          108.5,
          89.4,
          60.7,
          83.3,
          94.5,
          89.7,
          100.5,
          85.3,
          237.2,
          130.8,
          130.5,
          59.4,
          74.1,
          140.8,
          146.2,
          106.2,
          90.2,
          142.8,
          79.5,
          26,
          88.4,
          57.3,
          64.3,
          105.2,
          38.6,
          150.2,
          109.3,
          150.8,
          145.4,
          69.9,
          91.3,
          71.8,
          87.9,
          22,
          30.7,
          67.6,
          91,
          77,
          121.5,
          75.6,
          202.8,
          88.8,
          59.5,
          70,
          60,
          67,
          35.8,
          78.4,
          168.6,
          102.9,
          76.1,
          133.9,
          199.4,
          176.7,
          171.1,
          108.9,
          59.1,
          105,
          74.9,
          49,
          98,
          null,
          96.4,
          56.9,
          119.1,
          227.3,
          49.6,
          52.7,
          76.6,
          null,
          79.2,
          68.9,
          69.4,
          85.9,
          59.1,
          96.2,
          null,
          98.3,
          89.6,
          230.4,
          149.8,
          112.4,
          91.9,
          70,
          132.8,
          79.5,
          245.4,
          48.7,
          102.3,
          34.8,
          76.8,
          113.7,
          106.5,
          255,
          63.6,
          35.1,
          156.5,
          106.2,
          82.3,
          37.9,
          null,
          152.9,
          120.6,
          33.9,
          130.9,
          227.8,
          84.9,
          null,
          3.9,
          234.9,
          null,
          420.9,
          93.9,
          106.1,
          123.1,
          194.2,
          90.4,
          122.6,
          146.6,
          82.4,
          52.4,
          134.2,
          60,
          89.3,
          124,
          null,
          null,
          148.4,
          null,
          128.9,
          103.3,
          80.3,
          76.6,
          115,
          92.7,
          108.5,
          101.6,
          42.4,
          54.8,
          97.2,
          90.7,
          68.6,
          52,
          130.4,
          68.5,
          64,
          79.8,
          null,
          65.8,
          55.6,
          94.1,
          97,
          86.8,
          83.6,
          143.5,
          108.1,
          82.6,
          41.3,
          140.3,
          39.3,
          32.7,
          51.2,
          83.4,
          null,
          null,
          null,
          null,
          null,
          null,
          null,
          null,
          null
         ],
         "yaxis": "y"
        }
       ],
       "layout": {
        "autosize": true,
        "legend": {
         "tracegroupgap": 0
        },
        "template": {
         "data": {
          "bar": [
           {
            "error_x": {
             "color": "#2a3f5f"
            },
            "error_y": {
             "color": "#2a3f5f"
            },
            "marker": {
             "line": {
              "color": "#E5ECF6",
              "width": 0.5
             },
             "pattern": {
              "fillmode": "overlay",
              "size": 10,
              "solidity": 0.2
             }
            },
            "type": "bar"
           }
          ],
          "barpolar": [
           {
            "marker": {
             "line": {
              "color": "#E5ECF6",
              "width": 0.5
             },
             "pattern": {
              "fillmode": "overlay",
              "size": 10,
              "solidity": 0.2
             }
            },
            "type": "barpolar"
           }
          ],
          "carpet": [
           {
            "aaxis": {
             "endlinecolor": "#2a3f5f",
             "gridcolor": "white",
             "linecolor": "white",
             "minorgridcolor": "white",
             "startlinecolor": "#2a3f5f"
            },
            "baxis": {
             "endlinecolor": "#2a3f5f",
             "gridcolor": "white",
             "linecolor": "white",
             "minorgridcolor": "white",
             "startlinecolor": "#2a3f5f"
            },
            "type": "carpet"
           }
          ],
          "choropleth": [
           {
            "colorbar": {
             "outlinewidth": 0,
             "ticks": ""
            },
            "type": "choropleth"
           }
          ],
          "contour": [
           {
            "colorbar": {
             "outlinewidth": 0,
             "ticks": ""
            },
            "colorscale": [
             [
              0,
              "#0d0887"
             ],
             [
              0.1111111111111111,
              "#46039f"
             ],
             [
              0.2222222222222222,
              "#7201a8"
             ],
             [
              0.3333333333333333,
              "#9c179e"
             ],
             [
              0.4444444444444444,
              "#bd3786"
             ],
             [
              0.5555555555555556,
              "#d8576b"
             ],
             [
              0.6666666666666666,
              "#ed7953"
             ],
             [
              0.7777777777777778,
              "#fb9f3a"
             ],
             [
              0.8888888888888888,
              "#fdca26"
             ],
             [
              1,
              "#f0f921"
             ]
            ],
            "type": "contour"
           }
          ],
          "contourcarpet": [
           {
            "colorbar": {
             "outlinewidth": 0,
             "ticks": ""
            },
            "type": "contourcarpet"
           }
          ],
          "heatmap": [
           {
            "colorbar": {
             "outlinewidth": 0,
             "ticks": ""
            },
            "colorscale": [
             [
              0,
              "#0d0887"
             ],
             [
              0.1111111111111111,
              "#46039f"
             ],
             [
              0.2222222222222222,
              "#7201a8"
             ],
             [
              0.3333333333333333,
              "#9c179e"
             ],
             [
              0.4444444444444444,
              "#bd3786"
             ],
             [
              0.5555555555555556,
              "#d8576b"
             ],
             [
              0.6666666666666666,
              "#ed7953"
             ],
             [
              0.7777777777777778,
              "#fb9f3a"
             ],
             [
              0.8888888888888888,
              "#fdca26"
             ],
             [
              1,
              "#f0f921"
             ]
            ],
            "type": "heatmap"
           }
          ],
          "heatmapgl": [
           {
            "colorbar": {
             "outlinewidth": 0,
             "ticks": ""
            },
            "colorscale": [
             [
              0,
              "#0d0887"
             ],
             [
              0.1111111111111111,
              "#46039f"
             ],
             [
              0.2222222222222222,
              "#7201a8"
             ],
             [
              0.3333333333333333,
              "#9c179e"
             ],
             [
              0.4444444444444444,
              "#bd3786"
             ],
             [
              0.5555555555555556,
              "#d8576b"
             ],
             [
              0.6666666666666666,
              "#ed7953"
             ],
             [
              0.7777777777777778,
              "#fb9f3a"
             ],
             [
              0.8888888888888888,
              "#fdca26"
             ],
             [
              1,
              "#f0f921"
             ]
            ],
            "type": "heatmapgl"
           }
          ],
          "histogram": [
           {
            "marker": {
             "pattern": {
              "fillmode": "overlay",
              "size": 10,
              "solidity": 0.2
             }
            },
            "type": "histogram"
           }
          ],
          "histogram2d": [
           {
            "colorbar": {
             "outlinewidth": 0,
             "ticks": ""
            },
            "colorscale": [
             [
              0,
              "#0d0887"
             ],
             [
              0.1111111111111111,
              "#46039f"
             ],
             [
              0.2222222222222222,
              "#7201a8"
             ],
             [
              0.3333333333333333,
              "#9c179e"
             ],
             [
              0.4444444444444444,
              "#bd3786"
             ],
             [
              0.5555555555555556,
              "#d8576b"
             ],
             [
              0.6666666666666666,
              "#ed7953"
             ],
             [
              0.7777777777777778,
              "#fb9f3a"
             ],
             [
              0.8888888888888888,
              "#fdca26"
             ],
             [
              1,
              "#f0f921"
             ]
            ],
            "type": "histogram2d"
           }
          ],
          "histogram2dcontour": [
           {
            "colorbar": {
             "outlinewidth": 0,
             "ticks": ""
            },
            "colorscale": [
             [
              0,
              "#0d0887"
             ],
             [
              0.1111111111111111,
              "#46039f"
             ],
             [
              0.2222222222222222,
              "#7201a8"
             ],
             [
              0.3333333333333333,
              "#9c179e"
             ],
             [
              0.4444444444444444,
              "#bd3786"
             ],
             [
              0.5555555555555556,
              "#d8576b"
             ],
             [
              0.6666666666666666,
              "#ed7953"
             ],
             [
              0.7777777777777778,
              "#fb9f3a"
             ],
             [
              0.8888888888888888,
              "#fdca26"
             ],
             [
              1,
              "#f0f921"
             ]
            ],
            "type": "histogram2dcontour"
           }
          ],
          "mesh3d": [
           {
            "colorbar": {
             "outlinewidth": 0,
             "ticks": ""
            },
            "type": "mesh3d"
           }
          ],
          "parcoords": [
           {
            "line": {
             "colorbar": {
              "outlinewidth": 0,
              "ticks": ""
             }
            },
            "type": "parcoords"
           }
          ],
          "pie": [
           {
            "automargin": true,
            "type": "pie"
           }
          ],
          "scatter": [
           {
            "fillpattern": {
             "fillmode": "overlay",
             "size": 10,
             "solidity": 0.2
            },
            "type": "scatter"
           }
          ],
          "scatter3d": [
           {
            "line": {
             "colorbar": {
              "outlinewidth": 0,
              "ticks": ""
             }
            },
            "marker": {
             "colorbar": {
              "outlinewidth": 0,
              "ticks": ""
             }
            },
            "type": "scatter3d"
           }
          ],
          "scattercarpet": [
           {
            "marker": {
             "colorbar": {
              "outlinewidth": 0,
              "ticks": ""
             }
            },
            "type": "scattercarpet"
           }
          ],
          "scattergeo": [
           {
            "marker": {
             "colorbar": {
              "outlinewidth": 0,
              "ticks": ""
             }
            },
            "type": "scattergeo"
           }
          ],
          "scattergl": [
           {
            "marker": {
             "colorbar": {
              "outlinewidth": 0,
              "ticks": ""
             }
            },
            "type": "scattergl"
           }
          ],
          "scattermapbox": [
           {
            "marker": {
             "colorbar": {
              "outlinewidth": 0,
              "ticks": ""
             }
            },
            "type": "scattermapbox"
           }
          ],
          "scatterpolar": [
           {
            "marker": {
             "colorbar": {
              "outlinewidth": 0,
              "ticks": ""
             }
            },
            "type": "scatterpolar"
           }
          ],
          "scatterpolargl": [
           {
            "marker": {
             "colorbar": {
              "outlinewidth": 0,
              "ticks": ""
             }
            },
            "type": "scatterpolargl"
           }
          ],
          "scatterternary": [
           {
            "marker": {
             "colorbar": {
              "outlinewidth": 0,
              "ticks": ""
             }
            },
            "type": "scatterternary"
           }
          ],
          "surface": [
           {
            "colorbar": {
             "outlinewidth": 0,
             "ticks": ""
            },
            "colorscale": [
             [
              0,
              "#0d0887"
             ],
             [
              0.1111111111111111,
              "#46039f"
             ],
             [
              0.2222222222222222,
              "#7201a8"
             ],
             [
              0.3333333333333333,
              "#9c179e"
             ],
             [
              0.4444444444444444,
              "#bd3786"
             ],
             [
              0.5555555555555556,
              "#d8576b"
             ],
             [
              0.6666666666666666,
              "#ed7953"
             ],
             [
              0.7777777777777778,
              "#fb9f3a"
             ],
             [
              0.8888888888888888,
              "#fdca26"
             ],
             [
              1,
              "#f0f921"
             ]
            ],
            "type": "surface"
           }
          ],
          "table": [
           {
            "cells": {
             "fill": {
              "color": "#EBF0F8"
             },
             "line": {
              "color": "white"
             }
            },
            "header": {
             "fill": {
              "color": "#C8D4E3"
             },
             "line": {
              "color": "white"
             }
            },
            "type": "table"
           }
          ]
         },
         "layout": {
          "annotationdefaults": {
           "arrowcolor": "#2a3f5f",
           "arrowhead": 0,
           "arrowwidth": 1
          },
          "autotypenumbers": "strict",
          "coloraxis": {
           "colorbar": {
            "outlinewidth": 0,
            "ticks": ""
           }
          },
          "colorscale": {
           "diverging": [
            [
             0,
             "#8e0152"
            ],
            [
             0.1,
             "#c51b7d"
            ],
            [
             0.2,
             "#de77ae"
            ],
            [
             0.3,
             "#f1b6da"
            ],
            [
             0.4,
             "#fde0ef"
            ],
            [
             0.5,
             "#f7f7f7"
            ],
            [
             0.6,
             "#e6f5d0"
            ],
            [
             0.7,
             "#b8e186"
            ],
            [
             0.8,
             "#7fbc41"
            ],
            [
             0.9,
             "#4d9221"
            ],
            [
             1,
             "#276419"
            ]
           ],
           "sequential": [
            [
             0,
             "#0d0887"
            ],
            [
             0.1111111111111111,
             "#46039f"
            ],
            [
             0.2222222222222222,
             "#7201a8"
            ],
            [
             0.3333333333333333,
             "#9c179e"
            ],
            [
             0.4444444444444444,
             "#bd3786"
            ],
            [
             0.5555555555555556,
             "#d8576b"
            ],
            [
             0.6666666666666666,
             "#ed7953"
            ],
            [
             0.7777777777777778,
             "#fb9f3a"
            ],
            [
             0.8888888888888888,
             "#fdca26"
            ],
            [
             1,
             "#f0f921"
            ]
           ],
           "sequentialminus": [
            [
             0,
             "#0d0887"
            ],
            [
             0.1111111111111111,
             "#46039f"
            ],
            [
             0.2222222222222222,
             "#7201a8"
            ],
            [
             0.3333333333333333,
             "#9c179e"
            ],
            [
             0.4444444444444444,
             "#bd3786"
            ],
            [
             0.5555555555555556,
             "#d8576b"
            ],
            [
             0.6666666666666666,
             "#ed7953"
            ],
            [
             0.7777777777777778,
             "#fb9f3a"
            ],
            [
             0.8888888888888888,
             "#fdca26"
            ],
            [
             1,
             "#f0f921"
            ]
           ]
          },
          "colorway": [
           "#636efa",
           "#EF553B",
           "#00cc96",
           "#ab63fa",
           "#FFA15A",
           "#19d3f3",
           "#FF6692",
           "#B6E880",
           "#FF97FF",
           "#FECB52"
          ],
          "font": {
           "color": "#2a3f5f"
          },
          "geo": {
           "bgcolor": "white",
           "lakecolor": "white",
           "landcolor": "#E5ECF6",
           "showlakes": true,
           "showland": true,
           "subunitcolor": "white"
          },
          "hoverlabel": {
           "align": "left"
          },
          "hovermode": "closest",
          "mapbox": {
           "style": "light"
          },
          "paper_bgcolor": "white",
          "plot_bgcolor": "#E5ECF6",
          "polar": {
           "angularaxis": {
            "gridcolor": "white",
            "linecolor": "white",
            "ticks": ""
           },
           "bgcolor": "#E5ECF6",
           "radialaxis": {
            "gridcolor": "white",
            "linecolor": "white",
            "ticks": ""
           }
          },
          "scene": {
           "xaxis": {
            "backgroundcolor": "#E5ECF6",
            "gridcolor": "white",
            "gridwidth": 2,
            "linecolor": "white",
            "showbackground": true,
            "ticks": "",
            "zerolinecolor": "white"
           },
           "yaxis": {
            "backgroundcolor": "#E5ECF6",
            "gridcolor": "white",
            "gridwidth": 2,
            "linecolor": "white",
            "showbackground": true,
            "ticks": "",
            "zerolinecolor": "white"
           },
           "zaxis": {
            "backgroundcolor": "#E5ECF6",
            "gridcolor": "white",
            "gridwidth": 2,
            "linecolor": "white",
            "showbackground": true,
            "ticks": "",
            "zerolinecolor": "white"
           }
          },
          "shapedefaults": {
           "line": {
            "color": "#2a3f5f"
           }
          },
          "ternary": {
           "aaxis": {
            "gridcolor": "white",
            "linecolor": "white",
            "ticks": ""
           },
           "baxis": {
            "gridcolor": "white",
            "linecolor": "white",
            "ticks": ""
           },
           "bgcolor": "#E5ECF6",
           "caxis": {
            "gridcolor": "white",
            "linecolor": "white",
            "ticks": ""
           }
          },
          "title": {
           "x": 0.05
          },
          "xaxis": {
           "automargin": true,
           "gridcolor": "white",
           "linecolor": "white",
           "ticks": "",
           "title": {
            "standoff": 15
           },
           "zerolinecolor": "white",
           "zerolinewidth": 2
          },
          "yaxis": {
           "automargin": true,
           "gridcolor": "white",
           "linecolor": "white",
           "ticks": "",
           "title": {
            "standoff": 15
           },
           "zerolinecolor": "white",
           "zerolinewidth": 2
          }
         }
        },
        "title": {
         "text": "GDP per Capita vs Various Dietary Intakes"
        },
        "updatemenus": [
         {
          "buttons": [
           {
            "args": [
             {
              "y": [
               [
                65.7,
                119.7,
                138.9,
                null,
                107.6,
                94,
                91.2,
                95.5,
                131.9,
                105.7,
                104.8,
                73.8,
                103.9,
                74.8,
                34.8,
                54.7,
                95.9,
                119.8,
                83.7,
                499.9,
                246.3,
                85.6,
                86.6,
                85,
                129.5,
                82.9,
                97.8,
                50.9,
                99,
                136.1,
                138,
                108.5,
                89.4,
                60.7,
                83.3,
                94.5,
                89.7,
                100.5,
                85.3,
                237.2,
                130.8,
                130.5,
                59.4,
                74.1,
                140.8,
                146.2,
                106.2,
                90.2,
                142.8,
                79.5,
                26,
                88.4,
                57.3,
                64.3,
                105.2,
                38.6,
                150.2,
                109.3,
                150.8,
                145.4,
                69.9,
                91.3,
                71.8,
                87.9,
                22,
                30.7,
                67.6,
                91,
                77,
                121.5,
                75.6,
                202.8,
                88.8,
                59.5,
                70,
                60,
                67,
                35.8,
                78.4,
                168.6,
                102.9,
                76.1,
                133.9,
                199.4,
                176.7,
                171.1,
                108.9,
                59.1,
                105,
                74.9,
                49,
                98,
                null,
                96.4,
                56.9,
                119.1,
                227.3,
                49.6,
                52.7,
                76.6,
                null,
                79.2,
                68.9,
                69.4,
                85.9,
                59.1,
                96.2,
                null,
                98.3,
                89.6,
                230.4,
                149.8,
                112.4,
                91.9,
                70,
                132.8,
                79.5,
                245.4,
                48.7,
                102.3,
                34.8,
                76.8,
                113.7,
                106.5,
                255,
                63.6,
                35.1,
                156.5,
                106.2,
                82.3,
                37.9,
                null,
                152.9,
                120.6,
                33.9,
                130.9,
                227.8,
                84.9,
                null,
                3.9,
                234.9,
                null,
                420.9,
                93.9,
                106.1,
                123.1,
                194.2,
                90.4,
                122.6,
                146.6,
                82.4,
                52.4,
                134.2,
                60,
                89.3,
                124,
                null,
                null,
                148.4,
                null,
                128.9,
                103.3,
                80.3,
                76.6,
                115,
                92.7,
                108.5,
                101.6,
                42.4,
                54.8,
                97.2,
                90.7,
                68.6,
                52,
                130.4,
                68.5,
                64,
                79.8,
                null,
                65.8,
                55.6,
                94.1,
                97,
                86.8,
                83.6,
                143.5,
                108.1,
                82.6,
                41.3,
                140.3,
                39.3,
                32.7,
                51.2,
                83.4,
                null,
                null,
                null,
                null,
                null,
                null,
                null,
                null,
                null
               ]
              ]
             },
             {
              "yaxis": {
               "title": "Fruit Intake"
              }
             }
            ],
            "label": "Fruit Intake",
            "method": "update"
           },
           {
            "args": [
             {
              "y": [
               [
                98.1,
                308.8,
                129.1,
                null,
                123.3,
                123.8,
                95.9,
                232.1,
                116.8,
                118.4,
                77.7,
                186.8,
                113.2,
                99.1,
                27,
                225,
                399.2,
                185.2,
                105.6,
                443.6,
                87,
                148.3,
                112.1,
                93.4,
                143.2,
                163,
                297.6,
                112,
                104.7,
                131.6,
                115.2,
                140.2,
                306.1,
                92.8,
                125,
                212.6,
                141.6,
                96.5,
                97,
                194.8,
                166.4,
                115.2,
                118.5,
                105.6,
                193.2,
                106.4,
                103.1,
                121,
                103.5,
                195.1,
                108.6,
                147.7,
                69.3,
                103.4,
                293.3,
                88.8,
                125,
                210.4,
                155.4,
                138.3,
                122.2,
                117.4,
                87.7,
                137.4,
                20.2,
                48.1,
                138.1,
                147.3,
                91.3,
                252.3,
                92.4,
                145.1,
                29.5,
                480.8,
                80.1,
                62.1,
                160.5,
                167.8,
                116.6,
                227.3,
                116,
                69.3,
                83.3,
                149.4,
                148.9,
                117.1,
                282.7,
                157,
                246.9,
                38.1,
                117.9,
                87.9,
                null,
                138.2,
                109.1,
                140.3,
                350.7,
                121.4,
                111.9,
                91.7,
                null,
                195.6,
                191.1,
                130.5,
                95.4,
                233.3,
                165.9,
                null,
                90.3,
                166.4,
                177.8,
                194,
                186.1,
                150.8,
                91,
                90,
                174.2,
                135.5,
                171.2,
                138.5,
                223.4,
                182.8,
                173.9,
                163.5,
                151.4,
                98.5,
                92.8,
                272.9,
                117.3,
                131.8,
                193.1,
                null,
                128.8,
                154.9,
                88.1,
                151.2,
                95.6,
                110.3,
                null,
                81.9,
                178.7,
                null,
                161.2,
                67.7,
                139.3,
                168.9,
                358.2,
                180.9,
                281.1,
                147,
                130.6,
                73.1,
                152.2,
                173.2,
                119.1,
                128.4,
                null,
                null,
                460.9,
                null,
                36.2,
                180.3,
                101.6,
                115.1,
                150.8,
                167,
                215.5,
                129.7,
                36.7,
                148.5,
                175.6,
                53.8,
                107.1,
                140.8,
                139.4,
                86.5,
                198,
                112.9,
                null,
                169.3,
                110.7,
                183.4,
                162.7,
                128.6,
                214.7,
                104.3,
                91,
                177.1,
                71.4,
                336.4,
                58.5,
                131.8,
                195.8,
                141.2,
                null,
                null,
                null,
                null,
                null,
                null,
                null,
                null,
                null
               ]
              ]
             },
             {
              "yaxis": {
               "title": "Vegetable Intake"
              }
             }
            ],
            "label": "Vegetable Intake",
            "method": "update"
           },
           {
            "args": [
             {
              "y": [
               [
                103.8,
                37.8,
                40.2,
                null,
                40.6,
                3.6,
                14.7,
                43.5,
                23.2,
                6.4,
                14.6,
                40.5,
                4.5,
                24.7,
                9.1,
                28.9,
                18.1,
                38.7,
                17.9,
                14,
                75.8,
                27.6,
                11.3,
                82.1,
                6.9,
                34.3,
                70.7,
                19,
                37.7,
                18.9,
                2.7,
                12.9,
                15.2,
                4.6,
                30.1,
                30.8,
                22.6,
                25.8,
                9.6,
                31,
                28.2,
                26.3,
                30.9,
                12.5,
                5.3,
                198.9,
                30.5,
                23.2,
                45.6,
                19,
                15.3,
                8.9,
                28.3,
                21,
                6,
                34.5,
                6.1,
                29,
                13.4,
                27.9,
                2.6,
                40.3,
                34.5,
                19.5,
                3.2,
                7,
                90.9,
                36.8,
                13.9,
                28.5,
                46.1,
                21.4,
                41.1,
                8.2,
                26.8,
                16.2,
                27.5,
                24.9,
                22.3,
                15.4,
                36.2,
                5.4,
                70.6,
                13.8,
                11.4,
                25.9,
                58.9,
                6.7,
                28,
                6.2,
                3.8,
                29.2,
                null,
                27.7,
                45.2,
                25.3,
                27.5,
                9.5,
                37.1,
                57.2,
                null,
                82.6,
                15.2,
                26.5,
                9.9,
                10,
                38.5,
                null,
                112.7,
                8.1,
                28.4,
                40.6,
                40.6,
                21.3,
                15,
                3.7,
                25.6,
                30.5,
                28.5,
                31,
                19.5,
                38.5,
                24.6,
                25.4,
                12.6,
                28.9,
                19.9,
                28.3,
                5.3,
                1.1,
                58.7,
                null,
                60.3,
                42.8,
                11,
                64.2,
                33.6,
                9.2,
                null,
                5.1,
                2.9,
                null,
                11.8,
                16.4,
                37.8,
                38,
                33.1,
                1,
                80.1,
                55.7,
                22.9,
                18.2,
                15.6,
                29.2,
                22,
                35.7,
                null,
                null,
                32.2,
                null,
                8.6,
                71.7,
                4.6,
                19.1,
                15.3,
                11,
                19.6,
                37.9,
                7.4,
                13.7,
                41.9,
                58.2,
                32.8,
                8.7,
                39.2,
                37.6,
                15.2,
                31.3,
                null,
                33.9,
                45.2,
                8.9,
                45,
                19.5,
                33.4,
                46.3,
                39.5,
                99.5,
                67.3,
                231.1,
                28.9,
                32.3,
                20.6,
                18.9,
                null,
                null,
                null,
                null,
                null,
                null,
                null,
                null,
                null
               ]
              ]
             },
             {
              "yaxis": {
               "title": "Legume Intake"
              }
             }
            ],
            "label": "Legume Intake",
            "method": "update"
           },
           {
            "args": [
             {
              "y": [
               [
                31.2,
                11.6,
                12.3,
                null,
                31.7,
                1.6,
                18.9,
                2.5,
                7.4,
                5.4,
                32.7,
                6.5,
                3.4,
                13,
                21.8,
                0.7,
                11.5,
                21.5,
                9.9,
                8.8,
                10.9,
                2.2,
                11.6,
                0.2,
                8.7,
                4.2,
                6.6,
                39.7,
                7.9,
                17.3,
                6.9,
                17.9,
                9.4,
                9.6,
                14.9,
                26,
                9.9,
                45.1,
                7.9,
                15,
                8.6,
                0.3,
                4.5,
                3,
                3.2,
                0.1,
                4.4,
                8.2,
                1.4,
                5.6,
                2.7,
                2,
                10.1,
                8.4,
                8.1,
                1.7,
                3,
                4.4,
                2.4,
                2.9,
                20.2,
                5.4,
                6.3,
                29.3,
                10.6,
                12,
                12.6,
                11.4,
                7.4,
                0,
                2.6,
                8.3,
                4.6,
                8.9,
                5.2,
                1.6,
                5.1,
                3.2,
                12.9,
                7,
                12.7,
                1.4,
                27.8,
                3.3,
                3.1,
                10.5,
                2.4,
                75,
                0.6,
                37.5,
                1.5,
                3.2,
                null,
                1.5,
                25.1,
                0.7,
                43.2,
                2.5,
                19.1,
                0.5,
                null,
                9.8,
                1.7,
                9.4,
                0.1,
                6.8,
                15.2,
                null,
                16.5,
                0.8,
                14.9,
                1.9,
                3.4,
                12,
                12.9,
                6.6,
                4.7,
                11.3,
                2.2,
                10.6,
                1.8,
                9,
                7.9,
                58,
                8.2,
                16.3,
                10.9,
                5.8,
                4.4,
                3.5,
                5.1,
                null,
                1.9,
                17.4,
                3.1,
                15.8,
                7.3,
                0.4,
                null,
                0.1,
                3.6,
                null,
                3,
                6.1,
                19.1,
                20.3,
                10.8,
                16.6,
                7,
                25.3,
                14.3,
                7.5,
                2.6,
                1.1,
                2.5,
                3.2,
                null,
                null,
                4,
                null,
                8.9,
                15.4,
                3.4,
                9,
                5.1,
                6.9,
                9.4,
                19.5,
                9.2,
                9.3,
                1.3,
                5.1,
                0.8,
                1.6,
                3.3,
                9.5,
                6.5,
                11.1,
                null,
                16.4,
                7.7,
                12.8,
                25.5,
                11.5,
                3.2,
                6.2,
                0.8,
                21.1,
                3.9,
                26.1,
                3.4,
                0.2,
                19.7,
                3.1,
                null,
                null,
                null,
                null,
                null,
                null,
                null,
                null,
                null
               ]
              ]
             },
             {
              "yaxis": {
               "title": "Nut Intake"
              }
             }
            ],
            "label": "Nut Intake",
            "method": "update"
           },
           {
            "args": [
             {
              "y": [
               [
                41.5,
                57.6,
                31.2,
                null,
                37.2,
                10.8,
                23.3,
                14.3,
                64.9,
                29.2,
                46.9,
                33.1,
                66.1,
                33.6,
                59.4,
                35.3,
                25.8,
                16,
                36.7,
                45.7,
                35.7,
                27.6,
                29.4,
                6.1,
                89.9,
                0.1,
                45.4,
                71.2,
                48.3,
                59.4,
                44.6,
                40.2,
                6.8,
                36.6,
                68.4,
                12.2,
                71.6,
                29.2,
                36.2,
                63.5,
                36.9,
                35.2,
                112.8,
                35.4,
                75.5,
                79.7,
                30.3,
                44.7,
                16.5,
                26.7,
                30.7,
                22.1,
                36.8,
                22,
                107.4,
                177.1,
                57.2,
                49.4,
                33.4,
                34.3,
                50.2,
                46.2,
                43.5,
                11,
                40.1,
                62.3,
                18.3,
                39.2,
                34.3,
                23.1,
                23,
                4.8,
                25,
                58.1,
                25.7,
                44.7,
                29.6,
                121.8,
                18.9,
                51.6,
                9.4,
                74.6,
                52.9,
                9.2,
                22,
                23.9,
                6.1,
                37.1,
                12.7,
                46.6,
                16.4,
                35.7,
                null,
                16.5,
                19.9,
                1.8,
                25.6,
                10.7,
                14.8,
                49.1,
                null,
                32.7,
                60.1,
                14.1,
                30.7,
                72,
                23.9,
                null,
                61.5,
                23.5,
                143,
                4.7,
                12.4,
                49.9,
                56.9,
                86,
                22.9,
                192.1,
                100.8,
                17.2,
                26.1,
                75,
                62.3,
                18.3,
                54.1,
                52.1,
                57.9,
                29.5,
                84.5,
                31,
                62,
                null,
                63.1,
                27.6,
                80.5,
                33.9,
                34.5,
                52.7,
                null,
                114.8,
                21.4,
                null,
                28.7,
                29.4,
                13.3,
                15.9,
                5.2,
                88.8,
                27.4,
                24.3,
                36.3,
                70.7,
                8.1,
                11.3,
                64.7,
                23.7,
                null,
                null,
                194.8,
                null,
                25,
                39.6,
                52.4,
                56,
                25,
                0.1,
                38.6,
                14.2,
                58.5,
                61.7,
                18.1,
                46.4,
                112.9,
                19,
                11.9,
                28,
                1.5,
                2.6,
                null,
                135.4,
                27.3,
                67,
                37.9,
                19.6,
                52.4,
                20,
                28,
                26.3,
                24.3,
                10.6,
                20.3,
                68.6,
                55.7,
                152.4,
                null,
                null,
                null,
                null,
                null,
                null,
                null,
                null,
                null
               ]
              ]
             },
             {
              "yaxis": {
               "title": "Whole Grains Intake"
              }
             }
            ],
            "label": "Whole Grains Intake",
            "method": "update"
           },
           {
            "args": [
             {
              "y": [
               [
                3.2,
                38,
                18.3,
                null,
                40.5,
                11.6,
                47.9,
                46.5,
                28.6,
                21.1,
                22.3,
                32.8,
                19.7,
                22.2,
                28.8,
                41.6,
                22.7,
                35.6,
                21.2,
                10.4,
                21.5,
                26.3,
                13.9,
                28.9,
                45.8,
                75.4,
                24.5,
                24.2,
                38.5,
                17.3,
                40.3,
                16.6,
                37.9,
                53.1,
                41.1,
                43.7,
                71.4,
                40.4,
                56.1,
                26.4,
                73.5,
                10,
                22.6,
                23.3,
                17.8,
                35.1,
                17.4,
                36.3,
                15.9,
                24,
                19.2,
                14.3,
                52.7,
                66,
                30.2,
                4.9,
                38.5,
                37.3,
                30.2,
                59.3,
                31.8,
                28.7,
                56.9,
                90.4,
                16.5,
                38.5,
                17.4,
                54.2,
                30.6,
                24.8,
                6,
                43.4,
                12.2,
                39,
                20.2,
                11.9,
                56.7,
                9.6,
                13.2,
                8.7,
                26.4,
                46.7,
                127.5,
                61.4,
                46.6,
                54,
                50.2,
                33,
                10.8,
                1.8,
                71,
                60.7,
                null,
                21.6,
                70.3,
                66.8,
                12.2,
                58.5,
                32.2,
                18.1,
                null,
                24.9,
                10.5,
                30,
                30,
                35,
                35.5,
                null,
                29.5,
                40.1,
                40.4,
                7.9,
                49.3,
                25.3,
                53.1,
                40.6,
                129.3,
                53.3,
                16.5,
                40.1,
                33.9,
                47,
                37.6,
                90.9,
                23.2,
                6,
                33.3,
                17.9,
                12.9,
                62.5,
                8.3,
                null,
                28.3,
                32.3,
                4.4,
                24.9,
                42.9,
                24.6,
                null,
                0,
                19.2,
                null,
                56.7,
                11.9,
                32.5,
                34.3,
                41.4,
                34.7,
                24.8,
                45.8,
                48.3,
                44.1,
                50.2,
                29.9,
                48.3,
                10.5,
                null,
                null,
                17.2,
                null,
                73.9,
                25,
                8.8,
                34.3,
                35.1,
                2,
                174.7,
                32.6,
                25,
                53.9,
                45.8,
                6.6,
                11.9,
                25.5,
                50.6,
                25.3,
                38.3,
                6.2,
                null,
                26.6,
                11.6,
                31.6,
                23.9,
                11.2,
                47.4,
                31.9,
                11.1,
                61.1,
                41.3,
                44.4,
                10.8,
                5,
                43.9,
                18.6,
                null,
                null,
                null,
                null,
                null,
                null,
                null,
                null,
                null
               ]
              ]
             },
             {
              "yaxis": {
               "title": "Fish Intake"
              }
             }
            ],
            "label": "Fish Intake",
            "method": "update"
           },
           {
            "args": [
             {
              "y": [
               [
                91.1,
                65.8,
                404.9,
                null,
                428.4,
                519.1,
                403.7,
                223.8,
                666.3,
                558.7,
                454.1,
                29.8,
                767.5,
                54.3,
                36.8,
                45.3,
                1337.9,
                411.9,
                304.6,
                710.5,
                463.9,
                246.9,
                212.6,
                283.2,
                173.5,
                79.8,
                126.5,
                125.2,
                36.3,
                532.6,
                490.6,
                388.2,
                62.9,
                54.1,
                62.9,
                52,
                95.3,
                169.3,
                87.2,
                98.3,
                309.4,
                289.1,
                514.5,
                465.4,
                481.5,
                80.3,
                273.4,
                563.9,
                194.8,
                465.2,
                152.7,
                134.7,
                76.9,
                732.7,
                1557,
                81.3,
                750.7,
                79.6,
                671.1,
                54.1,
                82.6,
                671.7,
                863.8,
                39.3,
                43.2,
                26.9,
                76.6,
                70.7,
                530.1,
                170.3,
                185.7,
                233.2,
                171.9,
                660,
                89.8,
                426,
                53.6,
                107.8,
                1004.9,
                259.7,
                396.7,
                770.8,
                1094.2,
                322.6,
                251.1,
                327.1,
                187.9,
                628.6,
                112.5,
                173.7,
                25.1,
                58.6,
                null,
                181.7,
                579.4,
                71.7,
                445,
                56.2,
                396,
                164.6,
                null,
                173.8,
                78.9,
                1081.8,
                631.3,
                677.6,
                282.6,
                null,
                584.1,
                53.1,
                229.4,
                370.5,
                103.6,
                639.6,
                92.5,
                514.5,
                111.4,
                920,
                738.8,
                39.9,
                94.7,
                116.8,
                34.9,
                68.2,
                130.9,
                79.4,
                49.6,
                203,
                685.7,
                640.1,
                63.8,
                null,
                974.4,
                402.8,
                87.8,
                253.9,
                319.2,
                109.7,
                null,
                38.2,
                651.4,
                null,
                470.3,
                327.8,
                403.3,
                396.1,
                1006.2,
                615.2,
                35,
                374.7,
                107.3,
                44.9,
                74.6,
                117.2,
                45.2,
                245.6,
                null,
                null,
                481.1,
                null,
                142.7,
                243.5,
                309,
                569.9,
                609.9,
                70.3,
                87.5,
                388.9,
                37.8,
                23.4,
                92.6,
                188.2,
                693.6,
                68.2,
                106.8,
                204.6,
                279.1,
                660.3,
                null,
                54,
                65.6,
                539.7,
                318.1,
                513,
                589,
                257.5,
                325.1,
                68.1,
                88.1,
                176.8,
                200.1,
                133.9,
                42.5,
                97.8,
                null,
                null,
                null,
                null,
                null,
                null,
                null,
                null,
                null
               ]
              ]
             },
             {
              "yaxis": {
               "title": "Dairy Intake"
              }
             }
            ],
            "label": "Dairy Intake",
            "method": "update"
           },
           {
            "args": [
             {
              "y": [
               [
                10.7,
                16.8,
                61.6,
                null,
                29.6,
                86.7,
                62.4,
                36.3,
                61.6,
                106.2,
                99.3,
                11.8,
                57.4,
                16.5,
                2.7,
                8.1,
                73.3,
                42.3,
                53.5,
                150.5,
                61.9,
                98.7,
                99.5,
                75.2,
                64.8,
                90.8,
                17.9,
                25,
                80,
                46.4,
                49.3,
                18.6,
                105,
                13.6,
                13,
                12.1,
                22.4,
                93.5,
                24.6,
                21.5,
                73.1,
                132.7,
                67.5,
                65.4,
                50.3,
                16.1,
                27,
                55.7,
                51.8,
                36.6,
                55.2,
                29.9,
                21.5,
                56.9,
                79.2,
                10.6,
                65.3,
                21,
                46.1,
                27.9,
                32.4,
                42.7,
                15.3,
                14.6,
                13.8,
                6.6,
                19.6,
                21.9,
                78.5,
                27,
                57.3,
                47.9,
                30.2,
                251.5,
                17.8,
                22.3,
                23.9,
                3.5,
                40.8,
                16.2,
                67.2,
                58.3,
                132.1,
                53.4,
                12.2,
                55.5,
                90.2,
                103.2,
                14.7,
                42.5,
                24.8,
                28.9,
                null,
                42,
                26.9,
                41.7,
                27,
                22.3,
                39.2,
                40.6,
                null,
                45.9,
                23.5,
                143.5,
                95.4,
                212.1,
                24.8,
                null,
                99,
                28.8,
                38,
                47.4,
                30.1,
                51.7,
                21.4,
                63.3,
                128.4,
                205.6,
                74.5,
                19,
                16.4,
                44.9,
                13.5,
                21.4,
                25.4,
                8.2,
                21.2,
                49.9,
                47.9,
                85.3,
                11.5,
                null,
                55.9,
                43.3,
                27,
                85.1,
                108.9,
                25.1,
                null,
                240.8,
                69.3,
                null,
                65.6,
                96,
                40.6,
                39.9,
                69.5,
                183.9,
                4.7,
                40.4,
                17.3,
                7.7,
                44.7,
                66.5,
                10,
                63,
                null,
                null,
                77.3,
                null,
                7.8,
                75.5,
                29.5,
                59.3,
                70.7,
                19.1,
                18.5,
                37.5,
                32.2,
                13.4,
                35,
                51.5,
                92,
                19,
                30.7,
                72.8,
                41.7,
                45,
                null,
                27.1,
                10.9,
                39,
                79.9,
                35.7,
                107,
                49,
                57.8,
                51.8,
                43.7,
                27.4,
                22.9,
                148.6,
                41.2,
                27.1,
                null,
                null,
                null,
                null,
                null,
                null,
                null,
                null,
                null
               ]
              ]
             },
             {
              "yaxis": {
               "title": "Red Meat Intake"
              }
             }
            ],
            "label": "Red Meat Intake",
            "method": "update"
           }
          ],
          "direction": "down",
          "showactive": true
         }
        ],
        "xaxis": {
         "anchor": "y",
         "autorange": true,
         "domain": [
          0,
          1
         ],
         "range": [
          -6016.771687525233,
          119037.75168752523
         ],
         "title": {
          "text": "GDP per Capita"
         },
         "type": "linear"
        },
        "yaxis": {
         "anchor": "x",
         "autorange": true,
         "domain": [
          0,
          1
         ],
         "range": [
          -37.03203883495146,
          540.8320388349514
         ],
         "title": {
          "text": "Fruit Intake"
         },
         "type": "linear"
        }
       }
      },
      "image/png": "[encoded data removed]",
      "text/html": [
       "<div>                            <div id=\"bf2bcde1-a738-4428-bb47-0bb2a7796d5c\" class=\"plotly-graph-div\" style=\"height:525px; width:100%;\"></div>            <script type=\"text/javascript\">                require([\"plotly\"], function(Plotly) {                    window.PLOTLYENV=window.PLOTLYENV || {};                                    if (document.getElementById(\"bf2bcde1-a738-4428-bb47-0bb2a7796d5c\")) {                    Plotly.newPlot(                        \"bf2bcde1-a738-4428-bb47-0bb2a7796d5c\",                        [{\"hovertemplate\":\"GDP per Capita=%{x}\\u003cbr\\u003eFruit Intake=%{y}\\u003cextra\\u003e\\u003c\\u002fextra\\u003e\",\"legendgroup\":\"\",\"marker\":{\"color\":\"#636efa\",\"symbol\":\"circle\"},\"mode\":\"markers\",\"name\":\"\",\"orientation\":\"v\",\"showlegend\":false,\"x\":[2459.23,7647.41,12657.3,55834.76,66279.79,22992.22,11557.68,19179.26,49038.71,53927.94,14345.73,798.25,49848.48,3039.7,2004.17,4236.27,20669.9,48405.7,36124.69,13198.69,18766.01,6895.51,7941.24,15036.48,15013.58,62848.43,10188.37,15368.49,960.74,47763.47,69357.23,23290.36,13395.27,4435.71,3431.3,1033.74,5347.27,14244.26,2939.72,6387.39,18825.13,null,37016.34,37179.01,51957.24,4754.27,12301.5,54412.58,16355.22,11307.17,11377.44,11289.99,1734.32,37820.66,32701.75,2155.71,46830.52,12160.48,45508.06,3224.99,15351.56,44411.38,13036.32,5038.96,2142.67,2118.21,2185.82,25939.81,28553.07,14961.62,7768.62,13156.91,5303.51,25822.16,2980.85,28920.17,10582.93,5682.67,73004.94,13108.11,10388.29,53502.34,38209.61,41362.7,10087.28,10300.67,40271.79,24303.8,4564.6,4817.17,3844.53,1966.09,24129.12,39798.97,48156.56,6746.81,16097.12,1641.19,12390.65,14526.76,null,11919.21,2679.56,32411.6,112222.73,27357.51,7303.23,null,11023.51,1539.46,22683.08,19200.55,3416.06,15208.02,2229.99,40654.16,4013.48,18742.94,10722.57,1220.2,5500.95,20014.04,1349.33,24590.98,9986.86,1151.44,5206.64,5449.59,54341.03,61924.34,3419.69,8518.67,39934.45,30565.87,4659.42,27894.86,11930.22,7583.65,14188.45,3529.09,29245.89,null,32064.23,11796.58,5668.27,100441.51,25684.25,26280.31,1950.06,47572.5,4584.43,3073.29,91189.77,2301.51,1680.19,8211.53,59826.24,915.85,16565.02,1056.54,3837.22,18405.7,29876.24,35662.4,51194.07,8464.76,25517.21,null,1680.12,1949.85,16657.62,2962.67,15564.02,3189.15,5470.4,27079.0,10208.93,26480.86,3964.63,2449.36,2347.14,12341.19,21781.44,58978.44,6588.91,11871.03,13592.55,8654.12,2631.22,5368.8,2599.94,13697.11,3309.54,2291.12,null,null,null,null,null,null,null,null,null],\"xaxis\":\"x\",\"y\":[65.7,119.7,138.9,null,107.6,94.0,91.2,95.5,131.9,105.7,104.8,73.8,103.9,74.8,34.8,54.7,95.9,119.8,83.7,499.9,246.3,85.6,86.6,85.0,129.5,82.9,97.8,50.9,99.0,136.1,138.0,108.5,89.4,60.7,83.3,94.5,89.7,100.5,85.3,237.2,130.8,130.5,59.4,74.1,140.8,146.2,106.2,90.2,142.8,79.5,26.0,88.4,57.3,64.3,105.2,38.6,150.2,109.3,150.8,145.4,69.9,91.3,71.8,87.9,22.0,30.7,67.6,91.0,77.0,121.5,75.6,202.8,88.8,59.5,70.0,60.0,67.0,35.8,78.4,168.6,102.9,76.1,133.9,199.4,176.7,171.1,108.9,59.1,105.0,74.9,49.0,98.0,null,96.4,56.9,119.1,227.3,49.6,52.7,76.6,null,79.2,68.9,69.4,85.9,59.1,96.2,null,98.3,89.6,230.4,149.8,112.4,91.9,70.0,132.8,79.5,245.4,48.7,102.3,34.8,76.8,113.7,106.5,255.0,63.6,35.1,156.5,106.2,82.3,37.9,null,152.9,120.6,33.9,130.9,227.8,84.9,null,3.9,234.9,null,420.9,93.9,106.1,123.1,194.2,90.4,122.6,146.6,82.4,52.4,134.2,60.0,89.3,124.0,null,null,148.4,null,128.9,103.3,80.3,76.6,115.0,92.7,108.5,101.6,42.4,54.8,97.2,90.7,68.6,52.0,130.4,68.5,64.0,79.8,null,65.8,55.6,94.1,97.0,86.8,83.6,143.5,108.1,82.6,41.3,140.3,39.3,32.7,51.2,83.4,null,null,null,null,null,null,null,null,null],\"yaxis\":\"y\",\"type\":\"scatter\"}],                        {\"template\":{\"data\":{\"histogram2dcontour\":[{\"type\":\"histogram2dcontour\",\"colorbar\":{\"outlinewidth\":0,\"ticks\":\"\"},\"colorscale\":[[0.0,\"#0d0887\"],[0.1111111111111111,\"#46039f\"],[0.2222222222222222,\"#7201a8\"],[0.3333333333333333,\"#9c179e\"],[0.4444444444444444,\"#bd3786\"],[0.5555555555555556,\"#d8576b\"],[0.6666666666666666,\"#ed7953\"],[0.7777777777777778,\"#fb9f3a\"],[0.8888888888888888,\"#fdca26\"],[1.0,\"#f0f921\"]]}],\"choropleth\":[{\"type\":\"choropleth\",\"colorbar\":{\"outlinewidth\":0,\"ticks\":\"\"}}],\"histogram2d\":[{\"type\":\"histogram2d\",\"colorbar\":{\"outlinewidth\":0,\"ticks\":\"\"},\"colorscale\":[[0.0,\"#0d0887\"],[0.1111111111111111,\"#46039f\"],[0.2222222222222222,\"#7201a8\"],[0.3333333333333333,\"#9c179e\"],[0.4444444444444444,\"#bd3786\"],[0.5555555555555556,\"#d8576b\"],[0.6666666666666666,\"#ed7953\"],[0.7777777777777778,\"#fb9f3a\"],[0.8888888888888888,\"#fdca26\"],[1.0,\"#f0f921\"]]}],\"heatmap\":[{\"type\":\"heatmap\",\"colorbar\":{\"outlinewidth\":0,\"ticks\":\"\"},\"colorscale\":[[0.0,\"#0d0887\"],[0.1111111111111111,\"#46039f\"],[0.2222222222222222,\"#7201a8\"],[0.3333333333333333,\"#9c179e\"],[0.4444444444444444,\"#bd3786\"],[0.5555555555555556,\"#d8576b\"],[0.6666666666666666,\"#ed7953\"],[0.7777777777777778,\"#fb9f3a\"],[0.8888888888888888,\"#fdca26\"],[1.0,\"#f0f921\"]]}],\"heatmapgl\":[{\"type\":\"heatmapgl\",\"colorbar\":{\"outlinewidth\":0,\"ticks\":\"\"},\"colorscale\":[[0.0,\"#0d0887\"],[0.1111111111111111,\"#46039f\"],[0.2222222222222222,\"#7201a8\"],[0.3333333333333333,\"#9c179e\"],[0.4444444444444444,\"#bd3786\"],[0.5555555555555556,\"#d8576b\"],[0.6666666666666666,\"#ed7953\"],[0.7777777777777778,\"#fb9f3a\"],[0.8888888888888888,\"#fdca26\"],[1.0,\"#f0f921\"]]}],\"contourcarpet\":[{\"type\":\"contourcarpet\",\"colorbar\":{\"outlinewidth\":0,\"ticks\":\"\"}}],\"contour\":[{\"type\":\"contour\",\"colorbar\":{\"outlinewidth\":0,\"ticks\":\"\"},\"colorscale\":[[0.0,\"#0d0887\"],[0.1111111111111111,\"#46039f\"],[0.2222222222222222,\"#7201a8\"],[0.3333333333333333,\"#9c179e\"],[0.4444444444444444,\"#bd3786\"],[0.5555555555555556,\"#d8576b\"],[0.6666666666666666,\"#ed7953\"],[0.7777777777777778,\"#fb9f3a\"],[0.8888888888888888,\"#fdca26\"],[1.0,\"#f0f921\"]]}],\"surface\":[{\"type\":\"surface\",\"colorbar\":{\"outlinewidth\":0,\"ticks\":\"\"},\"colorscale\":[[0.0,\"#0d0887\"],[0.1111111111111111,\"#46039f\"],[0.2222222222222222,\"#7201a8\"],[0.3333333333333333,\"#9c179e\"],[0.4444444444444444,\"#bd3786\"],[0.5555555555555556,\"#d8576b\"],[0.6666666666666666,\"#ed7953\"],[0.7777777777777778,\"#fb9f3a\"],[0.8888888888888888,\"#fdca26\"],[1.0,\"#f0f921\"]]}],\"mesh3d\":[{\"type\":\"mesh3d\",\"colorbar\":{\"outlinewidth\":0,\"ticks\":\"\"}}],\"scatter\":[{\"fillpattern\":{\"fillmode\":\"overlay\",\"size\":10,\"solidity\":0.2},\"type\":\"scatter\"}],\"parcoords\":[{\"type\":\"parcoords\",\"line\":{\"colorbar\":{\"outlinewidth\":0,\"ticks\":\"\"}}}],\"scatterpolargl\":[{\"type\":\"scatterpolargl\",\"marker\":{\"colorbar\":{\"outlinewidth\":0,\"ticks\":\"\"}}}],\"bar\":[{\"error_x\":{\"color\":\"#2a3f5f\"},\"error_y\":{\"color\":\"#2a3f5f\"},\"marker\":{\"line\":{\"color\":\"#E5ECF6\",\"width\":0.5},\"pattern\":{\"fillmode\":\"overlay\",\"size\":10,\"solidity\":0.2}},\"type\":\"bar\"}],\"scattergeo\":[{\"type\":\"scattergeo\",\"marker\":{\"colorbar\":{\"outlinewidth\":0,\"ticks\":\"\"}}}],\"scatterpolar\":[{\"type\":\"scatterpolar\",\"marker\":{\"colorbar\":{\"outlinewidth\":0,\"ticks\":\"\"}}}],\"histogram\":[{\"marker\":{\"pattern\":{\"fillmode\":\"overlay\",\"size\":10,\"solidity\":0.2}},\"type\":\"histogram\"}],\"scattergl\":[{\"type\":\"scattergl\",\"marker\":{\"colorbar\":{\"outlinewidth\":0,\"ticks\":\"\"}}}],\"scatter3d\":[{\"type\":\"scatter3d\",\"line\":{\"colorbar\":{\"outlinewidth\":0,\"ticks\":\"\"}},\"marker\":{\"colorbar\":{\"outlinewidth\":0,\"ticks\":\"\"}}}],\"scattermapbox\":[{\"type\":\"scattermapbox\",\"marker\":{\"colorbar\":{\"outlinewidth\":0,\"ticks\":\"\"}}}],\"scatterternary\":[{\"type\":\"scatterternary\",\"marker\":{\"colorbar\":{\"outlinewidth\":0,\"ticks\":\"\"}}}],\"scattercarpet\":[{\"type\":\"scattercarpet\",\"marker\":{\"colorbar\":{\"outlinewidth\":0,\"ticks\":\"\"}}}],\"carpet\":[{\"aaxis\":{\"endlinecolor\":\"#2a3f5f\",\"gridcolor\":\"white\",\"linecolor\":\"white\",\"minorgridcolor\":\"white\",\"startlinecolor\":\"#2a3f5f\"},\"baxis\":{\"endlinecolor\":\"#2a3f5f\",\"gridcolor\":\"white\",\"linecolor\":\"white\",\"minorgridcolor\":\"white\",\"startlinecolor\":\"#2a3f5f\"},\"type\":\"carpet\"}],\"table\":[{\"cells\":{\"fill\":{\"color\":\"#EBF0F8\"},\"line\":{\"color\":\"white\"}},\"header\":{\"fill\":{\"color\":\"#C8D4E3\"},\"line\":{\"color\":\"white\"}},\"type\":\"table\"}],\"barpolar\":[{\"marker\":{\"line\":{\"color\":\"#E5ECF6\",\"width\":0.5},\"pattern\":{\"fillmode\":\"overlay\",\"size\":10,\"solidity\":0.2}},\"type\":\"barpolar\"}],\"pie\":[{\"automargin\":true,\"type\":\"pie\"}]},\"layout\":{\"autotypenumbers\":\"strict\",\"colorway\":[\"#636efa\",\"#EF553B\",\"#00cc96\",\"#ab63fa\",\"#FFA15A\",\"#19d3f3\",\"#FF6692\",\"#B6E880\",\"#FF97FF\",\"#FECB52\"],\"font\":{\"color\":\"#2a3f5f\"},\"hovermode\":\"closest\",\"hoverlabel\":{\"align\":\"left\"},\"paper_bgcolor\":\"white\",\"plot_bgcolor\":\"#E5ECF6\",\"polar\":{\"bgcolor\":\"#E5ECF6\",\"angularaxis\":{\"gridcolor\":\"white\",\"linecolor\":\"white\",\"ticks\":\"\"},\"radialaxis\":{\"gridcolor\":\"white\",\"linecolor\":\"white\",\"ticks\":\"\"}},\"ternary\":{\"bgcolor\":\"#E5ECF6\",\"aaxis\":{\"gridcolor\":\"white\",\"linecolor\":\"white\",\"ticks\":\"\"},\"baxis\":{\"gridcolor\":\"white\",\"linecolor\":\"white\",\"ticks\":\"\"},\"caxis\":{\"gridcolor\":\"white\",\"linecolor\":\"white\",\"ticks\":\"\"}},\"coloraxis\":{\"colorbar\":{\"outlinewidth\":0,\"ticks\":\"\"}},\"colorscale\":{\"sequential\":[[0.0,\"#0d0887\"],[0.1111111111111111,\"#46039f\"],[0.2222222222222222,\"#7201a8\"],[0.3333333333333333,\"#9c179e\"],[0.4444444444444444,\"#bd3786\"],[0.5555555555555556,\"#d8576b\"],[0.6666666666666666,\"#ed7953\"],[0.7777777777777778,\"#fb9f3a\"],[0.8888888888888888,\"#fdca26\"],[1.0,\"#f0f921\"]],\"sequentialminus\":[[0.0,\"#0d0887\"],[0.1111111111111111,\"#46039f\"],[0.2222222222222222,\"#7201a8\"],[0.3333333333333333,\"#9c179e\"],[0.4444444444444444,\"#bd3786\"],[0.5555555555555556,\"#d8576b\"],[0.6666666666666666,\"#ed7953\"],[0.7777777777777778,\"#fb9f3a\"],[0.8888888888888888,\"#fdca26\"],[1.0,\"#f0f921\"]],\"diverging\":[[0,\"#8e0152\"],[0.1,\"#c51b7d\"],[0.2,\"#de77ae\"],[0.3,\"#f1b6da\"],[0.4,\"#fde0ef\"],[0.5,\"#f7f7f7\"],[0.6,\"#e6f5d0\"],[0.7,\"#b8e186\"],[0.8,\"#7fbc41\"],[0.9,\"#4d9221\"],[1,\"#276419\"]]},\"xaxis\":{\"gridcolor\":\"white\",\"linecolor\":\"white\",\"ticks\":\"\",\"title\":{\"standoff\":15},\"zerolinecolor\":\"white\",\"automargin\":true,\"zerolinewidth\":2},\"yaxis\":{\"gridcolor\":\"white\",\"linecolor\":\"white\",\"ticks\":\"\",\"title\":{\"standoff\":15},\"zerolinecolor\":\"white\",\"automargin\":true,\"zerolinewidth\":2},\"scene\":{\"xaxis\":{\"backgroundcolor\":\"#E5ECF6\",\"gridcolor\":\"white\",\"linecolor\":\"white\",\"showbackground\":true,\"ticks\":\"\",\"zerolinecolor\":\"white\",\"gridwidth\":2},\"yaxis\":{\"backgroundcolor\":\"#E5ECF6\",\"gridcolor\":\"white\",\"linecolor\":\"white\",\"showbackground\":true,\"ticks\":\"\",\"zerolinecolor\":\"white\",\"gridwidth\":2},\"zaxis\":{\"backgroundcolor\":\"#E5ECF6\",\"gridcolor\":\"white\",\"linecolor\":\"white\",\"showbackground\":true,\"ticks\":\"\",\"zerolinecolor\":\"white\",\"gridwidth\":2}},\"shapedefaults\":{\"line\":{\"color\":\"#2a3f5f\"}},\"annotationdefaults\":{\"arrowcolor\":\"#2a3f5f\",\"arrowhead\":0,\"arrowwidth\":1},\"geo\":{\"bgcolor\":\"white\",\"landcolor\":\"#E5ECF6\",\"subunitcolor\":\"white\",\"showland\":true,\"showlakes\":true,\"lakecolor\":\"white\"},\"title\":{\"x\":0.05},\"mapbox\":{\"style\":\"light\"}}},\"xaxis\":{\"anchor\":\"y\",\"domain\":[0.0,1.0],\"title\":{\"text\":\"GDP per Capita\"}},\"yaxis\":{\"anchor\":\"x\",\"domain\":[0.0,1.0],\"title\":{\"text\":\"Fruit Intake\"}},\"legend\":{\"tracegroupgap\":0},\"title\":{\"text\":\"GDP per Capita vs Various Dietary Intakes\"},\"updatemenus\":[{\"buttons\":[{\"args\":[{\"y\":[[65.7,119.7,138.9,null,107.6,94.0,91.2,95.5,131.9,105.7,104.8,73.8,103.9,74.8,34.8,54.7,95.9,119.8,83.7,499.9,246.3,85.6,86.6,85.0,129.5,82.9,97.8,50.9,99.0,136.1,138.0,108.5,89.4,60.7,83.3,94.5,89.7,100.5,85.3,237.2,130.8,130.5,59.4,74.1,140.8,146.2,106.2,90.2,142.8,79.5,26.0,88.4,57.3,64.3,105.2,38.6,150.2,109.3,150.8,145.4,69.9,91.3,71.8,87.9,22.0,30.7,67.6,91.0,77.0,121.5,75.6,202.8,88.8,59.5,70.0,60.0,67.0,35.8,78.4,168.6,102.9,76.1,133.9,199.4,176.7,171.1,108.9,59.1,105.0,74.9,49.0,98.0,null,96.4,56.9,119.1,227.3,49.6,52.7,76.6,null,79.2,68.9,69.4,85.9,59.1,96.2,null,98.3,89.6,230.4,149.8,112.4,91.9,70.0,132.8,79.5,245.4,48.7,102.3,34.8,76.8,113.7,106.5,255.0,63.6,35.1,156.5,106.2,82.3,37.9,null,152.9,120.6,33.9,130.9,227.8,84.9,null,3.9,234.9,null,420.9,93.9,106.1,123.1,194.2,90.4,122.6,146.6,82.4,52.4,134.2,60.0,89.3,124.0,null,null,148.4,null,128.9,103.3,80.3,76.6,115.0,92.7,108.5,101.6,42.4,54.8,97.2,90.7,68.6,52.0,130.4,68.5,64.0,79.8,null,65.8,55.6,94.1,97.0,86.8,83.6,143.5,108.1,82.6,41.3,140.3,39.3,32.7,51.2,83.4,null,null,null,null,null,null,null,null,null]]},{\"yaxis\":{\"title\":\"Fruit Intake\"}}],\"label\":\"Fruit Intake\",\"method\":\"update\"},{\"args\":[{\"y\":[[98.1,308.8,129.1,null,123.3,123.8,95.9,232.1,116.8,118.4,77.7,186.8,113.2,99.1,27.0,225.0,399.2,185.2,105.6,443.6,87.0,148.3,112.1,93.4,143.2,163.0,297.6,112.0,104.7,131.6,115.2,140.2,306.1,92.8,125.0,212.6,141.6,96.5,97.0,194.8,166.4,115.2,118.5,105.6,193.2,106.4,103.1,121.0,103.5,195.1,108.6,147.7,69.3,103.4,293.3,88.8,125.0,210.4,155.4,138.3,122.2,117.4,87.7,137.4,20.2,48.1,138.1,147.3,91.3,252.3,92.4,145.1,29.5,480.8,80.1,62.1,160.5,167.8,116.6,227.3,116.0,69.3,83.3,149.4,148.9,117.1,282.7,157.0,246.9,38.1,117.9,87.9,null,138.2,109.1,140.3,350.7,121.4,111.9,91.7,null,195.6,191.1,130.5,95.4,233.3,165.9,null,90.3,166.4,177.8,194.0,186.1,150.8,91.0,90.0,174.2,135.5,171.2,138.5,223.4,182.8,173.9,163.5,151.4,98.5,92.8,272.9,117.3,131.8,193.1,null,128.8,154.9,88.1,151.2,95.6,110.3,null,81.9,178.7,null,161.2,67.7,139.3,168.9,358.2,180.9,281.1,147.0,130.6,73.1,152.2,173.2,119.1,128.4,null,null,460.9,null,36.2,180.3,101.6,115.1,150.8,167.0,215.5,129.7,36.7,148.5,175.6,53.8,107.1,140.8,139.4,86.5,198.0,112.9,null,169.3,110.7,183.4,162.7,128.6,214.7,104.3,91.0,177.1,71.4,336.4,58.5,131.8,195.8,141.2,null,null,null,null,null,null,null,null,null]]},{\"yaxis\":{\"title\":\"Vegetable Intake\"}}],\"label\":\"Vegetable Intake\",\"method\":\"update\"},{\"args\":[{\"y\":[[103.8,37.8,40.2,null,40.6,3.6,14.7,43.5,23.2,6.4,14.6,40.5,4.5,24.7,9.1,28.9,18.1,38.7,17.9,14.0,75.8,27.6,11.3,82.1,6.9,34.3,70.7,19.0,37.7,18.9,2.7,12.9,15.2,4.6,30.1,30.8,22.6,25.8,9.6,31.0,28.2,26.3,30.9,12.5,5.3,198.9,30.5,23.2,45.6,19.0,15.3,8.9,28.3,21.0,6.0,34.5,6.1,29.0,13.4,27.9,2.6,40.3,34.5,19.5,3.2,7.0,90.9,36.8,13.9,28.5,46.1,21.4,41.1,8.2,26.8,16.2,27.5,24.9,22.3,15.4,36.2,5.4,70.6,13.8,11.4,25.9,58.9,6.7,28.0,6.2,3.8,29.2,null,27.7,45.2,25.3,27.5,9.5,37.1,57.2,null,82.6,15.2,26.5,9.9,10.0,38.5,null,112.7,8.1,28.4,40.6,40.6,21.3,15.0,3.7,25.6,30.5,28.5,31.0,19.5,38.5,24.6,25.4,12.6,28.9,19.9,28.3,5.3,1.1,58.7,null,60.3,42.8,11.0,64.2,33.6,9.2,null,5.1,2.9,null,11.8,16.4,37.8,38.0,33.1,1.0,80.1,55.7,22.9,18.2,15.6,29.2,22.0,35.7,null,null,32.2,null,8.6,71.7,4.6,19.1,15.3,11.0,19.6,37.9,7.4,13.7,41.9,58.2,32.8,8.7,39.2,37.6,15.2,31.3,null,33.9,45.2,8.9,45.0,19.5,33.4,46.3,39.5,99.5,67.3,231.1,28.9,32.3,20.6,18.9,null,null,null,null,null,null,null,null,null]]},{\"yaxis\":{\"title\":\"Legume Intake\"}}],\"label\":\"Legume Intake\",\"method\":\"update\"},{\"args\":[{\"y\":[[31.2,11.6,12.3,null,31.7,1.6,18.9,2.5,7.4,5.4,32.7,6.5,3.4,13.0,21.8,0.7,11.5,21.5,9.9,8.8,10.9,2.2,11.6,0.2,8.7,4.2,6.6,39.7,7.9,17.3,6.9,17.9,9.4,9.6,14.9,26.0,9.9,45.1,7.9,15.0,8.6,0.3,4.5,3.0,3.2,0.1,4.4,8.2,1.4,5.6,2.7,2.0,10.1,8.4,8.1,1.7,3.0,4.4,2.4,2.9,20.2,5.4,6.3,29.3,10.6,12.0,12.6,11.4,7.4,0.0,2.6,8.3,4.6,8.9,5.2,1.6,5.1,3.2,12.9,7.0,12.7,1.4,27.8,3.3,3.1,10.5,2.4,75.0,0.6,37.5,1.5,3.2,null,1.5,25.1,0.7,43.2,2.5,19.1,0.5,null,9.8,1.7,9.4,0.1,6.8,15.2,null,16.5,0.8,14.9,1.9,3.4,12.0,12.9,6.6,4.7,11.3,2.2,10.6,1.8,9.0,7.9,58.0,8.2,16.3,10.9,5.8,4.4,3.5,5.1,null,1.9,17.4,3.1,15.8,7.3,0.4,null,0.1,3.6,null,3.0,6.1,19.1,20.3,10.8,16.6,7.0,25.3,14.3,7.5,2.6,1.1,2.5,3.2,null,null,4.0,null,8.9,15.4,3.4,9.0,5.1,6.9,9.4,19.5,9.2,9.3,1.3,5.1,0.8,1.6,3.3,9.5,6.5,11.1,null,16.4,7.7,12.8,25.5,11.5,3.2,6.2,0.8,21.1,3.9,26.1,3.4,0.2,19.7,3.1,null,null,null,null,null,null,null,null,null]]},{\"yaxis\":{\"title\":\"Nut Intake\"}}],\"label\":\"Nut Intake\",\"method\":\"update\"},{\"args\":[{\"y\":[[41.5,57.6,31.2,null,37.2,10.8,23.3,14.3,64.9,29.2,46.9,33.1,66.1,33.6,59.4,35.3,25.8,16.0,36.7,45.7,35.7,27.6,29.4,6.1,89.9,0.1,45.4,71.2,48.3,59.4,44.6,40.2,6.8,36.6,68.4,12.2,71.6,29.2,36.2,63.5,36.9,35.2,112.8,35.4,75.5,79.7,30.3,44.7,16.5,26.7,30.7,22.1,36.8,22.0,107.4,177.1,57.2,49.4,33.4,34.3,50.2,46.2,43.5,11.0,40.1,62.3,18.3,39.2,34.3,23.1,23.0,4.8,25.0,58.1,25.7,44.7,29.6,121.8,18.9,51.6,9.4,74.6,52.9,9.2,22.0,23.9,6.1,37.1,12.7,46.6,16.4,35.7,null,16.5,19.9,1.8,25.6,10.7,14.8,49.1,null,32.7,60.1,14.1,30.7,72.0,23.9,null,61.5,23.5,143.0,4.7,12.4,49.9,56.9,86.0,22.9,192.1,100.8,17.2,26.1,75.0,62.3,18.3,54.1,52.1,57.9,29.5,84.5,31.0,62.0,null,63.1,27.6,80.5,33.9,34.5,52.7,null,114.8,21.4,null,28.7,29.4,13.3,15.9,5.2,88.8,27.4,24.3,36.3,70.7,8.1,11.3,64.7,23.7,null,null,194.8,null,25.0,39.6,52.4,56.0,25.0,0.1,38.6,14.2,58.5,61.7,18.1,46.4,112.9,19.0,11.9,28.0,1.5,2.6,null,135.4,27.3,67.0,37.9,19.6,52.4,20.0,28.0,26.3,24.3,10.6,20.3,68.6,55.7,152.4,null,null,null,null,null,null,null,null,null]]},{\"yaxis\":{\"title\":\"Whole Grains Intake\"}}],\"label\":\"Whole Grains Intake\",\"method\":\"update\"},{\"args\":[{\"y\":[[3.2,38.0,18.3,null,40.5,11.6,47.9,46.5,28.6,21.1,22.3,32.8,19.7,22.2,28.8,41.6,22.7,35.6,21.2,10.4,21.5,26.3,13.9,28.9,45.8,75.4,24.5,24.2,38.5,17.3,40.3,16.6,37.9,53.1,41.1,43.7,71.4,40.4,56.1,26.4,73.5,10.0,22.6,23.3,17.8,35.1,17.4,36.3,15.9,24.0,19.2,14.3,52.7,66.0,30.2,4.9,38.5,37.3,30.2,59.3,31.8,28.7,56.9,90.4,16.5,38.5,17.4,54.2,30.6,24.8,6.0,43.4,12.2,39.0,20.2,11.9,56.7,9.6,13.2,8.7,26.4,46.7,127.5,61.4,46.6,54.0,50.2,33.0,10.8,1.8,71.0,60.7,null,21.6,70.3,66.8,12.2,58.5,32.2,18.1,null,24.9,10.5,30.0,30.0,35.0,35.5,null,29.5,40.1,40.4,7.9,49.3,25.3,53.1,40.6,129.3,53.3,16.5,40.1,33.9,47.0,37.6,90.9,23.2,6.0,33.3,17.9,12.9,62.5,8.3,null,28.3,32.3,4.4,24.9,42.9,24.6,null,0.0,19.2,null,56.7,11.9,32.5,34.3,41.4,34.7,24.8,45.8,48.3,44.1,50.2,29.9,48.3,10.5,null,null,17.2,null,73.9,25.0,8.8,34.3,35.1,2.0,174.7,32.6,25.0,53.9,45.8,6.6,11.9,25.5,50.6,25.3,38.3,6.2,null,26.6,11.6,31.6,23.9,11.2,47.4,31.9,11.1,61.1,41.3,44.4,10.8,5.0,43.9,18.6,null,null,null,null,null,null,null,null,null]]},{\"yaxis\":{\"title\":\"Fish Intake\"}}],\"label\":\"Fish Intake\",\"method\":\"update\"},{\"args\":[{\"y\":[[91.1,65.8,404.9,null,428.4,519.1,403.7,223.8,666.3,558.7,454.1,29.8,767.5,54.3,36.8,45.3,1337.9,411.9,304.6,710.5,463.9,246.9,212.6,283.2,173.5,79.8,126.5,125.2,36.3,532.6,490.6,388.2,62.9,54.1,62.9,52.0,95.3,169.3,87.2,98.3,309.4,289.1,514.5,465.4,481.5,80.3,273.4,563.9,194.8,465.2,152.7,134.7,76.9,732.7,1557.0,81.3,750.7,79.6,671.1,54.1,82.6,671.7,863.8,39.3,43.2,26.9,76.6,70.7,530.1,170.3,185.7,233.2,171.9,660.0,89.8,426.0,53.6,107.8,1004.9,259.7,396.7,770.8,1094.2,322.6,251.1,327.1,187.9,628.6,112.5,173.7,25.1,58.6,null,181.7,579.4,71.7,445.0,56.2,396.0,164.6,null,173.8,78.9,1081.8,631.3,677.6,282.6,null,584.1,53.1,229.4,370.5,103.6,639.6,92.5,514.5,111.4,920.0,738.8,39.9,94.7,116.8,34.9,68.2,130.9,79.4,49.6,203.0,685.7,640.1,63.8,null,974.4,402.8,87.8,253.9,319.2,109.7,null,38.2,651.4,null,470.3,327.8,403.3,396.1,1006.2,615.2,35.0,374.7,107.3,44.9,74.6,117.2,45.2,245.6,null,null,481.1,null,142.7,243.5,309.0,569.9,609.9,70.3,87.5,388.9,37.8,23.4,92.6,188.2,693.6,68.2,106.8,204.6,279.1,660.3,null,54.0,65.6,539.7,318.1,513.0,589.0,257.5,325.1,68.1,88.1,176.8,200.1,133.9,42.5,97.8,null,null,null,null,null,null,null,null,null]]},{\"yaxis\":{\"title\":\"Dairy Intake\"}}],\"label\":\"Dairy Intake\",\"method\":\"update\"},{\"args\":[{\"y\":[[10.7,16.8,61.6,null,29.6,86.7,62.4,36.3,61.6,106.2,99.3,11.8,57.4,16.5,2.7,8.1,73.3,42.3,53.5,150.5,61.9,98.7,99.5,75.2,64.8,90.8,17.9,25.0,80.0,46.4,49.3,18.6,105.0,13.6,13.0,12.1,22.4,93.5,24.6,21.5,73.1,132.7,67.5,65.4,50.3,16.1,27.0,55.7,51.8,36.6,55.2,29.9,21.5,56.9,79.2,10.6,65.3,21.0,46.1,27.9,32.4,42.7,15.3,14.6,13.8,6.6,19.6,21.9,78.5,27.0,57.3,47.9,30.2,251.5,17.8,22.3,23.9,3.5,40.8,16.2,67.2,58.3,132.1,53.4,12.2,55.5,90.2,103.2,14.7,42.5,24.8,28.9,null,42.0,26.9,41.7,27.0,22.3,39.2,40.6,null,45.9,23.5,143.5,95.4,212.1,24.8,null,99.0,28.8,38.0,47.4,30.1,51.7,21.4,63.3,128.4,205.6,74.5,19.0,16.4,44.9,13.5,21.4,25.4,8.2,21.2,49.9,47.9,85.3,11.5,null,55.9,43.3,27.0,85.1,108.9,25.1,null,240.8,69.3,null,65.6,96.0,40.6,39.9,69.5,183.9,4.7,40.4,17.3,7.7,44.7,66.5,10.0,63.0,null,null,77.3,null,7.8,75.5,29.5,59.3,70.7,19.1,18.5,37.5,32.2,13.4,35.0,51.5,92.0,19.0,30.7,72.8,41.7,45.0,null,27.1,10.9,39.0,79.9,35.7,107.0,49.0,57.8,51.8,43.7,27.4,22.9,148.6,41.2,27.1,null,null,null,null,null,null,null,null,null]]},{\"yaxis\":{\"title\":\"Red Meat Intake\"}}],\"label\":\"Red Meat Intake\",\"method\":\"update\"}],\"direction\":\"down\",\"showactive\":true}]},                        {\"responsive\": true}                    ).then(function(){\n",
       "                            \n",
       "var gd = document.getElementById('bf2bcde1-a738-4428-bb47-0bb2a7796d5c');\n",
       "var x = new MutationObserver(function (mutations, observer) {{\n",
       "        var display = window.getComputedStyle(gd).display;\n",
       "        if (!display || display === 'none') {{\n",
       "            console.log([gd, 'removed!']);\n",
       "            Plotly.purge(gd);\n",
       "            observer.disconnect();\n",
       "        }}\n",
       "}});\n",
       "\n",
       "// Listen for the removal of the full notebook cells\n",
       "var notebookContainer = gd.closest('#notebook-container');\n",
       "if (notebookContainer) {{\n",
       "    x.observe(notebookContainer, {childList: true});\n",
       "}}\n",
       "\n",
       "// Listen for the clearing of the current output cell\n",
       "var outputEl = gd.closest('.output');\n",
       "if (outputEl) {{\n",
       "    x.observe(outputEl, {childList: true});\n",
       "}}\n",
       "\n",
       "                        })                };                });            </script>        </div>"
      ]
     },
     "metadata": {},
     "output_type": "display_data"
    }
   ],
   "source": [
    "#Click to see code\n",
    "dietary_columns = {\n",
    "    'Fruit Intake': 'fruit_dietary_intake',\n",
    "    'Vegetable Intake': 'vegetables_dietary_intake',\n",
    "    'Legume Intake': 'legumes_dietary_intake',\n",
    "    'Nut Intake': 'nuts_dietary_intake',\n",
    "    'Whole Grains Intake': 'whole_grains_dietary_intake',\n",
    "    'Fish Intake': 'fish_dietary_intake',\n",
    "    'Dairy Intake': 'dairy_dietary_intake',\n",
    "    'Red Meat Intake': 'red_meat_dietary_intake'\n",
    "}\n",
    "\n",
    "# Create the initial plot\n",
    "fig = px.scatter(data, x='gdp_per_capita_mean_2011_2021', y='fruit_dietary_intake',\n",
    "                 labels={'gdp_per_capita_mean_2011_2021': 'GDP per Capita',\n",
    "                         'fruit_dietary_intake': 'Fruit Intake'},\n",
    "                 title='GDP per Capita vs Dietary Intake')\n",
    "\n",
    "# Update layout with dropdown\n",
    "fig.update_layout(\n",
    "    updatemenus=[\n",
    "        {\n",
    "            'buttons': [\n",
    "                {\n",
    "                    'method': 'update',\n",
    "                    'label': dietary_label,\n",
    "                    'args': [{'y': [data[dietary_col]]},\n",
    "                             {'yaxis': {'title': dietary_label}}]\n",
    "                }\n",
    "                for dietary_label, dietary_col in dietary_columns.items()\n",
    "            ],\n",
    "            'direction': 'down',\n",
    "            'showactive': True,\n",
    "        }\n",
    "    ]\n",
    ")\n",
    "\n",
    "fig.update_layout(title='GDP per Capita vs Various Dietary Intakes')\n",
    "\n",
    "fig.show()\n"
   ]
  },
  {
   "cell_type": "markdown",
   "id": "1b0ea7f1-4038-4c43-a096-6a4233e1e7a8",
   "metadata": {},
   "source": [
    "The interactive plot highlights significant differences in dietary habits based on economic status. Countries with higher GDP per capita generally exhibit higher consumption of fruits, vegetables, whole grains, fish, and dairy products. These findings underscore the importance of economic factors in determining access to and preferences for healthy foods. Public health initiatives in lower GDP countries may need to focus on improving the availability and affordability of nutritious foods to foster better dietary habits and overall health outcomes."
   ]
  },
  {
   "cell_type": "markdown",
   "id": "d776a121-382a-42d2-80cb-888a3a577957",
   "metadata": {},
   "source": [
    "#### Economic Prosperity and the Prevalence of Lifestyle-Related Diseases\n",
    "However, higher GDP per capita also correlates with increased rates of obesity and overweight. This can be attributed to lifestyle changes that come with economic development, such as higher consumption of processed foods and reduced physical activity. The pair plot and bubble plot reveal that even in economically prosperous countries, high obesity rates persist, highlighting the complex relationship between wealth and health."
   ]
  },
  {
   "cell_type": "code",
   "execution_count": 12,
   "id": "85c4d2ff-5e66-4a4e-ab61-68c2f6df36c4",
   "metadata": {
    "editable": true,
    "slideshow": {
     "slide_type": ""
    },
    "tags": [
     "hide-input"
    ]
   },
   "outputs": [
    {
     "data": {
      "application/vnd.plotly.v1+json": {
       "config": {
        "plotlyServerURL": "https://plot.ly"
       },
       "data": [
        {
         "hovertemplate": "Disease=Obesity Rate<br>GDP per Capita=%{x}<br>Prevalence=%{y}<extra></extra>",
         "legendgroup": "",
         "marker": {
          "color": "#636efa",
          "symbol": "circle"
         },
         "mode": "markers",
         "name": "",
         "orientation": "v",
         "showlegend": false,
         "type": "scatter",
         "x": [
          2459.23,
          7647.41,
          12657.3,
          55834.76,
          66279.79,
          22992.22,
          11557.68,
          19179.26,
          49038.71,
          53927.94,
          14345.73,
          798.25,
          49848.48,
          3039.7,
          2004.17,
          4236.27,
          20669.9,
          48405.7,
          36124.69,
          13198.69,
          18766.01,
          6895.51,
          7941.24,
          15036.48,
          15013.58,
          62848.43,
          10188.37,
          15368.49,
          960.74,
          47763.47,
          69357.23,
          23290.36,
          13395.27,
          4435.71,
          3431.3,
          1033.74,
          5347.27,
          14244.26,
          2939.72,
          6387.39,
          18825.13,
          null,
          37016.34,
          37179.01,
          51957.24,
          4754.27,
          12301.5,
          54412.58,
          16355.22,
          11307.17,
          11377.44,
          11289.99,
          1734.32,
          37820.66,
          32701.75,
          2155.71,
          46830.52,
          12160.48,
          45508.06,
          3224.99,
          15351.56,
          44411.38,
          13036.32,
          5038.96,
          2142.67,
          2118.21,
          2185.82,
          25939.81,
          28553.07,
          14961.62,
          7768.62,
          13156.91,
          5303.51,
          25822.16,
          2980.85,
          28920.17,
          10582.93,
          5682.67,
          73004.94,
          13108.11,
          10388.29,
          53502.34,
          38209.61,
          41362.7,
          10087.28,
          10300.67,
          40271.79,
          24303.8,
          4564.6,
          4817.17,
          3844.53,
          1966.09,
          24129.12,
          39798.97,
          48156.56,
          6746.81,
          16097.12,
          1641.19,
          12390.65,
          14526.76,
          null,
          11919.21,
          2679.56,
          32411.6,
          112222.73,
          27357.51,
          7303.23,
          null,
          11023.51,
          1539.46,
          22683.08,
          19200.55,
          3416.06,
          15208.02,
          2229.99,
          40654.16,
          4013.48,
          18742.94,
          10722.57,
          1220.2,
          5500.95,
          20014.04,
          1349.33,
          24590.98,
          9986.86,
          1151.44,
          5206.64,
          5449.59,
          54341.03,
          61924.34,
          3419.69,
          8518.67,
          39934.45,
          30565.87,
          4659.42,
          27894.86,
          11930.22,
          7583.65,
          14188.45,
          3529.09,
          29245.89,
          null,
          32064.23,
          11796.58,
          5668.27,
          100441.51,
          25684.25,
          26280.31,
          1950.06,
          47572.5,
          4584.43,
          3073.29,
          91189.77,
          2301.51,
          1680.19,
          8211.53,
          59826.24,
          915.85,
          16565.02,
          1056.54,
          3837.22,
          18405.7,
          29876.24,
          35662.4,
          51194.07,
          8464.76,
          25517.21,
          null,
          1680.12,
          1949.85,
          16657.62,
          2962.67,
          15564.02,
          3189.15,
          5470.4,
          27079,
          10208.93,
          26480.86,
          3964.63,
          2449.36,
          2347.14,
          12341.19,
          21781.44,
          58978.44,
          6588.91,
          11871.03,
          13592.55,
          8654.12,
          2631.22,
          5368.8,
          2599.94,
          13697.11,
          3309.54,
          2291.12,
          null,
          null,
          null,
          null,
          null,
          null,
          null,
          null,
          null
         ],
         "xaxis": "x",
         "y": [
          4.79,
          7.17,
          20.21,
          25.06,
          32.76,
          26.9,
          18.9,
          17.59,
          27.56,
          19.03,
          18.3,
          4.73,
          21.19,
          8.57,
          4.65,
          3.12,
          23.8,
          29.94,
          29.94,
          16.81,
          23.25,
          22.64,
          18.83,
          20.7,
          21.59,
          12.84,
          5.83,
          17.76,
          6.6,
          27.96,
          18.55,
          26.7,
          5.42,
          9.5,
          10.28,
          5.9,
          8.68,
          20.91,
          7.01,
          10.6,
          23.94,
          23.38,
          20.88,
          25.01,
          21.24,
          12.7,
          26.29,
          18.68,
          25.62,
          25.69,
          18.66,
          30.18,
          4.25,
          22.79,
          20.31,
          3.88,
          21.19,
          28.64,
          20.6,
          43.97,
          14.03,
          26.26,
          19.93,
          9.68,
          6.82,
          9.26,
          8.38,
          7.46,
          23.75,
          19.8,
          19.35,
          18.4,
          19.74,
          23.08,
          20.37,
          25.17,
          5.97,
          3.43,
          23.71,
          24.23,
          28.73,
          20.86,
          25.25,
          19.06,
          22.87,
          34.13,
          3.85,
          19.46,
          6.23,
          15.01,
          3.26,
          44.38,
          21.16,
          4.3,
          38.13,
          4.45,
          30.86,
          8.97,
          30.83,
          18.08,
          null,
          4.43,
          14.52,
          25.14,
          21.5,
          22.57,
          24.11,
          null,
          17.76,
          4.62,
          7.44,
          27.25,
          51.5,
          21.36,
          7.53,
          27.96,
          4.89,
          22.18,
          18.75,
          6.24,
          11.51,
          9.89,
          5.06,
          13.97,
          15.11,
          4.96,
          7.89,
          22.06,
          19.26,
          21.91,
          3.52,
          60.14,
          29.25,
          26.59,
          7.7,
          21.38,
          18.62,
          5.73,
          53.9,
          19.75,
          21.98,
          6.14,
          19.62,
          18.96,
          30.98,
          36.34,
          21.31,
          21.76,
          4.93,
          34.93,
          7.37,
          7.69,
          5.76,
          20.92,
          7.75,
          22.49,
          null,
          7.32,
          20.45,
          null,
          11.02,
          25.03,
          19.55,
          19.28,
          19.53,
          14.75,
          13.02,
          26.14,
          5.38,
          7.37,
          8.55,
          12.88,
          16.99,
          3.24,
          46.23,
          16.98,
          25.22,
          30.11,
          49.77,
          7.39,
          4.63,
          22.92,
          26.53,
          34.57,
          15.07,
          22.2,
          24.55,
          1.75,
          23.53,
          45.86,
          15.43,
          26.04,
          7.22,
          14.21,
          null,
          null,
          null,
          null,
          null,
          null,
          null,
          null,
          null
         ],
         "yaxis": "y"
        },
        {
         "hovertemplate": "<b>OLS trendline</b><br>Prevalence = 0.000152396 * gdp_per_capita_mean_2011_2021 + 15.5851<br>R<sup>2</sup>=0.079459<br><br>Disease=Obesity Rate<br>GDP per Capita=%{x}<br>Prevalence=%{y} <b>(trend)</b><extra></extra>",
         "legendgroup": "",
         "marker": {
          "color": "#636efa",
          "symbol": "circle"
         },
         "mode": "lines",
         "name": "",
         "showlegend": false,
         "type": "scatter",
         "x": [
          798.25,
          915.85,
          960.74,
          1033.74,
          1151.44,
          1220.2,
          1349.33,
          1539.46,
          1641.19,
          1680.12,
          1680.19,
          1734.32,
          1949.85,
          1950.06,
          1966.09,
          2004.17,
          2118.21,
          2142.67,
          2155.71,
          2185.82,
          2229.99,
          2291.12,
          2301.51,
          2347.14,
          2449.36,
          2459.23,
          2599.94,
          2631.22,
          2679.56,
          2939.72,
          2962.67,
          2980.85,
          3039.7,
          3073.29,
          3189.15,
          3224.99,
          3309.54,
          3416.06,
          3419.69,
          3431.3,
          3529.09,
          3837.22,
          3844.53,
          3964.63,
          4013.48,
          4236.27,
          4435.71,
          4564.6,
          4584.43,
          4659.42,
          4754.27,
          4817.17,
          5038.96,
          5206.64,
          5303.51,
          5347.27,
          5368.8,
          5449.59,
          5470.4,
          5500.95,
          5668.27,
          5682.67,
          6387.39,
          6588.91,
          6746.81,
          6895.51,
          7303.23,
          7583.65,
          7647.41,
          7768.62,
          7941.24,
          8211.53,
          8464.76,
          8518.67,
          8654.12,
          9986.86,
          10087.28,
          10188.37,
          10208.93,
          10300.67,
          10388.29,
          10582.93,
          10722.57,
          11023.51,
          11289.99,
          11307.17,
          11377.44,
          11557.68,
          11796.58,
          11871.03,
          11919.21,
          11930.22,
          12160.48,
          12301.5,
          12341.19,
          12390.65,
          12657.3,
          13036.32,
          13108.11,
          13156.91,
          13198.69,
          13395.27,
          13592.55,
          13697.11,
          14188.45,
          14244.26,
          14345.73,
          14526.76,
          14961.62,
          15013.58,
          15036.48,
          15208.02,
          15351.56,
          15368.49,
          15564.02,
          16097.12,
          16355.22,
          16565.02,
          16657.62,
          18405.7,
          18742.94,
          18766.01,
          18825.13,
          19179.26,
          19200.55,
          20014.04,
          20669.9,
          21781.44,
          22683.08,
          22992.22,
          23290.36,
          24129.12,
          24303.8,
          24590.98,
          25517.21,
          25684.25,
          25822.16,
          25939.81,
          26280.31,
          26480.86,
          27079,
          27357.51,
          27894.86,
          28553.07,
          28920.17,
          29245.89,
          29876.24,
          30565.87,
          32064.23,
          32411.6,
          32701.75,
          35662.4,
          36124.69,
          37016.34,
          37179.01,
          37820.66,
          38209.61,
          39798.97,
          39934.45,
          40271.79,
          40654.16,
          41362.7,
          44411.38,
          45508.06,
          46830.52,
          47572.5,
          47763.47,
          48156.56,
          48405.7,
          49038.71,
          49848.48,
          51194.07,
          51957.24,
          53502.34,
          53927.94,
          54341.03,
          54412.58,
          55834.76,
          58978.44,
          61924.34,
          62848.43,
          66279.79,
          69357.23,
          73004.94,
          91189.77,
          100441.51,
          112222.73
         ],
         "xaxis": "x",
         "y": [
          15.706791785961343,
          15.724713551854952,
          15.731554606880158,
          15.742679512579423,
          15.760616518069883,
          15.771095264862778,
          15.790774156272999,
          15.819749201760686,
          15.83525244363447,
          15.841185218687517,
          15.84119588640531,
          15.8494450801793,
          15.88229098326646,
          15.88232298641984,
          15.884765893794624,
          15.890569132274459,
          15.90794836852027,
          15.911675973909366,
          15.913663217338385,
          15.918251859949411,
          15.92498318987731,
          15.93429915543068,
          15.93588254954322,
          15.942836377585103,
          15.958414293483443,
          15.959918441692372,
          15.981362078417625,
          15.986129024311776,
          15.993495845428248,
          16.033143180588805,
          16.036640668065495,
          16.039411226772515,
          16.048379729517745,
          16.053498710099092,
          16.07115530700754,
          16.076617178517974,
          16.08950225765322,
          16.105735476216037,
          16.10628867358163,
          16.10805799077572,
          16.12296079253368,
          16.16991856230237,
          16.171032576831983,
          16.189335332646802,
          16.1967798757072,
          16.230732173525546,
          16.26112602547981,
          16.280768341857595,
          16.283790353912615,
          16.29521852758916,
          16.309673285199782,
          16.319258991617367,
          16.35305889346723,
          16.37861264946247,
          16.39337524692943,
          16.40004409451025,
          16.40332517971169,
          16.41563725000544,
          16.418808610109572,
          16.42346430694673,
          16.44896320039332,
          16.451157702339476,
          16.558554189248873,
          16.589265024817582,
          16.613328348241062,
          16.635989628754494,
          16.698124513024418,
          16.740859390506444,
          16.750576157456923,
          16.769048072796757,
          16.795354664876307,
          16.8365457711976,
          16.87513700229657,
          16.883352668957492,
          16.903994702888525,
          17.10709890592467,
          17.12240250907974,
          17.137808217533696,
          17.140941478645708,
          17.154922284794345,
          17.168275219552832,
          17.19793757085838,
          17.219218143897358,
          17.265080186652654,
          17.305690664334026,
          17.308308827072565,
          17.319017691777873,
          17.346485541137262,
          17.38289293800787,
          17.394238817861435,
          17.40158125562295,
          17.40325913523595,
          17.438349830938865,
          17.459840710414348,
          17.46588930640344,
          17.473426811004614,
          17.514063196000627,
          17.571824315975086,
          17.582764822552488,
          17.59020174581446,
          17.596568849377682,
          17.62652684886209,
          17.65659152552443,
          17.67252604798902,
          17.7474042831435,
          17.75590950214454,
          17.771373121066517,
          17.79896136324101,
          17.86523227409556,
          17.873150768617943,
          17.876640636296205,
          17.902782640729793,
          17.924657558045855,
          17.927237621792273,
          17.95703560550977,
          18.038277896308102,
          18.077611295773586,
          18.109583969961335,
          18.123695836642867,
          18.390096181228774,
          18.441490197640007,
          18.445005972632913,
          18.45401562228963,
          18.507983606608544,
          18.511228116777552,
          18.635200713178854,
          18.735151133068165,
          18.90454534787585,
          19.041951648898937,
          19.089063338595796,
          19.134498672639342,
          19.262322315164212,
          19.288942842938834,
          19.332707917167806,
          19.47386163505589,
          19.499317857631304,
          19.520334785644806,
          19.53826417133684,
          19.590154998605332,
          19.620718010084612,
          19.711872134673083,
          19.754315935855306,
          19.83620590951969,
          19.936514459934937,
          19.992459019965075,
          20.042097434819386,
          20.138160233552696,
          20.243257065297684,
          20.471601088633996,
          20.524538876205963,
          20.568756566461328,
          21.019947690550765,
          21.09039882282081,
          21.226282688118744,
          21.25107294031189,
          21.348857813489058,
          21.408132225430553,
          21.650344281898825,
          21.67099088770891,
          21.722400143716992,
          21.78067179018587,
          21.88865042969487,
          22.353256970889873,
          22.520386581605898,
          22.721924154086032,
          22.83499891478111,
          22.864101972882324,
          22.92400730413334,
          22.961975235721212,
          23.05844340773069,
          23.181849091129234,
          23.386911582360383,
          23.503215613627617,
          23.738682624530824,
          23.803542348717226,
          23.866495599337902,
          23.877399530882865,
          24.094134029340132,
          24.573218187541027,
          25.022161471095338,
          25.162989061610865,
          25.68591449202497,
          26.154903941273545,
          26.710800239468966,
          29.482095019019162,
          30.892022896472824,
          32.68743332828507
         ],
         "yaxis": "y"
        },
        {
         "hovertemplate": "Disease=Overweight Rate<br>GDP per Capita=%{x}<br>Prevalence=%{y}<extra></extra>",
         "legendgroup": "",
         "marker": {
          "color": "#636efa",
          "symbol": "circle"
         },
         "mode": "markers",
         "name": "",
         "orientation": "v",
         "showlegend": false,
         "type": "scatter",
         "x": [
          2459.23,
          7647.41,
          12657.3,
          55834.76,
          66279.79,
          22992.22,
          11557.68,
          19179.26,
          49038.71,
          53927.94,
          14345.73,
          798.25,
          49848.48,
          3039.7,
          2004.17,
          4236.27,
          20669.9,
          48405.7,
          36124.69,
          13198.69,
          18766.01,
          6895.51,
          7941.24,
          15036.48,
          15013.58,
          62848.43,
          10188.37,
          15368.49,
          960.74,
          47763.47,
          69357.23,
          23290.36,
          13395.27,
          4435.71,
          3431.3,
          1033.74,
          5347.27,
          14244.26,
          2939.72,
          6387.39,
          18825.13,
          null,
          37016.34,
          37179.01,
          51957.24,
          4754.27,
          12301.5,
          54412.58,
          16355.22,
          11307.17,
          11377.44,
          11289.99,
          1734.32,
          37820.66,
          32701.75,
          2155.71,
          46830.52,
          12160.48,
          45508.06,
          3224.99,
          15351.56,
          44411.38,
          13036.32,
          5038.96,
          2142.67,
          2118.21,
          2185.82,
          25939.81,
          28553.07,
          14961.62,
          7768.62,
          13156.91,
          5303.51,
          25822.16,
          2980.85,
          28920.17,
          10582.93,
          5682.67,
          73004.94,
          13108.11,
          10388.29,
          53502.34,
          38209.61,
          41362.7,
          10087.28,
          10300.67,
          40271.79,
          24303.8,
          4564.6,
          4817.17,
          3844.53,
          1966.09,
          24129.12,
          39798.97,
          48156.56,
          6746.81,
          16097.12,
          1641.19,
          12390.65,
          14526.76,
          null,
          11919.21,
          2679.56,
          32411.6,
          112222.73,
          27357.51,
          7303.23,
          null,
          11023.51,
          1539.46,
          22683.08,
          19200.55,
          3416.06,
          15208.02,
          2229.99,
          40654.16,
          4013.48,
          18742.94,
          10722.57,
          1220.2,
          5500.95,
          20014.04,
          1349.33,
          24590.98,
          9986.86,
          1151.44,
          5206.64,
          5449.59,
          54341.03,
          61924.34,
          3419.69,
          8518.67,
          39934.45,
          30565.87,
          4659.42,
          27894.86,
          11930.22,
          7583.65,
          14188.45,
          3529.09,
          29245.89,
          null,
          32064.23,
          11796.58,
          5668.27,
          100441.51,
          25684.25,
          26280.31,
          1950.06,
          47572.5,
          4584.43,
          3073.29,
          91189.77,
          2301.51,
          1680.19,
          8211.53,
          59826.24,
          915.85,
          16565.02,
          1056.54,
          3837.22,
          18405.7,
          29876.24,
          35662.4,
          51194.07,
          8464.76,
          25517.21,
          null,
          1680.12,
          1949.85,
          16657.62,
          2962.67,
          15564.02,
          3189.15,
          5470.4,
          27079,
          10208.93,
          26480.86,
          3964.63,
          2449.36,
          2347.14,
          12341.19,
          21781.44,
          58978.44,
          6588.91,
          11871.03,
          13592.55,
          8654.12,
          2631.22,
          5368.8,
          2599.94,
          13697.11,
          3309.54,
          2291.12,
          null,
          null,
          null,
          null,
          null,
          null,
          null,
          null,
          null
         ],
         "xaxis": "x2",
         "y": [
          21.33,
          25.51,
          55.94,
          63.1,
          67.35,
          61.5,
          53,
          46.39,
          63.35,
          53.29,
          51.8,
          20.7,
          58.77,
          27.73,
          21.06,
          18.54,
          60.49,
          64.95,
          62.86,
          52.04,
          58.38,
          53.16,
          54.45,
          54.92,
          50.67,
          39.14,
          25.52,
          41.7,
          24.44,
          62.93,
          53.35,
          61.77,
          30.36,
          30.33,
          31.81,
          23.53,
          29.3,
          57.48,
          25.67,
          32.77,
          59.61,
          57.04,
          58.01,
          61.36,
          55.78,
          37.34,
          58.56,
          54.52,
          58.9,
          60.12,
          54.49,
          61.73,
          20.24,
          60.59,
          54.88,
          19.48,
          56.97,
          62.26,
          58.48,
          74.61,
          38.67,
          62.48,
          52.36,
          30.01,
          25.03,
          30.03,
          28.03,
          25.76,
          61.17,
          49.55,
          53.93,
          47.21,
          53.8,
          58.29,
          52.07,
          60.42,
          26.09,
          18.32,
          59.23,
          59.81,
          63.08,
          58.16,
          63.54,
          57.43,
          53.46,
          68.29,
          26.19,
          51.96,
          23.76,
          46.37,
          19.91,
          77.69,
          50.33,
          29.33,
          72.75,
          23.17,
          66.77,
          29.29,
          65.33,
          46.06,
          null,
          21.45,
          35.73,
          58.72,
          57.65,
          56.98,
          58.36,
          null,
          50.65,
          22.22,
          28.19,
          63.49,
          82.62,
          56.92,
          26.05,
          65.48,
          22.71,
          58.27,
          53.45,
          24.51,
          32.51,
          30.96,
          21.91,
          40.15,
          37.51,
          20.84,
          27.22,
          56.48,
          56.65,
          57.11,
          19.52,
          88.05,
          64.53,
          61.35,
          26.71,
          57.29,
          56.06,
          26.04,
          84.22,
          51,
          57.2,
          31.11,
          56.22,
          51.82,
          65.4,
          71,
          56.38,
          55.97,
          23.01,
          68.74,
          26.66,
          26.35,
          31.16,
          53.12,
          26.15,
          58.02,
          null,
          26.66,
          55.99,
          null,
          33.24,
          57.41,
          55.2,
          54.88,
          55.3,
          35.98,
          35.31,
          59.61,
          21.64,
          26.2,
          29.92,
          43.48,
          49.92,
          19.9,
          77.29,
          43.98,
          59.9,
          65.12,
          80.65,
          25.85,
          21.04,
          57.44,
          61.57,
          66.68,
          46.38,
          53.13,
          62.35,
          16.57,
          55.31,
          76.66,
          46.52,
          51.23,
          26.26,
          36.36,
          null,
          null,
          null,
          null,
          null,
          null,
          null,
          null,
          null
         ],
         "yaxis": "y2"
        },
        {
         "hovertemplate": "<b>OLS trendline</b><br>Prevalence = 0.000344533 * gdp_per_capita_mean_2011_2021 + 40.5702<br>R<sup>2</sup>=0.163925<br><br>Disease=Overweight Rate<br>GDP per Capita=%{x}<br>Prevalence=%{y} <b>(trend)</b><extra></extra>",
         "legendgroup": "",
         "marker": {
          "color": "#636efa",
          "symbol": "circle"
         },
         "mode": "lines",
         "name": "",
         "showlegend": false,
         "type": "scatter",
         "x": [
          798.25,
          915.85,
          960.74,
          1033.74,
          1151.44,
          1220.2,
          1349.33,
          1539.46,
          1641.19,
          1680.12,
          1680.19,
          1734.32,
          1949.85,
          1950.06,
          1966.09,
          2004.17,
          2118.21,
          2142.67,
          2155.71,
          2185.82,
          2229.99,
          2291.12,
          2301.51,
          2347.14,
          2449.36,
          2459.23,
          2599.94,
          2631.22,
          2679.56,
          2939.72,
          2962.67,
          2980.85,
          3039.7,
          3073.29,
          3189.15,
          3224.99,
          3309.54,
          3416.06,
          3419.69,
          3431.3,
          3529.09,
          3837.22,
          3844.53,
          3964.63,
          4013.48,
          4236.27,
          4435.71,
          4564.6,
          4584.43,
          4659.42,
          4754.27,
          4817.17,
          5038.96,
          5206.64,
          5303.51,
          5347.27,
          5368.8,
          5449.59,
          5470.4,
          5500.95,
          5668.27,
          5682.67,
          6387.39,
          6588.91,
          6746.81,
          6895.51,
          7303.23,
          7583.65,
          7647.41,
          7768.62,
          7941.24,
          8211.53,
          8464.76,
          8518.67,
          8654.12,
          9986.86,
          10087.28,
          10188.37,
          10208.93,
          10300.67,
          10388.29,
          10582.93,
          10722.57,
          11023.51,
          11289.99,
          11307.17,
          11377.44,
          11557.68,
          11796.58,
          11871.03,
          11919.21,
          11930.22,
          12160.48,
          12301.5,
          12341.19,
          12390.65,
          12657.3,
          13036.32,
          13108.11,
          13156.91,
          13198.69,
          13395.27,
          13592.55,
          13697.11,
          14188.45,
          14244.26,
          14345.73,
          14526.76,
          14961.62,
          15013.58,
          15036.48,
          15208.02,
          15351.56,
          15368.49,
          15564.02,
          16097.12,
          16355.22,
          16565.02,
          16657.62,
          18405.7,
          18742.94,
          18766.01,
          18825.13,
          19179.26,
          19200.55,
          20014.04,
          20669.9,
          21781.44,
          22683.08,
          22992.22,
          23290.36,
          24129.12,
          24303.8,
          24590.98,
          25517.21,
          25684.25,
          25822.16,
          25939.81,
          26280.31,
          26480.86,
          27079,
          27357.51,
          27894.86,
          28553.07,
          28920.17,
          29245.89,
          29876.24,
          30565.87,
          32064.23,
          32411.6,
          32701.75,
          35662.4,
          36124.69,
          37016.34,
          37179.01,
          37820.66,
          38209.61,
          39798.97,
          39934.45,
          40271.79,
          40654.16,
          41362.7,
          44411.38,
          45508.06,
          46830.52,
          47572.5,
          47763.47,
          48156.56,
          48405.7,
          49038.71,
          49848.48,
          51194.07,
          51957.24,
          53502.34,
          53927.94,
          54341.03,
          54412.58,
          55834.76,
          58978.44,
          61924.34,
          62848.43,
          66279.79,
          69357.23,
          73004.94,
          91189.77,
          100441.51,
          112222.73
         ],
         "xaxis": "x2",
         "y": [
          40.84521022213496,
          40.88572732277949,
          40.90119341672449,
          40.926344338042945,
          40.966895892004345,
          40.99058599268732,
          41.03507556076749,
          41.10058165214116,
          41.135631011397685,
          41.14904368765696,
          41.14906780497878,
          41.167717385402995,
          41.24197461926281,
          41.242046971228255,
          41.24756983792325,
          41.260689660989094,
          41.299980223552886,
          41.30840750486041,
          41.31290021738086,
          41.3232741110918,
          41.338492141155314,
          41.35955345376075,
          41.36313315338402,
          41.3788542018739,
          41.41407238238311,
          41.417472924758634,
          41.46595218693288,
          41.47672918445126,
          41.49338391782844,
          41.583017667009386,
          41.590924703232105,
          41.59718831623991,
          41.61746409322061,
          41.62903696235878,
          41.668954575289696,
          41.681302644057546,
          41.71043292347502,
          41.74713259660984,
          41.74838325201239,
          41.752383282101526,
          41.786075180673194,
          41.89223618595889,
          41.89475472342242,
          41.93613315698882,
          41.952963602282054,
          42.02972214694697,
          42.09843584212167,
          42.14284272224133,
          42.149674814977566,
          42.17551135730183,
          42.20819032835738,
          42.2298614646715,
          42.30627547616767,
          42.36404679790299,
          42.39742172595942,
          42.41249849742374,
          42.41991629654684,
          42.44775113124983,
          42.45492086649143,
          42.46544635479662,
          42.52309364459119,
          42.52805492222114,
          42.770854336899795,
          42.84028466106548,
          42.89468644841047,
          42.945918530602995,
          43.0863915941641,
          43.18300558534385,
          43.20497302018309,
          43.24673388556679,
          43.306207201155715,
          43.399331071336064,
          43.4865772056576,
          43.5051509887847,
          43.551818006491345,
          44.010991141805846,
          44.045589162611314,
          44.08041802063984,
          44.08750162258926,
          44.11910909549002,
          44.149297091735534,
          44.21635702770025,
          44.26446763938394,
          44.36815145118635,
          44.45996264999378,
          44.46588172983283,
          44.49009207560061,
          44.55219073393538,
          44.63449970794879,
          44.66015020236193,
          44.67674981043211,
          44.68054312062,
          44.75987532805545,
          44.808461395512005,
          44.82213591697953,
          44.839176527505714,
          44.93104629695182,
          45.06163125856992,
          45.086365294754195,
          45.103178513389,
          45.117573109179204,
          45.18530143949128,
          45.25327094302149,
          45.28929533114557,
          45.458578258277214,
          45.477806654424924,
          45.51276643505758,
          45.57513727459566,
          45.72496096835653,
          45.74286291180457,
          45.750752721368855,
          45.809853941135536,
          45.859308232177334,
          45.8651411787242,
          45.9325077492091,
          46.11617838146758,
          46.20510239232091,
          46.27738545112381,
          46.309289222549694,
          46.91156076417114,
          47.02775112999903,
          47.035699510202,
          47.05606831113826,
          47.17807784218627,
          47.18541295334887,
          47.46568724079203,
          47.69165276484576,
          48.07461516323365,
          48.38526004950177,
          48.491769033287895,
          48.59448815221782,
          48.88346879283519,
          48.94365184675173,
          49.0425948821522,
          49.36171183903977,
          49.4192626595471,
          49.466777228848855,
          49.50731155615182,
          49.624625100109824,
          49.693721227101825,
          49.89980029665554,
          49.99575622948298,
          50.18089112770862,
          50.407666304708904,
          50.53414443095555,
          50.64636577467949,
          50.86354225759851,
          51.101142666760786,
          51.617377385482996,
          51.73705787231028,
          51.83702417122193,
          52.857066297269675,
          53.016340535849245,
          53.32354353576159,
          53.379588746321495,
          53.60065845404735,
          53.73466463003109,
          54.28225186710918,
          54.32892922081088,
          54.445154039955646,
          54.576893187689045,
          54.82100871907231,
          55.87138009996477,
          56.249222735465096,
          56.70485406980488,
          56.96049079035102,
          57.02628628958644,
          57.16171883288879,
          57.247555826550155,
          57.46564876769804,
          57.74464139175346,
          58.20824177828635,
          58.47117915667821,
          59.0035173557076,
          59.15015067232589,
          59.292473879003154,
          59.31712522722694,
          59.80711340915407,
          60.8902154410774,
          61.90517570288614,
          62.2235553587926,
          63.405772692700765,
          64.46605284752636,
          65.72280993249271,
          71.98808703549943,
          75.17561833411324,
          79.23463939240662
         ],
         "yaxis": "y2"
        },
        {
         "hovertemplate": "Disease=Blood Pressure<br>GDP per Capita=%{x}<br>Prevalence=%{y}<extra></extra>",
         "legendgroup": "",
         "marker": {
          "color": "#636efa",
          "symbol": "circle"
         },
         "mode": "markers",
         "name": "",
         "orientation": "v",
         "showlegend": false,
         "type": "scatter",
         "x": [
          2459.23,
          7647.41,
          12657.3,
          55834.76,
          66279.79,
          22992.22,
          11557.68,
          19179.26,
          49038.71,
          53927.94,
          14345.73,
          798.25,
          49848.48,
          3039.7,
          2004.17,
          4236.27,
          20669.9,
          48405.7,
          36124.69,
          13198.69,
          18766.01,
          6895.51,
          7941.24,
          15036.48,
          15013.58,
          62848.43,
          10188.37,
          15368.49,
          960.74,
          47763.47,
          69357.23,
          23290.36,
          13395.27,
          4435.71,
          3431.3,
          1033.74,
          5347.27,
          14244.26,
          2939.72,
          6387.39,
          18825.13,
          null,
          37016.34,
          37179.01,
          51957.24,
          4754.27,
          12301.5,
          54412.58,
          16355.22,
          11307.17,
          11377.44,
          11289.99,
          1734.32,
          37820.66,
          32701.75,
          2155.71,
          46830.52,
          12160.48,
          45508.06,
          3224.99,
          15351.56,
          44411.38,
          13036.32,
          5038.96,
          2142.67,
          2118.21,
          2185.82,
          25939.81,
          28553.07,
          14961.62,
          7768.62,
          13156.91,
          5303.51,
          25822.16,
          2980.85,
          28920.17,
          10582.93,
          5682.67,
          73004.94,
          13108.11,
          10388.29,
          53502.34,
          38209.61,
          41362.7,
          10087.28,
          10300.67,
          40271.79,
          24303.8,
          4564.6,
          4817.17,
          3844.53,
          1966.09,
          24129.12,
          39798.97,
          48156.56,
          6746.81,
          16097.12,
          1641.19,
          12390.65,
          14526.76,
          null,
          11919.21,
          2679.56,
          32411.6,
          112222.73,
          27357.51,
          7303.23,
          null,
          11023.51,
          1539.46,
          22683.08,
          19200.55,
          3416.06,
          15208.02,
          2229.99,
          40654.16,
          4013.48,
          18742.94,
          10722.57,
          1220.2,
          5500.95,
          20014.04,
          1349.33,
          24590.98,
          9986.86,
          1151.44,
          5206.64,
          5449.59,
          54341.03,
          61924.34,
          3419.69,
          8518.67,
          39934.45,
          30565.87,
          4659.42,
          27894.86,
          11930.22,
          7583.65,
          14188.45,
          3529.09,
          29245.89,
          null,
          32064.23,
          11796.58,
          5668.27,
          100441.51,
          25684.25,
          26280.31,
          1950.06,
          47572.5,
          4584.43,
          3073.29,
          91189.77,
          2301.51,
          1680.19,
          8211.53,
          59826.24,
          915.85,
          16565.02,
          1056.54,
          3837.22,
          18405.7,
          29876.24,
          35662.4,
          51194.07,
          8464.76,
          25517.21,
          null,
          1680.12,
          1949.85,
          16657.62,
          2962.67,
          15564.02,
          3189.15,
          5470.4,
          27079,
          10208.93,
          26480.86,
          3964.63,
          2449.36,
          2347.14,
          12341.19,
          21781.44,
          58978.44,
          6588.91,
          11871.03,
          13592.55,
          8654.12,
          2631.22,
          5368.8,
          2599.94,
          13697.11,
          3309.54,
          2291.12,
          null,
          null,
          null,
          null,
          null,
          null,
          null,
          null,
          null
         ],
         "xaxis": "x3",
         "y": [
          30.45,
          29.88,
          29.45,
          19.61,
          21.12,
          23.3,
          25.56,
          23.15,
          16.06,
          21.89,
          24.59,
          28.72,
          18.08,
          28.1,
          32.39,
          24.99,
          28.84,
          21.63,
          21.71,
          30.73,
          28.18,
          22.9,
          18.29,
          24.08,
          24.4,
          19.33,
          28.08,
          29.74,
          31.15,
          13.9,
          18.54,
          21.62,
          19.52,
          27.75,
          25.36,
          28.54,
          26.59,
          19.69,
          27.59,
          29.98,
          19.22,
          19.48,
          20.4,
          28.32,
          20.95,
          27.4,
          23.08,
          21.78,
          22.14,
          25.74,
          18.17,
          25.2,
          28.66,
          20.11,
          28.13,
          29.88,
          20.25,
          21.78,
          23.17,
          24.55,
          26.04,
          16.2,
          26.26,
          24.3,
          30.2,
          29.66,
          30.54,
          28.48,
          19.76,
          24.22,
          21.39,
          22.86,
          21.63,
          32.4,
          24.91,
          30.82,
          24.01,
          25.61,
          20.74,
          20.51,
          25.59,
          20.46,
          17.58,
          22.27,
          22.15,
          21.68,
          18.14,
          27.17,
          26.45,
          26.52,
          25.69,
          21.46,
          25.35,
          11.92,
          24,
          24.87,
          21.02,
          28.57,
          24.38,
          26.93,
          null,
          22.12,
          28.45,
          30.16,
          22.89,
          29.99,
          26.56,
          null,
          29.95,
          28.05,
          24.47,
          20.24,
          21.5,
          28.75,
          32.42,
          20.39,
          24.47,
          29.68,
          29.6,
          28.84,
          32.21,
          25.09,
          28.37,
          23.59,
          28.74,
          33.53,
          24.59,
          21.07,
          19.76,
          20.52,
          29.36,
          21.11,
          16.99,
          24.88,
          30.33,
          20.11,
          14.34,
          22.58,
          23.28,
          25.03,
          29.28,
          18.22,
          25.32,
          25.02,
          22.85,
          22.06,
          30.13,
          28.13,
          26.51,
          23.69,
          30.07,
          30.39,
          15.53,
          21.79,
          30.58,
          19.21,
          null,
          33,
          30.11,
          null,
          26.45,
          22.74,
          28.99,
          30.68,
          20.35,
          29.49,
          23.66,
          25.03,
          32.58,
          29,
          22.35,
          25.82,
          25.49,
          27.47,
          23.23,
          25.36,
          23.79,
          21.08,
          23.84,
          27.08,
          26.82,
          27.86,
          21.77,
          13.17,
          25.4,
          23.61,
          19.37,
          23.19,
          23.96,
          23.51,
          30.54,
          27.25,
          27.2,
          28.17,
          null,
          null,
          null,
          null,
          null,
          null,
          null,
          null,
          null
         ],
         "yaxis": "y3"
        },
        {
         "hovertemplate": "<b>OLS trendline</b><br>Prevalence = -0.000108829 * gdp_per_capita_mean_2011_2021 + 26.8796<br>R<sup>2</sup>=0.253283<br><br>Disease=Blood Pressure<br>GDP per Capita=%{x}<br>Prevalence=%{y} <b>(trend)</b><extra></extra>",
         "legendgroup": "",
         "marker": {
          "color": "#636efa",
          "symbol": "circle"
         },
         "mode": "lines",
         "name": "",
         "showlegend": false,
         "type": "scatter",
         "x": [
          798.25,
          915.85,
          960.74,
          1033.74,
          1151.44,
          1220.2,
          1349.33,
          1539.46,
          1641.19,
          1680.12,
          1680.19,
          1734.32,
          1949.85,
          1950.06,
          1966.09,
          2004.17,
          2118.21,
          2142.67,
          2155.71,
          2185.82,
          2229.99,
          2291.12,
          2301.51,
          2347.14,
          2449.36,
          2459.23,
          2599.94,
          2631.22,
          2679.56,
          2939.72,
          2962.67,
          2980.85,
          3039.7,
          3073.29,
          3189.15,
          3224.99,
          3309.54,
          3416.06,
          3419.69,
          3431.3,
          3529.09,
          3837.22,
          3844.53,
          3964.63,
          4013.48,
          4236.27,
          4435.71,
          4564.6,
          4584.43,
          4659.42,
          4754.27,
          4817.17,
          5038.96,
          5206.64,
          5303.51,
          5347.27,
          5368.8,
          5449.59,
          5470.4,
          5500.95,
          5668.27,
          5682.67,
          6387.39,
          6588.91,
          6746.81,
          6895.51,
          7303.23,
          7583.65,
          7647.41,
          7768.62,
          7941.24,
          8211.53,
          8464.76,
          8518.67,
          8654.12,
          9986.86,
          10087.28,
          10188.37,
          10208.93,
          10300.67,
          10388.29,
          10582.93,
          10722.57,
          11023.51,
          11289.99,
          11307.17,
          11377.44,
          11557.68,
          11796.58,
          11871.03,
          11919.21,
          11930.22,
          12160.48,
          12301.5,
          12341.19,
          12390.65,
          12657.3,
          13036.32,
          13108.11,
          13156.91,
          13198.69,
          13395.27,
          13592.55,
          13697.11,
          14188.45,
          14244.26,
          14345.73,
          14526.76,
          14961.62,
          15013.58,
          15036.48,
          15208.02,
          15351.56,
          15368.49,
          15564.02,
          16097.12,
          16355.22,
          16565.02,
          16657.62,
          18405.7,
          18742.94,
          18766.01,
          18825.13,
          19179.26,
          19200.55,
          20014.04,
          20669.9,
          21781.44,
          22683.08,
          22992.22,
          23290.36,
          24129.12,
          24303.8,
          24590.98,
          25517.21,
          25684.25,
          25822.16,
          25939.81,
          26280.31,
          26480.86,
          27079,
          27357.51,
          27894.86,
          28553.07,
          28920.17,
          29245.89,
          29876.24,
          30565.87,
          32064.23,
          32411.6,
          32701.75,
          35662.4,
          36124.69,
          37016.34,
          37179.01,
          37820.66,
          38209.61,
          39798.97,
          39934.45,
          40271.79,
          40654.16,
          41362.7,
          44411.38,
          45508.06,
          46830.52,
          47572.5,
          47763.47,
          48156.56,
          48405.7,
          49038.71,
          49848.48,
          51194.07,
          51957.24,
          53502.34,
          53927.94,
          54341.03,
          54412.58,
          55834.76,
          58978.44,
          61924.34,
          62848.43,
          66279.79,
          69357.23,
          73004.94,
          91189.77,
          100441.51,
          112222.73
         ],
         "xaxis": "x3",
         "y": [
          26.792736781109625,
          26.779938487140484,
          26.77505315196808,
          26.767108632752542,
          26.754299455880364,
          26.74681637175351,
          26.732763279064432,
          26.712071615524017,
          26.70100043826653,
          26.69676372411501,
          26.696756106082884,
          26.69086519067005,
          26.667409269758746,
          26.66738641566237,
          26.665641886305863,
          26.66149767683014,
          26.649086814209046,
          26.64642485612669,
          26.64500572557093,
          26.641728883467092,
          26.63692190519654,
          26.630269186571255,
          26.62913845294592,
          26.624172584291056,
          26.613048080808696,
          26.611973938279142,
          26.596660605418617,
          26.593256433349275,
          26.58799563802216,
          26.559682677486347,
          26.557185051239816,
          26.555206539468056,
          26.54880195103197,
          26.54514638390252,
          26.532537452446185,
          26.528637019998445,
          26.51943552548237,
          26.507843057169502,
          26.507448007789332,
          26.506184502746972,
          26.49554211186906,
          26.462008622747362,
          26.461213082535505,
          26.44814271599049,
          26.442826417857898,
          26.418580398186258,
          26.396875536373283,
          26.382848562651493,
          26.380690482979656,
          26.372529393993723,
          26.362206960465038,
          26.355361614456033,
          26.331224423814742,
          26.31297597200568,
          26.30243370383569,
          26.29767134546758,
          26.29532825644415,
          26.286535959082187,
          26.284271226960605,
          26.280946500083417,
          26.26273722672528,
          26.261170088688246,
          26.184476094420102,
          26.162544868224003,
          26.145360764331762,
          26.12917788751874,
          26.084806115264502,
          26.0542882785738,
          26.047349339598693,
          26.03415817282999,
          26.015372105611,
          25.98595670699774,
          25.95839793164225,
          25.952530958616087,
          25.937790066455204,
          25.792749264546753,
          25.78182065331902,
          25.770819126640955,
          25.76858160177696,
          25.75859762653267,
          25.749062026893416,
          25.72787954442612,
          25.71268265862807,
          25.679931650234586,
          25.650930890226963,
          25.649061207485552,
          25.64141379152287,
          25.621798447092612,
          25.595799191742035,
          25.587696870432488,
          25.582453487750232,
          25.581255280126083,
          25.556196307597727,
          25.540849237737792,
          25.536529813523206,
          25.531147129682104,
          25.50212786873932,
          25.46087948965612,
          25.453066653567305,
          25.44775579688623,
          25.443208919998217,
          25.421815309212043,
          25.400345518104626,
          25.388966354691245,
          25.335494298919155,
          25.32942055073533,
          25.318377669025733,
          25.2986763496615,
          25.251350957523567,
          25.24569620110659,
          25.243204016311577,
          25.224535484445365,
          25.20891416542895,
          25.207071689945124,
          25.18579234964082,
          25.12777559356132,
          25.099686820828026,
          25.07685449026063,
          25.06677692205023,
          24.87653507067628,
          24.839833568481097,
          24.837322882750925,
          24.830888910476645,
          24.792349285958853,
          24.790032315902707,
          24.70150098800341,
          24.630124380158165,
          24.5091565597631,
          24.411031952838467,
          24.377388546396116,
          24.344942259287613,
          24.253660821791378,
          24.23465056676987,
          24.203397045834002,
          24.102596333053064,
          24.084417531823426,
          24.06940892024788,
          24.05660518482722,
          24.0195488999931,
          23.99772323795644,
          23.932628241742982,
          23.90231826850025,
          23.84383898904176,
          23.77220663297519,
          23.732255495933764,
          23.69680770416821,
          23.62820732488719,
          23.553155560687024,
          23.390090494772036,
          23.35228655449941,
          23.320709811343402,
          22.998505142638137,
          22.94819457019771,
          22.851157165286274,
          22.833453946919263,
          22.763623799595287,
          22.721294748240716,
          22.54832624056389,
          22.533582083532092,
          22.496869698433876,
          22.455256742099007,
          22.37814702093493,
          22.046362132687968,
          21.9270115116839,
          21.78308947220745,
          21.70234050826847,
          21.68155742834256,
          21.638777824802343,
          21.611664160180982,
          21.54277429567923,
          21.454647811772837,
          21.30820855682439,
          21.2251535057323,
          21.057001770938758,
          21.010684135621865,
          20.965727951474648,
          20.957941234353115,
          20.803166763970175,
          20.46104311783998,
          20.140443677332378,
          20.03987585867639,
          19.666444277095152,
          19.331529465935333,
          18.934552723637903,
          16.955515307661166,
          15.948657414412308,
          14.666518665474127
         ],
         "yaxis": "y3"
        }
       ],
       "layout": {
        "annotations": [
         {
          "font": {},
          "showarrow": false,
          "text": "Disease=Obesity Rate",
          "x": 0.15999999999999998,
          "xanchor": "center",
          "xref": "paper",
          "y": 1,
          "yanchor": "bottom",
          "yref": "paper"
         },
         {
          "font": {},
          "showarrow": false,
          "text": "Disease=Overweight Rate",
          "x": 0.49999999999999994,
          "xanchor": "center",
          "xref": "paper",
          "y": 1,
          "yanchor": "bottom",
          "yref": "paper"
         },
         {
          "font": {},
          "showarrow": false,
          "text": "Disease=Blood Pressure",
          "x": 0.8399999999999999,
          "xanchor": "center",
          "xref": "paper",
          "y": 1,
          "yanchor": "bottom",
          "yref": "paper"
         }
        ],
        "autosize": true,
        "legend": {
         "tracegroupgap": 0
        },
        "template": {
         "data": {
          "bar": [
           {
            "error_x": {
             "color": "#2a3f5f"
            },
            "error_y": {
             "color": "#2a3f5f"
            },
            "marker": {
             "line": {
              "color": "#E5ECF6",
              "width": 0.5
             },
             "pattern": {
              "fillmode": "overlay",
              "size": 10,
              "solidity": 0.2
             }
            },
            "type": "bar"
           }
          ],
          "barpolar": [
           {
            "marker": {
             "line": {
              "color": "#E5ECF6",
              "width": 0.5
             },
             "pattern": {
              "fillmode": "overlay",
              "size": 10,
              "solidity": 0.2
             }
            },
            "type": "barpolar"
           }
          ],
          "carpet": [
           {
            "aaxis": {
             "endlinecolor": "#2a3f5f",
             "gridcolor": "white",
             "linecolor": "white",
             "minorgridcolor": "white",
             "startlinecolor": "#2a3f5f"
            },
            "baxis": {
             "endlinecolor": "#2a3f5f",
             "gridcolor": "white",
             "linecolor": "white",
             "minorgridcolor": "white",
             "startlinecolor": "#2a3f5f"
            },
            "type": "carpet"
           }
          ],
          "choropleth": [
           {
            "colorbar": {
             "outlinewidth": 0,
             "ticks": ""
            },
            "type": "choropleth"
           }
          ],
          "contour": [
           {
            "colorbar": {
             "outlinewidth": 0,
             "ticks": ""
            },
            "colorscale": [
             [
              0,
              "#0d0887"
             ],
             [
              0.1111111111111111,
              "#46039f"
             ],
             [
              0.2222222222222222,
              "#7201a8"
             ],
             [
              0.3333333333333333,
              "#9c179e"
             ],
             [
              0.4444444444444444,
              "#bd3786"
             ],
             [
              0.5555555555555556,
              "#d8576b"
             ],
             [
              0.6666666666666666,
              "#ed7953"
             ],
             [
              0.7777777777777778,
              "#fb9f3a"
             ],
             [
              0.8888888888888888,
              "#fdca26"
             ],
             [
              1,
              "#f0f921"
             ]
            ],
            "type": "contour"
           }
          ],
          "contourcarpet": [
           {
            "colorbar": {
             "outlinewidth": 0,
             "ticks": ""
            },
            "type": "contourcarpet"
           }
          ],
          "heatmap": [
           {
            "colorbar": {
             "outlinewidth": 0,
             "ticks": ""
            },
            "colorscale": [
             [
              0,
              "#0d0887"
             ],
             [
              0.1111111111111111,
              "#46039f"
             ],
             [
              0.2222222222222222,
              "#7201a8"
             ],
             [
              0.3333333333333333,
              "#9c179e"
             ],
             [
              0.4444444444444444,
              "#bd3786"
             ],
             [
              0.5555555555555556,
              "#d8576b"
             ],
             [
              0.6666666666666666,
              "#ed7953"
             ],
             [
              0.7777777777777778,
              "#fb9f3a"
             ],
             [
              0.8888888888888888,
              "#fdca26"
             ],
             [
              1,
              "#f0f921"
             ]
            ],
            "type": "heatmap"
           }
          ],
          "heatmapgl": [
           {
            "colorbar": {
             "outlinewidth": 0,
             "ticks": ""
            },
            "colorscale": [
             [
              0,
              "#0d0887"
             ],
             [
              0.1111111111111111,
              "#46039f"
             ],
             [
              0.2222222222222222,
              "#7201a8"
             ],
             [
              0.3333333333333333,
              "#9c179e"
             ],
             [
              0.4444444444444444,
              "#bd3786"
             ],
             [
              0.5555555555555556,
              "#d8576b"
             ],
             [
              0.6666666666666666,
              "#ed7953"
             ],
             [
              0.7777777777777778,
              "#fb9f3a"
             ],
             [
              0.8888888888888888,
              "#fdca26"
             ],
             [
              1,
              "#f0f921"
             ]
            ],
            "type": "heatmapgl"
           }
          ],
          "histogram": [
           {
            "marker": {
             "pattern": {
              "fillmode": "overlay",
              "size": 10,
              "solidity": 0.2
             }
            },
            "type": "histogram"
           }
          ],
          "histogram2d": [
           {
            "colorbar": {
             "outlinewidth": 0,
             "ticks": ""
            },
            "colorscale": [
             [
              0,
              "#0d0887"
             ],
             [
              0.1111111111111111,
              "#46039f"
             ],
             [
              0.2222222222222222,
              "#7201a8"
             ],
             [
              0.3333333333333333,
              "#9c179e"
             ],
             [
              0.4444444444444444,
              "#bd3786"
             ],
             [
              0.5555555555555556,
              "#d8576b"
             ],
             [
              0.6666666666666666,
              "#ed7953"
             ],
             [
              0.7777777777777778,
              "#fb9f3a"
             ],
             [
              0.8888888888888888,
              "#fdca26"
             ],
             [
              1,
              "#f0f921"
             ]
            ],
            "type": "histogram2d"
           }
          ],
          "histogram2dcontour": [
           {
            "colorbar": {
             "outlinewidth": 0,
             "ticks": ""
            },
            "colorscale": [
             [
              0,
              "#0d0887"
             ],
             [
              0.1111111111111111,
              "#46039f"
             ],
             [
              0.2222222222222222,
              "#7201a8"
             ],
             [
              0.3333333333333333,
              "#9c179e"
             ],
             [
              0.4444444444444444,
              "#bd3786"
             ],
             [
              0.5555555555555556,
              "#d8576b"
             ],
             [
              0.6666666666666666,
              "#ed7953"
             ],
             [
              0.7777777777777778,
              "#fb9f3a"
             ],
             [
              0.8888888888888888,
              "#fdca26"
             ],
             [
              1,
              "#f0f921"
             ]
            ],
            "type": "histogram2dcontour"
           }
          ],
          "mesh3d": [
           {
            "colorbar": {
             "outlinewidth": 0,
             "ticks": ""
            },
            "type": "mesh3d"
           }
          ],
          "parcoords": [
           {
            "line": {
             "colorbar": {
              "outlinewidth": 0,
              "ticks": ""
             }
            },
            "type": "parcoords"
           }
          ],
          "pie": [
           {
            "automargin": true,
            "type": "pie"
           }
          ],
          "scatter": [
           {
            "fillpattern": {
             "fillmode": "overlay",
             "size": 10,
             "solidity": 0.2
            },
            "type": "scatter"
           }
          ],
          "scatter3d": [
           {
            "line": {
             "colorbar": {
              "outlinewidth": 0,
              "ticks": ""
             }
            },
            "marker": {
             "colorbar": {
              "outlinewidth": 0,
              "ticks": ""
             }
            },
            "type": "scatter3d"
           }
          ],
          "scattercarpet": [
           {
            "marker": {
             "colorbar": {
              "outlinewidth": 0,
              "ticks": ""
             }
            },
            "type": "scattercarpet"
           }
          ],
          "scattergeo": [
           {
            "marker": {
             "colorbar": {
              "outlinewidth": 0,
              "ticks": ""
             }
            },
            "type": "scattergeo"
           }
          ],
          "scattergl": [
           {
            "marker": {
             "colorbar": {
              "outlinewidth": 0,
              "ticks": ""
             }
            },
            "type": "scattergl"
           }
          ],
          "scattermapbox": [
           {
            "marker": {
             "colorbar": {
              "outlinewidth": 0,
              "ticks": ""
             }
            },
            "type": "scattermapbox"
           }
          ],
          "scatterpolar": [
           {
            "marker": {
             "colorbar": {
              "outlinewidth": 0,
              "ticks": ""
             }
            },
            "type": "scatterpolar"
           }
          ],
          "scatterpolargl": [
           {
            "marker": {
             "colorbar": {
              "outlinewidth": 0,
              "ticks": ""
             }
            },
            "type": "scatterpolargl"
           }
          ],
          "scatterternary": [
           {
            "marker": {
             "colorbar": {
              "outlinewidth": 0,
              "ticks": ""
             }
            },
            "type": "scatterternary"
           }
          ],
          "surface": [
           {
            "colorbar": {
             "outlinewidth": 0,
             "ticks": ""
            },
            "colorscale": [
             [
              0,
              "#0d0887"
             ],
             [
              0.1111111111111111,
              "#46039f"
             ],
             [
              0.2222222222222222,
              "#7201a8"
             ],
             [
              0.3333333333333333,
              "#9c179e"
             ],
             [
              0.4444444444444444,
              "#bd3786"
             ],
             [
              0.5555555555555556,
              "#d8576b"
             ],
             [
              0.6666666666666666,
              "#ed7953"
             ],
             [
              0.7777777777777778,
              "#fb9f3a"
             ],
             [
              0.8888888888888888,
              "#fdca26"
             ],
             [
              1,
              "#f0f921"
             ]
            ],
            "type": "surface"
           }
          ],
          "table": [
           {
            "cells": {
             "fill": {
              "color": "#EBF0F8"
             },
             "line": {
              "color": "white"
             }
            },
            "header": {
             "fill": {
              "color": "#C8D4E3"
             },
             "line": {
              "color": "white"
             }
            },
            "type": "table"
           }
          ]
         },
         "layout": {
          "annotationdefaults": {
           "arrowcolor": "#2a3f5f",
           "arrowhead": 0,
           "arrowwidth": 1
          },
          "autotypenumbers": "strict",
          "coloraxis": {
           "colorbar": {
            "outlinewidth": 0,
            "ticks": ""
           }
          },
          "colorscale": {
           "diverging": [
            [
             0,
             "#8e0152"
            ],
            [
             0.1,
             "#c51b7d"
            ],
            [
             0.2,
             "#de77ae"
            ],
            [
             0.3,
             "#f1b6da"
            ],
            [
             0.4,
             "#fde0ef"
            ],
            [
             0.5,
             "#f7f7f7"
            ],
            [
             0.6,
             "#e6f5d0"
            ],
            [
             0.7,
             "#b8e186"
            ],
            [
             0.8,
             "#7fbc41"
            ],
            [
             0.9,
             "#4d9221"
            ],
            [
             1,
             "#276419"
            ]
           ],
           "sequential": [
            [
             0,
             "#0d0887"
            ],
            [
             0.1111111111111111,
             "#46039f"
            ],
            [
             0.2222222222222222,
             "#7201a8"
            ],
            [
             0.3333333333333333,
             "#9c179e"
            ],
            [
             0.4444444444444444,
             "#bd3786"
            ],
            [
             0.5555555555555556,
             "#d8576b"
            ],
            [
             0.6666666666666666,
             "#ed7953"
            ],
            [
             0.7777777777777778,
             "#fb9f3a"
            ],
            [
             0.8888888888888888,
             "#fdca26"
            ],
            [
             1,
             "#f0f921"
            ]
           ],
           "sequentialminus": [
            [
             0,
             "#0d0887"
            ],
            [
             0.1111111111111111,
             "#46039f"
            ],
            [
             0.2222222222222222,
             "#7201a8"
            ],
            [
             0.3333333333333333,
             "#9c179e"
            ],
            [
             0.4444444444444444,
             "#bd3786"
            ],
            [
             0.5555555555555556,
             "#d8576b"
            ],
            [
             0.6666666666666666,
             "#ed7953"
            ],
            [
             0.7777777777777778,
             "#fb9f3a"
            ],
            [
             0.8888888888888888,
             "#fdca26"
            ],
            [
             1,
             "#f0f921"
            ]
           ]
          },
          "colorway": [
           "#636efa",
           "#EF553B",
           "#00cc96",
           "#ab63fa",
           "#FFA15A",
           "#19d3f3",
           "#FF6692",
           "#B6E880",
           "#FF97FF",
           "#FECB52"
          ],
          "font": {
           "color": "#2a3f5f"
          },
          "geo": {
           "bgcolor": "white",
           "lakecolor": "white",
           "landcolor": "#E5ECF6",
           "showlakes": true,
           "showland": true,
           "subunitcolor": "white"
          },
          "hoverlabel": {
           "align": "left"
          },
          "hovermode": "closest",
          "mapbox": {
           "style": "light"
          },
          "paper_bgcolor": "white",
          "plot_bgcolor": "#E5ECF6",
          "polar": {
           "angularaxis": {
            "gridcolor": "white",
            "linecolor": "white",
            "ticks": ""
           },
           "bgcolor": "#E5ECF6",
           "radialaxis": {
            "gridcolor": "white",
            "linecolor": "white",
            "ticks": ""
           }
          },
          "scene": {
           "xaxis": {
            "backgroundcolor": "#E5ECF6",
            "gridcolor": "white",
            "gridwidth": 2,
            "linecolor": "white",
            "showbackground": true,
            "ticks": "",
            "zerolinecolor": "white"
           },
           "yaxis": {
            "backgroundcolor": "#E5ECF6",
            "gridcolor": "white",
            "gridwidth": 2,
            "linecolor": "white",
            "showbackground": true,
            "ticks": "",
            "zerolinecolor": "white"
           },
           "zaxis": {
            "backgroundcolor": "#E5ECF6",
            "gridcolor": "white",
            "gridwidth": 2,
            "linecolor": "white",
            "showbackground": true,
            "ticks": "",
            "zerolinecolor": "white"
           }
          },
          "shapedefaults": {
           "line": {
            "color": "#2a3f5f"
           }
          },
          "ternary": {
           "aaxis": {
            "gridcolor": "white",
            "linecolor": "white",
            "ticks": ""
           },
           "baxis": {
            "gridcolor": "white",
            "linecolor": "white",
            "ticks": ""
           },
           "bgcolor": "#E5ECF6",
           "caxis": {
            "gridcolor": "white",
            "linecolor": "white",
            "ticks": ""
           }
          },
          "title": {
           "x": 0.05
          },
          "xaxis": {
           "automargin": true,
           "gridcolor": "white",
           "linecolor": "white",
           "ticks": "",
           "title": {
            "standoff": 15
           },
           "zerolinecolor": "white",
           "zerolinewidth": 2
          },
          "yaxis": {
           "automargin": true,
           "gridcolor": "white",
           "linecolor": "white",
           "ticks": "",
           "title": {
            "standoff": 15
           },
           "zerolinecolor": "white",
           "zerolinewidth": 2
          }
         }
        },
        "title": {
         "text": "GDP per Capita vs Disease Prevalence"
        },
        "xaxis": {
         "anchor": "y",
         "autorange": true,
         "domain": [
          0,
          0.31999999999999995
         ],
         "range": [
          -7121.737144155823,
          120142.71714415582
         ],
         "title": {
          "text": "GDP per Capita"
         },
         "type": "linear"
        },
        "xaxis2": {
         "anchor": "y2",
         "autorange": true,
         "domain": [
          0.33999999999999997,
          0.6599999999999999
         ],
         "matches": "x",
         "range": [
          -7121.737144155823,
          120142.71714415582
         ],
         "title": {
          "text": "GDP per Capita"
         },
         "type": "linear"
        },
        "xaxis3": {
         "anchor": "y3",
         "autorange": true,
         "domain": [
          0.6799999999999999,
          0.9999999999999999
         ],
         "matches": "x",
         "range": [
          -7121.737144155823,
          120142.71714415582
         ],
         "title": {
          "text": "GDP per Capita"
         },
         "type": "linear"
        },
        "yaxis": {
         "anchor": "x",
         "autorange": true,
         "domain": [
          0,
          1
         ],
         "range": [
          -5.371844660194175,
          95.17184466019417
         ],
         "title": {
          "text": "Prevalence"
         },
         "type": "linear"
        },
        "yaxis2": {
         "anchor": "x2",
         "autorange": true,
         "domain": [
          0,
          1
         ],
         "matches": "y",
         "range": [
          -5.371844660194175,
          95.17184466019417
         ],
         "showticklabels": false,
         "type": "linear"
        },
        "yaxis3": {
         "anchor": "x3",
         "autorange": true,
         "domain": [
          0,
          1
         ],
         "matches": "y",
         "range": [
          -5.371844660194175,
          95.17184466019417
         ],
         "showticklabels": false,
         "type": "linear"
        }
       }
      },
      "image/png": "[encoded data removed]",
      "text/html": [
       "<div>                            <div id=\"ca943218-baf0-48f5-82ad-afd5139dd38e\" class=\"plotly-graph-div\" style=\"height:525px; width:100%;\"></div>            <script type=\"text/javascript\">                require([\"plotly\"], function(Plotly) {                    window.PLOTLYENV=window.PLOTLYENV || {};                                    if (document.getElementById(\"ca943218-baf0-48f5-82ad-afd5139dd38e\")) {                    Plotly.newPlot(                        \"ca943218-baf0-48f5-82ad-afd5139dd38e\",                        [{\"hovertemplate\":\"Disease=Obesity Rate\\u003cbr\\u003eGDP per Capita=%{x}\\u003cbr\\u003ePrevalence=%{y}\\u003cextra\\u003e\\u003c\\u002fextra\\u003e\",\"legendgroup\":\"\",\"marker\":{\"color\":\"#636efa\",\"symbol\":\"circle\"},\"mode\":\"markers\",\"name\":\"\",\"orientation\":\"v\",\"showlegend\":false,\"x\":[2459.23,7647.41,12657.3,55834.76,66279.79,22992.22,11557.68,19179.26,49038.71,53927.94,14345.73,798.25,49848.48,3039.7,2004.17,4236.27,20669.9,48405.7,36124.69,13198.69,18766.01,6895.51,7941.24,15036.48,15013.58,62848.43,10188.37,15368.49,960.74,47763.47,69357.23,23290.36,13395.27,4435.71,3431.3,1033.74,5347.27,14244.26,2939.72,6387.39,18825.13,null,37016.34,37179.01,51957.24,4754.27,12301.5,54412.58,16355.22,11307.17,11377.44,11289.99,1734.32,37820.66,32701.75,2155.71,46830.52,12160.48,45508.06,3224.99,15351.56,44411.38,13036.32,5038.96,2142.67,2118.21,2185.82,25939.81,28553.07,14961.62,7768.62,13156.91,5303.51,25822.16,2980.85,28920.17,10582.93,5682.67,73004.94,13108.11,10388.29,53502.34,38209.61,41362.7,10087.28,10300.67,40271.79,24303.8,4564.6,4817.17,3844.53,1966.09,24129.12,39798.97,48156.56,6746.81,16097.12,1641.19,12390.65,14526.76,null,11919.21,2679.56,32411.6,112222.73,27357.51,7303.23,null,11023.51,1539.46,22683.08,19200.55,3416.06,15208.02,2229.99,40654.16,4013.48,18742.94,10722.57,1220.2,5500.95,20014.04,1349.33,24590.98,9986.86,1151.44,5206.64,5449.59,54341.03,61924.34,3419.69,8518.67,39934.45,30565.87,4659.42,27894.86,11930.22,7583.65,14188.45,3529.09,29245.89,null,32064.23,11796.58,5668.27,100441.51,25684.25,26280.31,1950.06,47572.5,4584.43,3073.29,91189.77,2301.51,1680.19,8211.53,59826.24,915.85,16565.02,1056.54,3837.22,18405.7,29876.24,35662.4,51194.07,8464.76,25517.21,null,1680.12,1949.85,16657.62,2962.67,15564.02,3189.15,5470.4,27079.0,10208.93,26480.86,3964.63,2449.36,2347.14,12341.19,21781.44,58978.44,6588.91,11871.03,13592.55,8654.12,2631.22,5368.8,2599.94,13697.11,3309.54,2291.12,null,null,null,null,null,null,null,null,null],\"xaxis\":\"x\",\"y\":[4.79,7.17,20.21,25.06,32.76,26.9,18.9,17.59,27.56,19.03,18.3,4.73,21.19,8.57,4.65,3.12,23.8,29.94,29.94,16.81,23.25,22.64,18.83,20.7,21.59,12.84,5.83,17.76,6.6,27.96,18.55,26.7,5.42,9.5,10.28,5.9,8.68,20.91,7.01,10.6,23.94,23.38,20.88,25.01,21.24,12.7,26.29,18.68,25.62,25.69,18.66,30.18,4.25,22.79,20.31,3.88,21.19,28.64,20.6,43.97,14.03,26.26,19.93,9.68,6.82,9.26,8.38,7.46,23.75,19.8,19.35,18.4,19.74,23.08,20.37,25.17,5.97,3.43,23.71,24.23,28.73,20.86,25.25,19.06,22.87,34.13,3.85,19.46,6.23,15.01,3.26,44.38,21.16,4.3,38.13,4.45,30.86,8.97,30.83,18.08,null,4.43,14.52,25.14,21.5,22.57,24.11,null,17.76,4.62,7.44,27.25,51.5,21.36,7.53,27.96,4.89,22.18,18.75,6.24,11.51,9.89,5.06,13.97,15.11,4.96,7.89,22.06,19.26,21.91,3.52,60.14,29.25,26.59,7.7,21.38,18.62,5.73,53.9,19.75,21.98,6.14,19.62,18.96,30.98,36.34,21.31,21.76,4.93,34.93,7.37,7.69,5.76,20.92,7.75,22.49,null,7.32,20.45,null,11.02,25.03,19.55,19.28,19.53,14.75,13.02,26.14,5.38,7.37,8.55,12.88,16.99,3.24,46.23,16.98,25.22,30.11,49.77,7.39,4.63,22.92,26.53,34.57,15.07,22.2,24.55,1.75,23.53,45.86,15.43,26.04,7.22,14.21,null,null,null,null,null,null,null,null,null],\"yaxis\":\"y\",\"type\":\"scatter\"},{\"hovertemplate\":\"\\u003cb\\u003eOLS trendline\\u003c\\u002fb\\u003e\\u003cbr\\u003ePrevalence = 0.000152396 * gdp_per_capita_mean_2011_2021 + 15.5851\\u003cbr\\u003eR\\u003csup\\u003e2\\u003c\\u002fsup\\u003e=0.079459\\u003cbr\\u003e\\u003cbr\\u003eDisease=Obesity Rate\\u003cbr\\u003eGDP per Capita=%{x}\\u003cbr\\u003ePrevalence=%{y} \\u003cb\\u003e(trend)\\u003c\\u002fb\\u003e\\u003cextra\\u003e\\u003c\\u002fextra\\u003e\",\"legendgroup\":\"\",\"marker\":{\"color\":\"#636efa\",\"symbol\":\"circle\"},\"mode\":\"lines\",\"name\":\"\",\"showlegend\":false,\"x\":[798.25,915.85,960.74,1033.74,1151.44,1220.2,1349.33,1539.46,1641.19,1680.12,1680.19,1734.32,1949.85,1950.06,1966.09,2004.17,2118.21,2142.67,2155.71,2185.82,2229.99,2291.12,2301.51,2347.14,2449.36,2459.23,2599.94,2631.22,2679.56,2939.72,2962.67,2980.85,3039.7,3073.29,3189.15,3224.99,3309.54,3416.06,3419.69,3431.3,3529.09,3837.22,3844.53,3964.63,4013.48,4236.27,4435.71,4564.6,4584.43,4659.42,4754.27,4817.17,5038.96,5206.64,5303.51,5347.27,5368.8,5449.59,5470.4,5500.95,5668.27,5682.67,6387.39,6588.91,6746.81,6895.51,7303.23,7583.65,7647.41,7768.62,7941.24,8211.53,8464.76,8518.67,8654.12,9986.86,10087.28,10188.37,10208.93,10300.67,10388.29,10582.93,10722.57,11023.51,11289.99,11307.17,11377.44,11557.68,11796.58,11871.03,11919.21,11930.22,12160.48,12301.5,12341.19,12390.65,12657.3,13036.32,13108.11,13156.91,13198.69,13395.27,13592.55,13697.11,14188.45,14244.26,14345.73,14526.76,14961.62,15013.58,15036.48,15208.02,15351.56,15368.49,15564.02,16097.12,16355.22,16565.02,16657.62,18405.7,18742.94,18766.01,18825.13,19179.26,19200.55,20014.04,20669.9,21781.44,22683.08,22992.22,23290.36,24129.12,24303.8,24590.98,25517.21,25684.25,25822.16,25939.81,26280.31,26480.86,27079.0,27357.51,27894.86,28553.07,28920.17,29245.89,29876.24,30565.87,32064.23,32411.6,32701.75,35662.4,36124.69,37016.34,37179.01,37820.66,38209.61,39798.97,39934.45,40271.79,40654.16,41362.7,44411.38,45508.06,46830.52,47572.5,47763.47,48156.56,48405.7,49038.71,49848.48,51194.07,51957.24,53502.34,53927.94,54341.03,54412.58,55834.76,58978.44,61924.34,62848.43,66279.79,69357.23,73004.94,91189.77,100441.51,112222.73],\"xaxis\":\"x\",\"y\":[15.706791785961343,15.724713551854952,15.731554606880158,15.742679512579423,15.760616518069883,15.771095264862778,15.790774156272999,15.819749201760686,15.83525244363447,15.841185218687517,15.84119588640531,15.8494450801793,15.88229098326646,15.88232298641984,15.884765893794624,15.890569132274459,15.90794836852027,15.911675973909366,15.913663217338385,15.918251859949411,15.92498318987731,15.93429915543068,15.93588254954322,15.942836377585103,15.958414293483443,15.959918441692372,15.981362078417625,15.986129024311776,15.993495845428248,16.033143180588805,16.036640668065495,16.039411226772515,16.048379729517745,16.053498710099092,16.07115530700754,16.076617178517974,16.08950225765322,16.105735476216037,16.10628867358163,16.10805799077572,16.12296079253368,16.16991856230237,16.171032576831983,16.189335332646802,16.1967798757072,16.230732173525546,16.26112602547981,16.280768341857595,16.283790353912615,16.29521852758916,16.309673285199782,16.319258991617367,16.35305889346723,16.37861264946247,16.39337524692943,16.40004409451025,16.40332517971169,16.41563725000544,16.418808610109572,16.42346430694673,16.44896320039332,16.451157702339476,16.558554189248873,16.589265024817582,16.613328348241062,16.635989628754494,16.698124513024418,16.740859390506444,16.750576157456923,16.769048072796757,16.795354664876307,16.8365457711976,16.87513700229657,16.883352668957492,16.903994702888525,17.10709890592467,17.12240250907974,17.137808217533696,17.140941478645708,17.154922284794345,17.168275219552832,17.19793757085838,17.219218143897358,17.265080186652654,17.305690664334026,17.308308827072565,17.319017691777873,17.346485541137262,17.38289293800787,17.394238817861435,17.40158125562295,17.40325913523595,17.438349830938865,17.459840710414348,17.46588930640344,17.473426811004614,17.514063196000627,17.571824315975086,17.582764822552488,17.59020174581446,17.596568849377682,17.62652684886209,17.65659152552443,17.67252604798902,17.7474042831435,17.75590950214454,17.771373121066517,17.79896136324101,17.86523227409556,17.873150768617943,17.876640636296205,17.902782640729793,17.924657558045855,17.927237621792273,17.95703560550977,18.038277896308102,18.077611295773586,18.109583969961335,18.123695836642867,18.390096181228774,18.441490197640007,18.445005972632913,18.45401562228963,18.507983606608544,18.511228116777552,18.635200713178854,18.735151133068165,18.90454534787585,19.041951648898937,19.089063338595796,19.134498672639342,19.262322315164212,19.288942842938834,19.332707917167806,19.47386163505589,19.499317857631304,19.520334785644806,19.53826417133684,19.590154998605332,19.620718010084612,19.711872134673083,19.754315935855306,19.83620590951969,19.936514459934937,19.992459019965075,20.042097434819386,20.138160233552696,20.243257065297684,20.471601088633996,20.524538876205963,20.568756566461328,21.019947690550765,21.09039882282081,21.226282688118744,21.25107294031189,21.348857813489058,21.408132225430553,21.650344281898825,21.67099088770891,21.722400143716992,21.78067179018587,21.88865042969487,22.353256970889873,22.520386581605898,22.721924154086032,22.83499891478111,22.864101972882324,22.92400730413334,22.961975235721212,23.05844340773069,23.181849091129234,23.386911582360383,23.503215613627617,23.738682624530824,23.803542348717226,23.866495599337902,23.877399530882865,24.094134029340132,24.573218187541027,25.022161471095338,25.162989061610865,25.68591449202497,26.154903941273545,26.710800239468966,29.482095019019162,30.892022896472824,32.68743332828507],\"yaxis\":\"y\",\"type\":\"scatter\"},{\"hovertemplate\":\"Disease=Overweight Rate\\u003cbr\\u003eGDP per Capita=%{x}\\u003cbr\\u003ePrevalence=%{y}\\u003cextra\\u003e\\u003c\\u002fextra\\u003e\",\"legendgroup\":\"\",\"marker\":{\"color\":\"#636efa\",\"symbol\":\"circle\"},\"mode\":\"markers\",\"name\":\"\",\"orientation\":\"v\",\"showlegend\":false,\"x\":[2459.23,7647.41,12657.3,55834.76,66279.79,22992.22,11557.68,19179.26,49038.71,53927.94,14345.73,798.25,49848.48,3039.7,2004.17,4236.27,20669.9,48405.7,36124.69,13198.69,18766.01,6895.51,7941.24,15036.48,15013.58,62848.43,10188.37,15368.49,960.74,47763.47,69357.23,23290.36,13395.27,4435.71,3431.3,1033.74,5347.27,14244.26,2939.72,6387.39,18825.13,null,37016.34,37179.01,51957.24,4754.27,12301.5,54412.58,16355.22,11307.17,11377.44,11289.99,1734.32,37820.66,32701.75,2155.71,46830.52,12160.48,45508.06,3224.99,15351.56,44411.38,13036.32,5038.96,2142.67,2118.21,2185.82,25939.81,28553.07,14961.62,7768.62,13156.91,5303.51,25822.16,2980.85,28920.17,10582.93,5682.67,73004.94,13108.11,10388.29,53502.34,38209.61,41362.7,10087.28,10300.67,40271.79,24303.8,4564.6,4817.17,3844.53,1966.09,24129.12,39798.97,48156.56,6746.81,16097.12,1641.19,12390.65,14526.76,null,11919.21,2679.56,32411.6,112222.73,27357.51,7303.23,null,11023.51,1539.46,22683.08,19200.55,3416.06,15208.02,2229.99,40654.16,4013.48,18742.94,10722.57,1220.2,5500.95,20014.04,1349.33,24590.98,9986.86,1151.44,5206.64,5449.59,54341.03,61924.34,3419.69,8518.67,39934.45,30565.87,4659.42,27894.86,11930.22,7583.65,14188.45,3529.09,29245.89,null,32064.23,11796.58,5668.27,100441.51,25684.25,26280.31,1950.06,47572.5,4584.43,3073.29,91189.77,2301.51,1680.19,8211.53,59826.24,915.85,16565.02,1056.54,3837.22,18405.7,29876.24,35662.4,51194.07,8464.76,25517.21,null,1680.12,1949.85,16657.62,2962.67,15564.02,3189.15,5470.4,27079.0,10208.93,26480.86,3964.63,2449.36,2347.14,12341.19,21781.44,58978.44,6588.91,11871.03,13592.55,8654.12,2631.22,5368.8,2599.94,13697.11,3309.54,2291.12,null,null,null,null,null,null,null,null,null],\"xaxis\":\"x2\",\"y\":[21.33,25.51,55.94,63.1,67.35,61.5,53.0,46.39,63.35,53.29,51.8,20.7,58.77,27.73,21.06,18.54,60.49,64.95,62.86,52.04,58.38,53.16,54.45,54.92,50.67,39.14,25.52,41.7,24.44,62.93,53.35,61.77,30.36,30.33,31.81,23.53,29.3,57.48,25.67,32.77,59.61,57.04,58.01,61.36,55.78,37.34,58.56,54.52,58.9,60.12,54.49,61.73,20.24,60.59,54.88,19.48,56.97,62.26,58.48,74.61,38.67,62.48,52.36,30.01,25.03,30.03,28.03,25.76,61.17,49.55,53.93,47.21,53.8,58.29,52.07,60.42,26.09,18.32,59.23,59.81,63.08,58.16,63.54,57.43,53.46,68.29,26.19,51.96,23.76,46.37,19.91,77.69,50.33,29.33,72.75,23.17,66.77,29.29,65.33,46.06,null,21.45,35.73,58.72,57.65,56.98,58.36,null,50.65,22.22,28.19,63.49,82.62,56.92,26.05,65.48,22.71,58.27,53.45,24.51,32.51,30.96,21.91,40.15,37.51,20.84,27.22,56.48,56.65,57.11,19.52,88.05,64.53,61.35,26.71,57.29,56.06,26.04,84.22,51.0,57.2,31.11,56.22,51.82,65.4,71.0,56.38,55.97,23.01,68.74,26.66,26.35,31.16,53.12,26.15,58.02,null,26.66,55.99,null,33.24,57.41,55.2,54.88,55.3,35.98,35.31,59.61,21.64,26.2,29.92,43.48,49.92,19.9,77.29,43.98,59.9,65.12,80.65,25.85,21.04,57.44,61.57,66.68,46.38,53.13,62.35,16.57,55.31,76.66,46.52,51.23,26.26,36.36,null,null,null,null,null,null,null,null,null],\"yaxis\":\"y2\",\"type\":\"scatter\"},{\"hovertemplate\":\"\\u003cb\\u003eOLS trendline\\u003c\\u002fb\\u003e\\u003cbr\\u003ePrevalence = 0.000344533 * gdp_per_capita_mean_2011_2021 + 40.5702\\u003cbr\\u003eR\\u003csup\\u003e2\\u003c\\u002fsup\\u003e=0.163925\\u003cbr\\u003e\\u003cbr\\u003eDisease=Overweight Rate\\u003cbr\\u003eGDP per Capita=%{x}\\u003cbr\\u003ePrevalence=%{y} \\u003cb\\u003e(trend)\\u003c\\u002fb\\u003e\\u003cextra\\u003e\\u003c\\u002fextra\\u003e\",\"legendgroup\":\"\",\"marker\":{\"color\":\"#636efa\",\"symbol\":\"circle\"},\"mode\":\"lines\",\"name\":\"\",\"showlegend\":false,\"x\":[798.25,915.85,960.74,1033.74,1151.44,1220.2,1349.33,1539.46,1641.19,1680.12,1680.19,1734.32,1949.85,1950.06,1966.09,2004.17,2118.21,2142.67,2155.71,2185.82,2229.99,2291.12,2301.51,2347.14,2449.36,2459.23,2599.94,2631.22,2679.56,2939.72,2962.67,2980.85,3039.7,3073.29,3189.15,3224.99,3309.54,3416.06,3419.69,3431.3,3529.09,3837.22,3844.53,3964.63,4013.48,4236.27,4435.71,4564.6,4584.43,4659.42,4754.27,4817.17,5038.96,5206.64,5303.51,5347.27,5368.8,5449.59,5470.4,5500.95,5668.27,5682.67,6387.39,6588.91,6746.81,6895.51,7303.23,7583.65,7647.41,7768.62,7941.24,8211.53,8464.76,8518.67,8654.12,9986.86,10087.28,10188.37,10208.93,10300.67,10388.29,10582.93,10722.57,11023.51,11289.99,11307.17,11377.44,11557.68,11796.58,11871.03,11919.21,11930.22,12160.48,12301.5,12341.19,12390.65,12657.3,13036.32,13108.11,13156.91,13198.69,13395.27,13592.55,13697.11,14188.45,14244.26,14345.73,14526.76,14961.62,15013.58,15036.48,15208.02,15351.56,15368.49,15564.02,16097.12,16355.22,16565.02,16657.62,18405.7,18742.94,18766.01,18825.13,19179.26,19200.55,20014.04,20669.9,21781.44,22683.08,22992.22,23290.36,24129.12,24303.8,24590.98,25517.21,25684.25,25822.16,25939.81,26280.31,26480.86,27079.0,27357.51,27894.86,28553.07,28920.17,29245.89,29876.24,30565.87,32064.23,32411.6,32701.75,35662.4,36124.69,37016.34,37179.01,37820.66,38209.61,39798.97,39934.45,40271.79,40654.16,41362.7,44411.38,45508.06,46830.52,47572.5,47763.47,48156.56,48405.7,49038.71,49848.48,51194.07,51957.24,53502.34,53927.94,54341.03,54412.58,55834.76,58978.44,61924.34,62848.43,66279.79,69357.23,73004.94,91189.77,100441.51,112222.73],\"xaxis\":\"x2\",\"y\":[40.84521022213496,40.88572732277949,40.90119341672449,40.926344338042945,40.966895892004345,40.99058599268732,41.03507556076749,41.10058165214116,41.135631011397685,41.14904368765696,41.14906780497878,41.167717385402995,41.24197461926281,41.242046971228255,41.24756983792325,41.260689660989094,41.299980223552886,41.30840750486041,41.31290021738086,41.3232741110918,41.338492141155314,41.35955345376075,41.36313315338402,41.3788542018739,41.41407238238311,41.417472924758634,41.46595218693288,41.47672918445126,41.49338391782844,41.583017667009386,41.590924703232105,41.59718831623991,41.61746409322061,41.62903696235878,41.668954575289696,41.681302644057546,41.71043292347502,41.74713259660984,41.74838325201239,41.752383282101526,41.786075180673194,41.89223618595889,41.89475472342242,41.93613315698882,41.952963602282054,42.02972214694697,42.09843584212167,42.14284272224133,42.149674814977566,42.17551135730183,42.20819032835738,42.2298614646715,42.30627547616767,42.36404679790299,42.39742172595942,42.41249849742374,42.41991629654684,42.44775113124983,42.45492086649143,42.46544635479662,42.52309364459119,42.52805492222114,42.770854336899795,42.84028466106548,42.89468644841047,42.945918530602995,43.0863915941641,43.18300558534385,43.20497302018309,43.24673388556679,43.306207201155715,43.399331071336064,43.4865772056576,43.5051509887847,43.551818006491345,44.010991141805846,44.045589162611314,44.08041802063984,44.08750162258926,44.11910909549002,44.149297091735534,44.21635702770025,44.26446763938394,44.36815145118635,44.45996264999378,44.46588172983283,44.49009207560061,44.55219073393538,44.63449970794879,44.66015020236193,44.67674981043211,44.68054312062,44.75987532805545,44.808461395512005,44.82213591697953,44.839176527505714,44.93104629695182,45.06163125856992,45.086365294754195,45.103178513389,45.117573109179204,45.18530143949128,45.25327094302149,45.28929533114557,45.458578258277214,45.477806654424924,45.51276643505758,45.57513727459566,45.72496096835653,45.74286291180457,45.750752721368855,45.809853941135536,45.859308232177334,45.8651411787242,45.9325077492091,46.11617838146758,46.20510239232091,46.27738545112381,46.309289222549694,46.91156076417114,47.02775112999903,47.035699510202,47.05606831113826,47.17807784218627,47.18541295334887,47.46568724079203,47.69165276484576,48.07461516323365,48.38526004950177,48.491769033287895,48.59448815221782,48.88346879283519,48.94365184675173,49.0425948821522,49.36171183903977,49.4192626595471,49.466777228848855,49.50731155615182,49.624625100109824,49.693721227101825,49.89980029665554,49.99575622948298,50.18089112770862,50.407666304708904,50.53414443095555,50.64636577467949,50.86354225759851,51.101142666760786,51.617377385482996,51.73705787231028,51.83702417122193,52.857066297269675,53.016340535849245,53.32354353576159,53.379588746321495,53.60065845404735,53.73466463003109,54.28225186710918,54.32892922081088,54.445154039955646,54.576893187689045,54.82100871907231,55.87138009996477,56.249222735465096,56.70485406980488,56.96049079035102,57.02628628958644,57.16171883288879,57.247555826550155,57.46564876769804,57.74464139175346,58.20824177828635,58.47117915667821,59.0035173557076,59.15015067232589,59.292473879003154,59.31712522722694,59.80711340915407,60.8902154410774,61.90517570288614,62.2235553587926,63.405772692700765,64.46605284752636,65.72280993249271,71.98808703549943,75.17561833411324,79.23463939240662],\"yaxis\":\"y2\",\"type\":\"scatter\"},{\"hovertemplate\":\"Disease=Blood Pressure\\u003cbr\\u003eGDP per Capita=%{x}\\u003cbr\\u003ePrevalence=%{y}\\u003cextra\\u003e\\u003c\\u002fextra\\u003e\",\"legendgroup\":\"\",\"marker\":{\"color\":\"#636efa\",\"symbol\":\"circle\"},\"mode\":\"markers\",\"name\":\"\",\"orientation\":\"v\",\"showlegend\":false,\"x\":[2459.23,7647.41,12657.3,55834.76,66279.79,22992.22,11557.68,19179.26,49038.71,53927.94,14345.73,798.25,49848.48,3039.7,2004.17,4236.27,20669.9,48405.7,36124.69,13198.69,18766.01,6895.51,7941.24,15036.48,15013.58,62848.43,10188.37,15368.49,960.74,47763.47,69357.23,23290.36,13395.27,4435.71,3431.3,1033.74,5347.27,14244.26,2939.72,6387.39,18825.13,null,37016.34,37179.01,51957.24,4754.27,12301.5,54412.58,16355.22,11307.17,11377.44,11289.99,1734.32,37820.66,32701.75,2155.71,46830.52,12160.48,45508.06,3224.99,15351.56,44411.38,13036.32,5038.96,2142.67,2118.21,2185.82,25939.81,28553.07,14961.62,7768.62,13156.91,5303.51,25822.16,2980.85,28920.17,10582.93,5682.67,73004.94,13108.11,10388.29,53502.34,38209.61,41362.7,10087.28,10300.67,40271.79,24303.8,4564.6,4817.17,3844.53,1966.09,24129.12,39798.97,48156.56,6746.81,16097.12,1641.19,12390.65,14526.76,null,11919.21,2679.56,32411.6,112222.73,27357.51,7303.23,null,11023.51,1539.46,22683.08,19200.55,3416.06,15208.02,2229.99,40654.16,4013.48,18742.94,10722.57,1220.2,5500.95,20014.04,1349.33,24590.98,9986.86,1151.44,5206.64,5449.59,54341.03,61924.34,3419.69,8518.67,39934.45,30565.87,4659.42,27894.86,11930.22,7583.65,14188.45,3529.09,29245.89,null,32064.23,11796.58,5668.27,100441.51,25684.25,26280.31,1950.06,47572.5,4584.43,3073.29,91189.77,2301.51,1680.19,8211.53,59826.24,915.85,16565.02,1056.54,3837.22,18405.7,29876.24,35662.4,51194.07,8464.76,25517.21,null,1680.12,1949.85,16657.62,2962.67,15564.02,3189.15,5470.4,27079.0,10208.93,26480.86,3964.63,2449.36,2347.14,12341.19,21781.44,58978.44,6588.91,11871.03,13592.55,8654.12,2631.22,5368.8,2599.94,13697.11,3309.54,2291.12,null,null,null,null,null,null,null,null,null],\"xaxis\":\"x3\",\"y\":[30.45,29.88,29.45,19.61,21.12,23.3,25.56,23.15,16.06,21.89,24.59,28.72,18.08,28.1,32.39,24.99,28.84,21.63,21.71,30.73,28.18,22.9,18.29,24.08,24.4,19.33,28.08,29.74,31.15,13.9,18.54,21.62,19.52,27.75,25.36,28.54,26.59,19.69,27.59,29.98,19.22,19.48,20.4,28.32,20.95,27.4,23.08,21.78,22.14,25.74,18.17,25.2,28.66,20.11,28.13,29.88,20.25,21.78,23.17,24.55,26.04,16.2,26.26,24.3,30.2,29.66,30.54,28.48,19.76,24.22,21.39,22.86,21.63,32.4,24.91,30.82,24.01,25.61,20.74,20.51,25.59,20.46,17.58,22.27,22.15,21.68,18.14,27.17,26.45,26.52,25.69,21.46,25.35,11.92,24.0,24.87,21.02,28.57,24.38,26.93,null,22.12,28.45,30.16,22.89,29.99,26.56,null,29.95,28.05,24.47,20.24,21.5,28.75,32.42,20.39,24.47,29.68,29.6,28.84,32.21,25.09,28.37,23.59,28.74,33.53,24.59,21.07,19.76,20.52,29.36,21.11,16.99,24.88,30.33,20.11,14.34,22.58,23.28,25.03,29.28,18.22,25.32,25.02,22.85,22.06,30.13,28.13,26.51,23.69,30.07,30.39,15.53,21.79,30.58,19.21,null,33.0,30.11,null,26.45,22.74,28.99,30.68,20.35,29.49,23.66,25.03,32.58,29.0,22.35,25.82,25.49,27.47,23.23,25.36,23.79,21.08,23.84,27.08,26.82,27.86,21.77,13.17,25.4,23.61,19.37,23.19,23.96,23.51,30.54,27.25,27.2,28.17,null,null,null,null,null,null,null,null,null],\"yaxis\":\"y3\",\"type\":\"scatter\"},{\"hovertemplate\":\"\\u003cb\\u003eOLS trendline\\u003c\\u002fb\\u003e\\u003cbr\\u003ePrevalence = -0.000108829 * gdp_per_capita_mean_2011_2021 + 26.8796\\u003cbr\\u003eR\\u003csup\\u003e2\\u003c\\u002fsup\\u003e=0.253283\\u003cbr\\u003e\\u003cbr\\u003eDisease=Blood Pressure\\u003cbr\\u003eGDP per Capita=%{x}\\u003cbr\\u003ePrevalence=%{y} \\u003cb\\u003e(trend)\\u003c\\u002fb\\u003e\\u003cextra\\u003e\\u003c\\u002fextra\\u003e\",\"legendgroup\":\"\",\"marker\":{\"color\":\"#636efa\",\"symbol\":\"circle\"},\"mode\":\"lines\",\"name\":\"\",\"showlegend\":false,\"x\":[798.25,915.85,960.74,1033.74,1151.44,1220.2,1349.33,1539.46,1641.19,1680.12,1680.19,1734.32,1949.85,1950.06,1966.09,2004.17,2118.21,2142.67,2155.71,2185.82,2229.99,2291.12,2301.51,2347.14,2449.36,2459.23,2599.94,2631.22,2679.56,2939.72,2962.67,2980.85,3039.7,3073.29,3189.15,3224.99,3309.54,3416.06,3419.69,3431.3,3529.09,3837.22,3844.53,3964.63,4013.48,4236.27,4435.71,4564.6,4584.43,4659.42,4754.27,4817.17,5038.96,5206.64,5303.51,5347.27,5368.8,5449.59,5470.4,5500.95,5668.27,5682.67,6387.39,6588.91,6746.81,6895.51,7303.23,7583.65,7647.41,7768.62,7941.24,8211.53,8464.76,8518.67,8654.12,9986.86,10087.28,10188.37,10208.93,10300.67,10388.29,10582.93,10722.57,11023.51,11289.99,11307.17,11377.44,11557.68,11796.58,11871.03,11919.21,11930.22,12160.48,12301.5,12341.19,12390.65,12657.3,13036.32,13108.11,13156.91,13198.69,13395.27,13592.55,13697.11,14188.45,14244.26,14345.73,14526.76,14961.62,15013.58,15036.48,15208.02,15351.56,15368.49,15564.02,16097.12,16355.22,16565.02,16657.62,18405.7,18742.94,18766.01,18825.13,19179.26,19200.55,20014.04,20669.9,21781.44,22683.08,22992.22,23290.36,24129.12,24303.8,24590.98,25517.21,25684.25,25822.16,25939.81,26280.31,26480.86,27079.0,27357.51,27894.86,28553.07,28920.17,29245.89,29876.24,30565.87,32064.23,32411.6,32701.75,35662.4,36124.69,37016.34,37179.01,37820.66,38209.61,39798.97,39934.45,40271.79,40654.16,41362.7,44411.38,45508.06,46830.52,47572.5,47763.47,48156.56,48405.7,49038.71,49848.48,51194.07,51957.24,53502.34,53927.94,54341.03,54412.58,55834.76,58978.44,61924.34,62848.43,66279.79,69357.23,73004.94,91189.77,100441.51,112222.73],\"xaxis\":\"x3\",\"y\":[26.792736781109625,26.779938487140484,26.77505315196808,26.767108632752542,26.754299455880364,26.74681637175351,26.732763279064432,26.712071615524017,26.70100043826653,26.69676372411501,26.696756106082884,26.69086519067005,26.667409269758746,26.66738641566237,26.665641886305863,26.66149767683014,26.649086814209046,26.64642485612669,26.64500572557093,26.641728883467092,26.63692190519654,26.630269186571255,26.62913845294592,26.624172584291056,26.613048080808696,26.611973938279142,26.596660605418617,26.593256433349275,26.58799563802216,26.559682677486347,26.557185051239816,26.555206539468056,26.54880195103197,26.54514638390252,26.532537452446185,26.528637019998445,26.51943552548237,26.507843057169502,26.507448007789332,26.506184502746972,26.49554211186906,26.462008622747362,26.461213082535505,26.44814271599049,26.442826417857898,26.418580398186258,26.396875536373283,26.382848562651493,26.380690482979656,26.372529393993723,26.362206960465038,26.355361614456033,26.331224423814742,26.31297597200568,26.30243370383569,26.29767134546758,26.29532825644415,26.286535959082187,26.284271226960605,26.280946500083417,26.26273722672528,26.261170088688246,26.184476094420102,26.162544868224003,26.145360764331762,26.12917788751874,26.084806115264502,26.0542882785738,26.047349339598693,26.03415817282999,26.015372105611,25.98595670699774,25.95839793164225,25.952530958616087,25.937790066455204,25.792749264546753,25.78182065331902,25.770819126640955,25.76858160177696,25.75859762653267,25.749062026893416,25.72787954442612,25.71268265862807,25.679931650234586,25.650930890226963,25.649061207485552,25.64141379152287,25.621798447092612,25.595799191742035,25.587696870432488,25.582453487750232,25.581255280126083,25.556196307597727,25.540849237737792,25.536529813523206,25.531147129682104,25.50212786873932,25.46087948965612,25.453066653567305,25.44775579688623,25.443208919998217,25.421815309212043,25.400345518104626,25.388966354691245,25.335494298919155,25.32942055073533,25.318377669025733,25.2986763496615,25.251350957523567,25.24569620110659,25.243204016311577,25.224535484445365,25.20891416542895,25.207071689945124,25.18579234964082,25.12777559356132,25.099686820828026,25.07685449026063,25.06677692205023,24.87653507067628,24.839833568481097,24.837322882750925,24.830888910476645,24.792349285958853,24.790032315902707,24.70150098800341,24.630124380158165,24.5091565597631,24.411031952838467,24.377388546396116,24.344942259287613,24.253660821791378,24.23465056676987,24.203397045834002,24.102596333053064,24.084417531823426,24.06940892024788,24.05660518482722,24.0195488999931,23.99772323795644,23.932628241742982,23.90231826850025,23.84383898904176,23.77220663297519,23.732255495933764,23.69680770416821,23.62820732488719,23.553155560687024,23.390090494772036,23.35228655449941,23.320709811343402,22.998505142638137,22.94819457019771,22.851157165286274,22.833453946919263,22.763623799595287,22.721294748240716,22.54832624056389,22.533582083532092,22.496869698433876,22.455256742099007,22.37814702093493,22.046362132687968,21.9270115116839,21.78308947220745,21.70234050826847,21.68155742834256,21.638777824802343,21.611664160180982,21.54277429567923,21.454647811772837,21.30820855682439,21.2251535057323,21.057001770938758,21.010684135621865,20.965727951474648,20.957941234353115,20.803166763970175,20.46104311783998,20.140443677332378,20.03987585867639,19.666444277095152,19.331529465935333,18.934552723637903,16.955515307661166,15.948657414412308,14.666518665474127],\"yaxis\":\"y3\",\"type\":\"scatter\"}],                        {\"template\":{\"data\":{\"histogram2dcontour\":[{\"type\":\"histogram2dcontour\",\"colorbar\":{\"outlinewidth\":0,\"ticks\":\"\"},\"colorscale\":[[0.0,\"#0d0887\"],[0.1111111111111111,\"#46039f\"],[0.2222222222222222,\"#7201a8\"],[0.3333333333333333,\"#9c179e\"],[0.4444444444444444,\"#bd3786\"],[0.5555555555555556,\"#d8576b\"],[0.6666666666666666,\"#ed7953\"],[0.7777777777777778,\"#fb9f3a\"],[0.8888888888888888,\"#fdca26\"],[1.0,\"#f0f921\"]]}],\"choropleth\":[{\"type\":\"choropleth\",\"colorbar\":{\"outlinewidth\":0,\"ticks\":\"\"}}],\"histogram2d\":[{\"type\":\"histogram2d\",\"colorbar\":{\"outlinewidth\":0,\"ticks\":\"\"},\"colorscale\":[[0.0,\"#0d0887\"],[0.1111111111111111,\"#46039f\"],[0.2222222222222222,\"#7201a8\"],[0.3333333333333333,\"#9c179e\"],[0.4444444444444444,\"#bd3786\"],[0.5555555555555556,\"#d8576b\"],[0.6666666666666666,\"#ed7953\"],[0.7777777777777778,\"#fb9f3a\"],[0.8888888888888888,\"#fdca26\"],[1.0,\"#f0f921\"]]}],\"heatmap\":[{\"type\":\"heatmap\",\"colorbar\":{\"outlinewidth\":0,\"ticks\":\"\"},\"colorscale\":[[0.0,\"#0d0887\"],[0.1111111111111111,\"#46039f\"],[0.2222222222222222,\"#7201a8\"],[0.3333333333333333,\"#9c179e\"],[0.4444444444444444,\"#bd3786\"],[0.5555555555555556,\"#d8576b\"],[0.6666666666666666,\"#ed7953\"],[0.7777777777777778,\"#fb9f3a\"],[0.8888888888888888,\"#fdca26\"],[1.0,\"#f0f921\"]]}],\"heatmapgl\":[{\"type\":\"heatmapgl\",\"colorbar\":{\"outlinewidth\":0,\"ticks\":\"\"},\"colorscale\":[[0.0,\"#0d0887\"],[0.1111111111111111,\"#46039f\"],[0.2222222222222222,\"#7201a8\"],[0.3333333333333333,\"#9c179e\"],[0.4444444444444444,\"#bd3786\"],[0.5555555555555556,\"#d8576b\"],[0.6666666666666666,\"#ed7953\"],[0.7777777777777778,\"#fb9f3a\"],[0.8888888888888888,\"#fdca26\"],[1.0,\"#f0f921\"]]}],\"contourcarpet\":[{\"type\":\"contourcarpet\",\"colorbar\":{\"outlinewidth\":0,\"ticks\":\"\"}}],\"contour\":[{\"type\":\"contour\",\"colorbar\":{\"outlinewidth\":0,\"ticks\":\"\"},\"colorscale\":[[0.0,\"#0d0887\"],[0.1111111111111111,\"#46039f\"],[0.2222222222222222,\"#7201a8\"],[0.3333333333333333,\"#9c179e\"],[0.4444444444444444,\"#bd3786\"],[0.5555555555555556,\"#d8576b\"],[0.6666666666666666,\"#ed7953\"],[0.7777777777777778,\"#fb9f3a\"],[0.8888888888888888,\"#fdca26\"],[1.0,\"#f0f921\"]]}],\"surface\":[{\"type\":\"surface\",\"colorbar\":{\"outlinewidth\":0,\"ticks\":\"\"},\"colorscale\":[[0.0,\"#0d0887\"],[0.1111111111111111,\"#46039f\"],[0.2222222222222222,\"#7201a8\"],[0.3333333333333333,\"#9c179e\"],[0.4444444444444444,\"#bd3786\"],[0.5555555555555556,\"#d8576b\"],[0.6666666666666666,\"#ed7953\"],[0.7777777777777778,\"#fb9f3a\"],[0.8888888888888888,\"#fdca26\"],[1.0,\"#f0f921\"]]}],\"mesh3d\":[{\"type\":\"mesh3d\",\"colorbar\":{\"outlinewidth\":0,\"ticks\":\"\"}}],\"scatter\":[{\"fillpattern\":{\"fillmode\":\"overlay\",\"size\":10,\"solidity\":0.2},\"type\":\"scatter\"}],\"parcoords\":[{\"type\":\"parcoords\",\"line\":{\"colorbar\":{\"outlinewidth\":0,\"ticks\":\"\"}}}],\"scatterpolargl\":[{\"type\":\"scatterpolargl\",\"marker\":{\"colorbar\":{\"outlinewidth\":0,\"ticks\":\"\"}}}],\"bar\":[{\"error_x\":{\"color\":\"#2a3f5f\"},\"error_y\":{\"color\":\"#2a3f5f\"},\"marker\":{\"line\":{\"color\":\"#E5ECF6\",\"width\":0.5},\"pattern\":{\"fillmode\":\"overlay\",\"size\":10,\"solidity\":0.2}},\"type\":\"bar\"}],\"scattergeo\":[{\"type\":\"scattergeo\",\"marker\":{\"colorbar\":{\"outlinewidth\":0,\"ticks\":\"\"}}}],\"scatterpolar\":[{\"type\":\"scatterpolar\",\"marker\":{\"colorbar\":{\"outlinewidth\":0,\"ticks\":\"\"}}}],\"histogram\":[{\"marker\":{\"pattern\":{\"fillmode\":\"overlay\",\"size\":10,\"solidity\":0.2}},\"type\":\"histogram\"}],\"scattergl\":[{\"type\":\"scattergl\",\"marker\":{\"colorbar\":{\"outlinewidth\":0,\"ticks\":\"\"}}}],\"scatter3d\":[{\"type\":\"scatter3d\",\"line\":{\"colorbar\":{\"outlinewidth\":0,\"ticks\":\"\"}},\"marker\":{\"colorbar\":{\"outlinewidth\":0,\"ticks\":\"\"}}}],\"scattermapbox\":[{\"type\":\"scattermapbox\",\"marker\":{\"colorbar\":{\"outlinewidth\":0,\"ticks\":\"\"}}}],\"scatterternary\":[{\"type\":\"scatterternary\",\"marker\":{\"colorbar\":{\"outlinewidth\":0,\"ticks\":\"\"}}}],\"scattercarpet\":[{\"type\":\"scattercarpet\",\"marker\":{\"colorbar\":{\"outlinewidth\":0,\"ticks\":\"\"}}}],\"carpet\":[{\"aaxis\":{\"endlinecolor\":\"#2a3f5f\",\"gridcolor\":\"white\",\"linecolor\":\"white\",\"minorgridcolor\":\"white\",\"startlinecolor\":\"#2a3f5f\"},\"baxis\":{\"endlinecolor\":\"#2a3f5f\",\"gridcolor\":\"white\",\"linecolor\":\"white\",\"minorgridcolor\":\"white\",\"startlinecolor\":\"#2a3f5f\"},\"type\":\"carpet\"}],\"table\":[{\"cells\":{\"fill\":{\"color\":\"#EBF0F8\"},\"line\":{\"color\":\"white\"}},\"header\":{\"fill\":{\"color\":\"#C8D4E3\"},\"line\":{\"color\":\"white\"}},\"type\":\"table\"}],\"barpolar\":[{\"marker\":{\"line\":{\"color\":\"#E5ECF6\",\"width\":0.5},\"pattern\":{\"fillmode\":\"overlay\",\"size\":10,\"solidity\":0.2}},\"type\":\"barpolar\"}],\"pie\":[{\"automargin\":true,\"type\":\"pie\"}]},\"layout\":{\"autotypenumbers\":\"strict\",\"colorway\":[\"#636efa\",\"#EF553B\",\"#00cc96\",\"#ab63fa\",\"#FFA15A\",\"#19d3f3\",\"#FF6692\",\"#B6E880\",\"#FF97FF\",\"#FECB52\"],\"font\":{\"color\":\"#2a3f5f\"},\"hovermode\":\"closest\",\"hoverlabel\":{\"align\":\"left\"},\"paper_bgcolor\":\"white\",\"plot_bgcolor\":\"#E5ECF6\",\"polar\":{\"bgcolor\":\"#E5ECF6\",\"angularaxis\":{\"gridcolor\":\"white\",\"linecolor\":\"white\",\"ticks\":\"\"},\"radialaxis\":{\"gridcolor\":\"white\",\"linecolor\":\"white\",\"ticks\":\"\"}},\"ternary\":{\"bgcolor\":\"#E5ECF6\",\"aaxis\":{\"gridcolor\":\"white\",\"linecolor\":\"white\",\"ticks\":\"\"},\"baxis\":{\"gridcolor\":\"white\",\"linecolor\":\"white\",\"ticks\":\"\"},\"caxis\":{\"gridcolor\":\"white\",\"linecolor\":\"white\",\"ticks\":\"\"}},\"coloraxis\":{\"colorbar\":{\"outlinewidth\":0,\"ticks\":\"\"}},\"colorscale\":{\"sequential\":[[0.0,\"#0d0887\"],[0.1111111111111111,\"#46039f\"],[0.2222222222222222,\"#7201a8\"],[0.3333333333333333,\"#9c179e\"],[0.4444444444444444,\"#bd3786\"],[0.5555555555555556,\"#d8576b\"],[0.6666666666666666,\"#ed7953\"],[0.7777777777777778,\"#fb9f3a\"],[0.8888888888888888,\"#fdca26\"],[1.0,\"#f0f921\"]],\"sequentialminus\":[[0.0,\"#0d0887\"],[0.1111111111111111,\"#46039f\"],[0.2222222222222222,\"#7201a8\"],[0.3333333333333333,\"#9c179e\"],[0.4444444444444444,\"#bd3786\"],[0.5555555555555556,\"#d8576b\"],[0.6666666666666666,\"#ed7953\"],[0.7777777777777778,\"#fb9f3a\"],[0.8888888888888888,\"#fdca26\"],[1.0,\"#f0f921\"]],\"diverging\":[[0,\"#8e0152\"],[0.1,\"#c51b7d\"],[0.2,\"#de77ae\"],[0.3,\"#f1b6da\"],[0.4,\"#fde0ef\"],[0.5,\"#f7f7f7\"],[0.6,\"#e6f5d0\"],[0.7,\"#b8e186\"],[0.8,\"#7fbc41\"],[0.9,\"#4d9221\"],[1,\"#276419\"]]},\"xaxis\":{\"gridcolor\":\"white\",\"linecolor\":\"white\",\"ticks\":\"\",\"title\":{\"standoff\":15},\"zerolinecolor\":\"white\",\"automargin\":true,\"zerolinewidth\":2},\"yaxis\":{\"gridcolor\":\"white\",\"linecolor\":\"white\",\"ticks\":\"\",\"title\":{\"standoff\":15},\"zerolinecolor\":\"white\",\"automargin\":true,\"zerolinewidth\":2},\"scene\":{\"xaxis\":{\"backgroundcolor\":\"#E5ECF6\",\"gridcolor\":\"white\",\"linecolor\":\"white\",\"showbackground\":true,\"ticks\":\"\",\"zerolinecolor\":\"white\",\"gridwidth\":2},\"yaxis\":{\"backgroundcolor\":\"#E5ECF6\",\"gridcolor\":\"white\",\"linecolor\":\"white\",\"showbackground\":true,\"ticks\":\"\",\"zerolinecolor\":\"white\",\"gridwidth\":2},\"zaxis\":{\"backgroundcolor\":\"#E5ECF6\",\"gridcolor\":\"white\",\"linecolor\":\"white\",\"showbackground\":true,\"ticks\":\"\",\"zerolinecolor\":\"white\",\"gridwidth\":2}},\"shapedefaults\":{\"line\":{\"color\":\"#2a3f5f\"}},\"annotationdefaults\":{\"arrowcolor\":\"#2a3f5f\",\"arrowhead\":0,\"arrowwidth\":1},\"geo\":{\"bgcolor\":\"white\",\"landcolor\":\"#E5ECF6\",\"subunitcolor\":\"white\",\"showland\":true,\"showlakes\":true,\"lakecolor\":\"white\"},\"title\":{\"x\":0.05},\"mapbox\":{\"style\":\"light\"}}},\"xaxis\":{\"anchor\":\"y\",\"domain\":[0.0,0.31999999999999995],\"title\":{\"text\":\"GDP per Capita\"}},\"yaxis\":{\"anchor\":\"x\",\"domain\":[0.0,1.0],\"title\":{\"text\":\"Prevalence\"}},\"xaxis2\":{\"anchor\":\"y2\",\"domain\":[0.33999999999999997,0.6599999999999999],\"matches\":\"x\",\"title\":{\"text\":\"GDP per Capita\"}},\"yaxis2\":{\"anchor\":\"x2\",\"domain\":[0.0,1.0],\"matches\":\"y\",\"showticklabels\":false},\"xaxis3\":{\"anchor\":\"y3\",\"domain\":[0.6799999999999999,0.9999999999999999],\"matches\":\"x\",\"title\":{\"text\":\"GDP per Capita\"}},\"yaxis3\":{\"anchor\":\"x3\",\"domain\":[0.0,1.0],\"matches\":\"y\",\"showticklabels\":false},\"annotations\":[{\"font\":{},\"showarrow\":false,\"text\":\"Disease=Obesity Rate\",\"x\":0.15999999999999998,\"xanchor\":\"center\",\"xref\":\"paper\",\"y\":1.0,\"yanchor\":\"bottom\",\"yref\":\"paper\"},{\"font\":{},\"showarrow\":false,\"text\":\"Disease=Overweight Rate\",\"x\":0.49999999999999994,\"xanchor\":\"center\",\"xref\":\"paper\",\"y\":1.0,\"yanchor\":\"bottom\",\"yref\":\"paper\"},{\"font\":{},\"showarrow\":false,\"text\":\"Disease=Blood Pressure\",\"x\":0.8399999999999999,\"xanchor\":\"center\",\"xref\":\"paper\",\"y\":1.0,\"yanchor\":\"bottom\",\"yref\":\"paper\"}],\"legend\":{\"tracegroupgap\":0},\"title\":{\"text\":\"GDP per Capita vs Disease Prevalence\"}},                        {\"responsive\": true}                    ).then(function(){\n",
       "                            \n",
       "var gd = document.getElementById('ca943218-baf0-48f5-82ad-afd5139dd38e');\n",
       "var x = new MutationObserver(function (mutations, observer) {{\n",
       "        var display = window.getComputedStyle(gd).display;\n",
       "        if (!display || display === 'none') {{\n",
       "            console.log([gd, 'removed!']);\n",
       "            Plotly.purge(gd);\n",
       "            observer.disconnect();\n",
       "        }}\n",
       "}});\n",
       "\n",
       "// Listen for the removal of the full notebook cells\n",
       "var notebookContainer = gd.closest('#notebook-container');\n",
       "if (notebookContainer) {{\n",
       "    x.observe(notebookContainer, {childList: true});\n",
       "}}\n",
       "\n",
       "// Listen for the clearing of the current output cell\n",
       "var outputEl = gd.closest('.output');\n",
       "if (outputEl) {{\n",
       "    x.observe(outputEl, {childList: true});\n",
       "}}\n",
       "\n",
       "                        })                };                });            </script>        </div>"
      ]
     },
     "metadata": {},
     "output_type": "display_data"
    },
    {
     "data": {
      "application/vnd.plotly.v1+json": {
       "config": {
        "plotlyServerURL": "https://plot.ly"
       },
       "data": [
        {
         "hovertemplate": "GDP per Capita=%{x}<br>Obesity Rate=%{y}<br>Fruit Intake=%{marker.size}<br>Vegetable Intake=%{marker.color}<extra></extra>",
         "legendgroup": "",
         "marker": {
          "color": [
           98.1,
           308.8,
           129.1,
           131.8,
           123.3,
           123.8,
           95.9,
           232.1,
           116.8,
           118.4,
           77.7,
           186.8,
           113.2,
           99.1,
           27,
           225,
           399.2,
           185.2,
           105.6,
           443.6,
           87,
           148.3,
           112.1,
           93.4,
           143.2,
           163,
           297.6,
           112,
           104.7,
           131.6,
           115.2,
           140.2,
           306.1,
           92.8,
           125,
           212.6,
           141.6,
           96.5,
           97,
           194.8,
           166.4,
           115.2,
           118.5,
           105.6,
           193.2,
           106.4,
           103.1,
           121,
           103.5,
           195.1,
           108.6,
           147.7,
           69.3,
           103.4,
           293.3,
           88.8,
           125,
           210.4,
           155.4,
           138.3,
           122.2,
           117.4,
           87.7,
           137.4,
           20.2,
           48.1,
           138.1,
           147.3,
           91.3,
           252.3,
           92.4,
           145.1,
           29.5,
           480.8,
           80.1,
           62.1,
           160.5,
           167.8,
           116.6,
           227.3,
           116,
           69.3,
           83.3,
           149.4,
           148.9,
           117.1,
           282.7,
           157,
           246.9,
           38.1,
           117.9,
           87.9,
           131.8,
           138.2,
           109.1,
           140.3,
           350.7,
           121.4,
           111.9,
           91.7,
           131.8,
           195.6,
           191.1,
           130.5,
           95.4,
           233.3,
           165.9,
           131.8,
           90.3,
           166.4,
           177.8,
           194,
           186.1,
           150.8,
           91,
           90,
           174.2,
           135.5,
           171.2,
           138.5,
           223.4,
           182.8,
           173.9,
           163.5,
           151.4,
           98.5,
           92.8,
           272.9,
           117.3,
           131.8,
           193.1,
           131.8,
           128.8,
           154.9,
           88.1,
           151.2,
           95.6,
           110.3,
           131.8,
           81.9,
           178.7,
           131.8,
           161.2,
           67.7,
           139.3,
           168.9,
           358.2,
           180.9,
           281.1,
           147,
           130.6,
           73.1,
           152.2,
           173.2,
           119.1,
           128.4,
           131.8,
           131.8,
           460.9,
           131.8,
           36.2,
           180.3,
           101.6,
           115.1,
           150.8,
           167,
           215.5,
           129.7,
           36.7,
           148.5,
           175.6,
           53.8,
           107.1,
           140.8,
           139.4,
           86.5,
           198,
           112.9,
           131.8,
           169.3,
           110.7,
           183.4,
           162.7,
           128.6,
           214.7,
           104.3,
           91,
           177.1,
           71.4,
           336.4,
           58.5,
           131.8,
           195.8,
           141.2,
           131.8,
           131.8,
           131.8,
           131.8,
           131.8,
           131.8,
           131.8,
           131.8,
           131.8
          ],
          "coloraxis": "coloraxis",
          "size": [
           65.7,
           119.7,
           138.9,
           91,
           107.6,
           94,
           91.2,
           95.5,
           131.9,
           105.7,
           104.8,
           73.8,
           103.9,
           74.8,
           34.8,
           54.7,
           95.9,
           119.8,
           83.7,
           499.9,
           246.3,
           85.6,
           86.6,
           85,
           129.5,
           82.9,
           97.8,
           50.9,
           99,
           136.1,
           138,
           108.5,
           89.4,
           60.7,
           83.3,
           94.5,
           89.7,
           100.5,
           85.3,
           237.2,
           130.8,
           130.5,
           59.4,
           74.1,
           140.8,
           146.2,
           106.2,
           90.2,
           142.8,
           79.5,
           26,
           88.4,
           57.3,
           64.3,
           105.2,
           38.6,
           150.2,
           109.3,
           150.8,
           145.4,
           69.9,
           91.3,
           71.8,
           87.9,
           22,
           30.7,
           67.6,
           91,
           77,
           121.5,
           75.6,
           202.8,
           88.8,
           59.5,
           70,
           60,
           67,
           35.8,
           78.4,
           168.6,
           102.9,
           76.1,
           133.9,
           199.4,
           176.7,
           171.1,
           108.9,
           59.1,
           105,
           74.9,
           49,
           98,
           91,
           96.4,
           56.9,
           119.1,
           227.3,
           49.6,
           52.7,
           76.6,
           91,
           79.2,
           68.9,
           69.4,
           85.9,
           59.1,
           96.2,
           91,
           98.3,
           89.6,
           230.4,
           149.8,
           112.4,
           91.9,
           70,
           132.8,
           79.5,
           245.4,
           48.7,
           102.3,
           34.8,
           76.8,
           113.7,
           106.5,
           255,
           63.6,
           35.1,
           156.5,
           106.2,
           82.3,
           37.9,
           91,
           152.9,
           120.6,
           33.9,
           130.9,
           227.8,
           84.9,
           91,
           3.9,
           234.9,
           91,
           420.9,
           93.9,
           106.1,
           123.1,
           194.2,
           90.4,
           122.6,
           146.6,
           82.4,
           52.4,
           134.2,
           60,
           89.3,
           124,
           91,
           91,
           148.4,
           91,
           128.9,
           103.3,
           80.3,
           76.6,
           115,
           92.7,
           108.5,
           101.6,
           42.4,
           54.8,
           97.2,
           90.7,
           68.6,
           52,
           130.4,
           68.5,
           64,
           79.8,
           91,
           65.8,
           55.6,
           94.1,
           97,
           86.8,
           83.6,
           143.5,
           108.1,
           82.6,
           41.3,
           140.3,
           39.3,
           32.7,
           51.2,
           83.4,
           91,
           91,
           91,
           91,
           91,
           91,
           91,
           91,
           91
          ],
          "sizemode": "area",
          "sizeref": 1.24975,
          "symbol": "circle"
         },
         "mode": "markers",
         "name": "",
         "orientation": "v",
         "showlegend": false,
         "type": "scatter",
         "x": [
          2459.23,
          7647.41,
          12657.3,
          55834.76,
          66279.79,
          22992.22,
          11557.68,
          19179.26,
          49038.71,
          53927.94,
          14345.73,
          798.25,
          49848.48,
          3039.7,
          2004.17,
          4236.27,
          20669.9,
          48405.7,
          36124.69,
          13198.69,
          18766.01,
          6895.51,
          7941.24,
          15036.48,
          15013.58,
          62848.43,
          10188.37,
          15368.49,
          960.74,
          47763.47,
          69357.23,
          23290.36,
          13395.27,
          4435.71,
          3431.3,
          1033.74,
          5347.27,
          14244.26,
          2939.72,
          6387.39,
          18825.13,
          12301.5,
          37016.34,
          37179.01,
          51957.24,
          4754.27,
          12301.5,
          54412.58,
          16355.22,
          11307.17,
          11377.44,
          11289.99,
          1734.32,
          37820.66,
          32701.75,
          2155.71,
          46830.52,
          12160.48,
          45508.06,
          3224.99,
          15351.56,
          44411.38,
          13036.32,
          5038.96,
          2142.67,
          2118.21,
          2185.82,
          25939.81,
          28553.07,
          14961.62,
          7768.62,
          13156.91,
          5303.51,
          25822.16,
          2980.85,
          28920.17,
          10582.93,
          5682.67,
          73004.94,
          13108.11,
          10388.29,
          53502.34,
          38209.61,
          41362.7,
          10087.28,
          10300.67,
          40271.79,
          24303.8,
          4564.6,
          4817.17,
          3844.53,
          1966.09,
          24129.12,
          39798.97,
          48156.56,
          6746.81,
          16097.12,
          1641.19,
          12390.65,
          14526.76,
          12301.5,
          11919.21,
          2679.56,
          32411.6,
          112222.73,
          27357.51,
          7303.23,
          12301.5,
          11023.51,
          1539.46,
          22683.08,
          19200.55,
          3416.06,
          15208.02,
          2229.99,
          40654.16,
          4013.48,
          18742.94,
          10722.57,
          1220.2,
          5500.95,
          20014.04,
          1349.33,
          24590.98,
          9986.86,
          1151.44,
          5206.64,
          5449.59,
          54341.03,
          61924.34,
          3419.69,
          8518.67,
          39934.45,
          30565.87,
          4659.42,
          27894.86,
          11930.22,
          7583.65,
          14188.45,
          3529.09,
          29245.89,
          12301.5,
          32064.23,
          11796.58,
          5668.27,
          100441.51,
          25684.25,
          26280.31,
          1950.06,
          47572.5,
          4584.43,
          3073.29,
          91189.77,
          2301.51,
          1680.19,
          8211.53,
          59826.24,
          915.85,
          16565.02,
          1056.54,
          3837.22,
          18405.7,
          29876.24,
          35662.4,
          51194.07,
          8464.76,
          25517.21,
          12301.5,
          1680.12,
          1949.85,
          16657.62,
          2962.67,
          15564.02,
          3189.15,
          5470.4,
          27079,
          10208.93,
          26480.86,
          3964.63,
          2449.36,
          2347.14,
          12341.19,
          21781.44,
          58978.44,
          6588.91,
          11871.03,
          13592.55,
          8654.12,
          2631.22,
          5368.8,
          2599.94,
          13697.11,
          3309.54,
          2291.12,
          12301.5,
          12301.5,
          12301.5,
          12301.5,
          12301.5,
          12301.5,
          12301.5,
          12301.5,
          12301.5
         ],
         "xaxis": "x",
         "y": [
          4.79,
          7.17,
          20.21,
          25.06,
          32.76,
          26.9,
          18.9,
          17.59,
          27.56,
          19.03,
          18.3,
          4.73,
          21.19,
          8.57,
          4.65,
          3.12,
          23.8,
          29.94,
          29.94,
          16.81,
          23.25,
          22.64,
          18.83,
          20.7,
          21.59,
          12.84,
          5.83,
          17.76,
          6.6,
          27.96,
          18.55,
          26.7,
          5.42,
          9.5,
          10.28,
          5.9,
          8.68,
          20.91,
          7.01,
          10.6,
          23.94,
          23.38,
          20.88,
          25.01,
          21.24,
          12.7,
          26.29,
          18.68,
          25.62,
          25.69,
          18.66,
          30.18,
          4.25,
          22.79,
          20.31,
          3.88,
          21.19,
          28.64,
          20.6,
          43.97,
          14.03,
          26.26,
          19.93,
          9.68,
          6.82,
          9.26,
          8.38,
          7.46,
          23.75,
          19.8,
          19.35,
          18.4,
          19.74,
          23.08,
          20.37,
          25.17,
          5.97,
          3.43,
          23.71,
          24.23,
          28.73,
          20.86,
          25.25,
          19.06,
          22.87,
          34.13,
          3.85,
          19.46,
          6.23,
          15.01,
          3.26,
          44.38,
          21.16,
          4.3,
          38.13,
          4.45,
          30.86,
          8.97,
          30.83,
          18.08,
          19.405,
          4.43,
          14.52,
          25.14,
          21.5,
          22.57,
          24.11,
          19.405,
          17.76,
          4.62,
          7.44,
          27.25,
          51.5,
          21.36,
          7.53,
          27.96,
          4.89,
          22.18,
          18.75,
          6.24,
          11.51,
          9.89,
          5.06,
          13.97,
          15.11,
          4.96,
          7.89,
          22.06,
          19.26,
          21.91,
          3.52,
          60.14,
          29.25,
          26.59,
          7.7,
          21.38,
          18.62,
          5.73,
          53.9,
          19.75,
          21.98,
          6.14,
          19.62,
          18.96,
          30.98,
          36.34,
          21.31,
          21.76,
          4.93,
          34.93,
          7.37,
          7.69,
          5.76,
          20.92,
          7.75,
          22.49,
          19.405,
          7.32,
          20.45,
          19.405,
          11.02,
          25.03,
          19.55,
          19.28,
          19.53,
          14.75,
          13.02,
          26.14,
          5.38,
          7.37,
          8.55,
          12.88,
          16.99,
          3.24,
          46.23,
          16.98,
          25.22,
          30.11,
          49.77,
          7.39,
          4.63,
          22.92,
          26.53,
          34.57,
          15.07,
          22.2,
          24.55,
          1.75,
          23.53,
          45.86,
          15.43,
          26.04,
          7.22,
          14.21,
          19.405,
          19.405,
          19.405,
          19.405,
          19.405,
          19.405,
          19.405,
          19.405,
          19.405
         ],
         "yaxis": "y"
        }
       ],
       "layout": {
        "autosize": true,
        "coloraxis": {
         "colorbar": {
          "title": {
           "text": "Vegetable Intake"
          }
         },
         "colorscale": [
          [
           0,
           "#0d0887"
          ],
          [
           0.1111111111111111,
           "#46039f"
          ],
          [
           0.2222222222222222,
           "#7201a8"
          ],
          [
           0.3333333333333333,
           "#9c179e"
          ],
          [
           0.4444444444444444,
           "#bd3786"
          ],
          [
           0.5555555555555556,
           "#d8576b"
          ],
          [
           0.6666666666666666,
           "#ed7953"
          ],
          [
           0.7777777777777778,
           "#fb9f3a"
          ],
          [
           0.8888888888888888,
           "#fdca26"
          ],
          [
           1,
           "#f0f921"
          ]
         ]
        },
        "legend": {
         "itemsizing": "constant",
         "tracegroupgap": 0
        },
        "template": {
         "data": {
          "bar": [
           {
            "error_x": {
             "color": "#2a3f5f"
            },
            "error_y": {
             "color": "#2a3f5f"
            },
            "marker": {
             "line": {
              "color": "#E5ECF6",
              "width": 0.5
             },
             "pattern": {
              "fillmode": "overlay",
              "size": 10,
              "solidity": 0.2
             }
            },
            "type": "bar"
           }
          ],
          "barpolar": [
           {
            "marker": {
             "line": {
              "color": "#E5ECF6",
              "width": 0.5
             },
             "pattern": {
              "fillmode": "overlay",
              "size": 10,
              "solidity": 0.2
             }
            },
            "type": "barpolar"
           }
          ],
          "carpet": [
           {
            "aaxis": {
             "endlinecolor": "#2a3f5f",
             "gridcolor": "white",
             "linecolor": "white",
             "minorgridcolor": "white",
             "startlinecolor": "#2a3f5f"
            },
            "baxis": {
             "endlinecolor": "#2a3f5f",
             "gridcolor": "white",
             "linecolor": "white",
             "minorgridcolor": "white",
             "startlinecolor": "#2a3f5f"
            },
            "type": "carpet"
           }
          ],
          "choropleth": [
           {
            "colorbar": {
             "outlinewidth": 0,
             "ticks": ""
            },
            "type": "choropleth"
           }
          ],
          "contour": [
           {
            "colorbar": {
             "outlinewidth": 0,
             "ticks": ""
            },
            "colorscale": [
             [
              0,
              "#0d0887"
             ],
             [
              0.1111111111111111,
              "#46039f"
             ],
             [
              0.2222222222222222,
              "#7201a8"
             ],
             [
              0.3333333333333333,
              "#9c179e"
             ],
             [
              0.4444444444444444,
              "#bd3786"
             ],
             [
              0.5555555555555556,
              "#d8576b"
             ],
             [
              0.6666666666666666,
              "#ed7953"
             ],
             [
              0.7777777777777778,
              "#fb9f3a"
             ],
             [
              0.8888888888888888,
              "#fdca26"
             ],
             [
              1,
              "#f0f921"
             ]
            ],
            "type": "contour"
           }
          ],
          "contourcarpet": [
           {
            "colorbar": {
             "outlinewidth": 0,
             "ticks": ""
            },
            "type": "contourcarpet"
           }
          ],
          "heatmap": [
           {
            "colorbar": {
             "outlinewidth": 0,
             "ticks": ""
            },
            "colorscale": [
             [
              0,
              "#0d0887"
             ],
             [
              0.1111111111111111,
              "#46039f"
             ],
             [
              0.2222222222222222,
              "#7201a8"
             ],
             [
              0.3333333333333333,
              "#9c179e"
             ],
             [
              0.4444444444444444,
              "#bd3786"
             ],
             [
              0.5555555555555556,
              "#d8576b"
             ],
             [
              0.6666666666666666,
              "#ed7953"
             ],
             [
              0.7777777777777778,
              "#fb9f3a"
             ],
             [
              0.8888888888888888,
              "#fdca26"
             ],
             [
              1,
              "#f0f921"
             ]
            ],
            "type": "heatmap"
           }
          ],
          "heatmapgl": [
           {
            "colorbar": {
             "outlinewidth": 0,
             "ticks": ""
            },
            "colorscale": [
             [
              0,
              "#0d0887"
             ],
             [
              0.1111111111111111,
              "#46039f"
             ],
             [
              0.2222222222222222,
              "#7201a8"
             ],
             [
              0.3333333333333333,
              "#9c179e"
             ],
             [
              0.4444444444444444,
              "#bd3786"
             ],
             [
              0.5555555555555556,
              "#d8576b"
             ],
             [
              0.6666666666666666,
              "#ed7953"
             ],
             [
              0.7777777777777778,
              "#fb9f3a"
             ],
             [
              0.8888888888888888,
              "#fdca26"
             ],
             [
              1,
              "#f0f921"
             ]
            ],
            "type": "heatmapgl"
           }
          ],
          "histogram": [
           {
            "marker": {
             "pattern": {
              "fillmode": "overlay",
              "size": 10,
              "solidity": 0.2
             }
            },
            "type": "histogram"
           }
          ],
          "histogram2d": [
           {
            "colorbar": {
             "outlinewidth": 0,
             "ticks": ""
            },
            "colorscale": [
             [
              0,
              "#0d0887"
             ],
             [
              0.1111111111111111,
              "#46039f"
             ],
             [
              0.2222222222222222,
              "#7201a8"
             ],
             [
              0.3333333333333333,
              "#9c179e"
             ],
             [
              0.4444444444444444,
              "#bd3786"
             ],
             [
              0.5555555555555556,
              "#d8576b"
             ],
             [
              0.6666666666666666,
              "#ed7953"
             ],
             [
              0.7777777777777778,
              "#fb9f3a"
             ],
             [
              0.8888888888888888,
              "#fdca26"
             ],
             [
              1,
              "#f0f921"
             ]
            ],
            "type": "histogram2d"
           }
          ],
          "histogram2dcontour": [
           {
            "colorbar": {
             "outlinewidth": 0,
             "ticks": ""
            },
            "colorscale": [
             [
              0,
              "#0d0887"
             ],
             [
              0.1111111111111111,
              "#46039f"
             ],
             [
              0.2222222222222222,
              "#7201a8"
             ],
             [
              0.3333333333333333,
              "#9c179e"
             ],
             [
              0.4444444444444444,
              "#bd3786"
             ],
             [
              0.5555555555555556,
              "#d8576b"
             ],
             [
              0.6666666666666666,
              "#ed7953"
             ],
             [
              0.7777777777777778,
              "#fb9f3a"
             ],
             [
              0.8888888888888888,
              "#fdca26"
             ],
             [
              1,
              "#f0f921"
             ]
            ],
            "type": "histogram2dcontour"
           }
          ],
          "mesh3d": [
           {
            "colorbar": {
             "outlinewidth": 0,
             "ticks": ""
            },
            "type": "mesh3d"
           }
          ],
          "parcoords": [
           {
            "line": {
             "colorbar": {
              "outlinewidth": 0,
              "ticks": ""
             }
            },
            "type": "parcoords"
           }
          ],
          "pie": [
           {
            "automargin": true,
            "type": "pie"
           }
          ],
          "scatter": [
           {
            "fillpattern": {
             "fillmode": "overlay",
             "size": 10,
             "solidity": 0.2
            },
            "type": "scatter"
           }
          ],
          "scatter3d": [
           {
            "line": {
             "colorbar": {
              "outlinewidth": 0,
              "ticks": ""
             }
            },
            "marker": {
             "colorbar": {
              "outlinewidth": 0,
              "ticks": ""
             }
            },
            "type": "scatter3d"
           }
          ],
          "scattercarpet": [
           {
            "marker": {
             "colorbar": {
              "outlinewidth": 0,
              "ticks": ""
             }
            },
            "type": "scattercarpet"
           }
          ],
          "scattergeo": [
           {
            "marker": {
             "colorbar": {
              "outlinewidth": 0,
              "ticks": ""
             }
            },
            "type": "scattergeo"
           }
          ],
          "scattergl": [
           {
            "marker": {
             "colorbar": {
              "outlinewidth": 0,
              "ticks": ""
             }
            },
            "type": "scattergl"
           }
          ],
          "scattermapbox": [
           {
            "marker": {
             "colorbar": {
              "outlinewidth": 0,
              "ticks": ""
             }
            },
            "type": "scattermapbox"
           }
          ],
          "scatterpolar": [
           {
            "marker": {
             "colorbar": {
              "outlinewidth": 0,
              "ticks": ""
             }
            },
            "type": "scatterpolar"
           }
          ],
          "scatterpolargl": [
           {
            "marker": {
             "colorbar": {
              "outlinewidth": 0,
              "ticks": ""
             }
            },
            "type": "scatterpolargl"
           }
          ],
          "scatterternary": [
           {
            "marker": {
             "colorbar": {
              "outlinewidth": 0,
              "ticks": ""
             }
            },
            "type": "scatterternary"
           }
          ],
          "surface": [
           {
            "colorbar": {
             "outlinewidth": 0,
             "ticks": ""
            },
            "colorscale": [
             [
              0,
              "#0d0887"
             ],
             [
              0.1111111111111111,
              "#46039f"
             ],
             [
              0.2222222222222222,
              "#7201a8"
             ],
             [
              0.3333333333333333,
              "#9c179e"
             ],
             [
              0.4444444444444444,
              "#bd3786"
             ],
             [
              0.5555555555555556,
              "#d8576b"
             ],
             [
              0.6666666666666666,
              "#ed7953"
             ],
             [
              0.7777777777777778,
              "#fb9f3a"
             ],
             [
              0.8888888888888888,
              "#fdca26"
             ],
             [
              1,
              "#f0f921"
             ]
            ],
            "type": "surface"
           }
          ],
          "table": [
           {
            "cells": {
             "fill": {
              "color": "#EBF0F8"
             },
             "line": {
              "color": "white"
             }
            },
            "header": {
             "fill": {
              "color": "#C8D4E3"
             },
             "line": {
              "color": "white"
             }
            },
            "type": "table"
           }
          ]
         },
         "layout": {
          "annotationdefaults": {
           "arrowcolor": "#2a3f5f",
           "arrowhead": 0,
           "arrowwidth": 1
          },
          "autotypenumbers": "strict",
          "coloraxis": {
           "colorbar": {
            "outlinewidth": 0,
            "ticks": ""
           }
          },
          "colorscale": {
           "diverging": [
            [
             0,
             "#8e0152"
            ],
            [
             0.1,
             "#c51b7d"
            ],
            [
             0.2,
             "#de77ae"
            ],
            [
             0.3,
             "#f1b6da"
            ],
            [
             0.4,
             "#fde0ef"
            ],
            [
             0.5,
             "#f7f7f7"
            ],
            [
             0.6,
             "#e6f5d0"
            ],
            [
             0.7,
             "#b8e186"
            ],
            [
             0.8,
             "#7fbc41"
            ],
            [
             0.9,
             "#4d9221"
            ],
            [
             1,
             "#276419"
            ]
           ],
           "sequential": [
            [
             0,
             "#0d0887"
            ],
            [
             0.1111111111111111,
             "#46039f"
            ],
            [
             0.2222222222222222,
             "#7201a8"
            ],
            [
             0.3333333333333333,
             "#9c179e"
            ],
            [
             0.4444444444444444,
             "#bd3786"
            ],
            [
             0.5555555555555556,
             "#d8576b"
            ],
            [
             0.6666666666666666,
             "#ed7953"
            ],
            [
             0.7777777777777778,
             "#fb9f3a"
            ],
            [
             0.8888888888888888,
             "#fdca26"
            ],
            [
             1,
             "#f0f921"
            ]
           ],
           "sequentialminus": [
            [
             0,
             "#0d0887"
            ],
            [
             0.1111111111111111,
             "#46039f"
            ],
            [
             0.2222222222222222,
             "#7201a8"
            ],
            [
             0.3333333333333333,
             "#9c179e"
            ],
            [
             0.4444444444444444,
             "#bd3786"
            ],
            [
             0.5555555555555556,
             "#d8576b"
            ],
            [
             0.6666666666666666,
             "#ed7953"
            ],
            [
             0.7777777777777778,
             "#fb9f3a"
            ],
            [
             0.8888888888888888,
             "#fdca26"
            ],
            [
             1,
             "#f0f921"
            ]
           ]
          },
          "colorway": [
           "#636efa",
           "#EF553B",
           "#00cc96",
           "#ab63fa",
           "#FFA15A",
           "#19d3f3",
           "#FF6692",
           "#B6E880",
           "#FF97FF",
           "#FECB52"
          ],
          "font": {
           "color": "#2a3f5f"
          },
          "geo": {
           "bgcolor": "white",
           "lakecolor": "white",
           "landcolor": "#E5ECF6",
           "showlakes": true,
           "showland": true,
           "subunitcolor": "white"
          },
          "hoverlabel": {
           "align": "left"
          },
          "hovermode": "closest",
          "mapbox": {
           "style": "light"
          },
          "paper_bgcolor": "white",
          "plot_bgcolor": "#E5ECF6",
          "polar": {
           "angularaxis": {
            "gridcolor": "white",
            "linecolor": "white",
            "ticks": ""
           },
           "bgcolor": "#E5ECF6",
           "radialaxis": {
            "gridcolor": "white",
            "linecolor": "white",
            "ticks": ""
           }
          },
          "scene": {
           "xaxis": {
            "backgroundcolor": "#E5ECF6",
            "gridcolor": "white",
            "gridwidth": 2,
            "linecolor": "white",
            "showbackground": true,
            "ticks": "",
            "zerolinecolor": "white"
           },
           "yaxis": {
            "backgroundcolor": "#E5ECF6",
            "gridcolor": "white",
            "gridwidth": 2,
            "linecolor": "white",
            "showbackground": true,
            "ticks": "",
            "zerolinecolor": "white"
           },
           "zaxis": {
            "backgroundcolor": "#E5ECF6",
            "gridcolor": "white",
            "gridwidth": 2,
            "linecolor": "white",
            "showbackground": true,
            "ticks": "",
            "zerolinecolor": "white"
           }
          },
          "shapedefaults": {
           "line": {
            "color": "#2a3f5f"
           }
          },
          "ternary": {
           "aaxis": {
            "gridcolor": "white",
            "linecolor": "white",
            "ticks": ""
           },
           "baxis": {
            "gridcolor": "white",
            "linecolor": "white",
            "ticks": ""
           },
           "bgcolor": "#E5ECF6",
           "caxis": {
            "gridcolor": "white",
            "linecolor": "white",
            "ticks": ""
           }
          },
          "title": {
           "x": 0.05
          },
          "xaxis": {
           "automargin": true,
           "gridcolor": "white",
           "linecolor": "white",
           "ticks": "",
           "title": {
            "standoff": 15
           },
           "zerolinecolor": "white",
           "zerolinewidth": 2
          },
          "yaxis": {
           "automargin": true,
           "gridcolor": "white",
           "linecolor": "white",
           "ticks": "",
           "title": {
            "standoff": 15
           },
           "zerolinecolor": "white",
           "zerolinewidth": 2
          }
         }
        },
        "title": {
         "text": "Bubble Plot of GDP, Obesity, and Dietary Intake"
        },
        "xaxis": {
         "anchor": "y",
         "autorange": true,
         "domain": [
          0,
          1
         ],
         "range": [
          -6356.401807730679,
          119445.5675919523
         ],
         "title": {
          "text": "GDP per Capita"
         },
         "type": "linear"
        },
        "yaxis": {
         "anchor": "x",
         "autorange": true,
         "domain": [
          0,
          1
         ],
         "range": [
          -4.30261465933139,
          66.31772764583702
         ],
         "title": {
          "text": "Obesity Rate"
         },
         "type": "linear"
        }
       }
      },
      "image/png": "[encoded data removed]",
      "text/html": [
       "<div>                            <div id=\"62299017-a4f0-432a-b76d-344ee1326ea3\" class=\"plotly-graph-div\" style=\"height:525px; width:100%;\"></div>            <script type=\"text/javascript\">                require([\"plotly\"], function(Plotly) {                    window.PLOTLYENV=window.PLOTLYENV || {};                                    if (document.getElementById(\"62299017-a4f0-432a-b76d-344ee1326ea3\")) {                    Plotly.newPlot(                        \"62299017-a4f0-432a-b76d-344ee1326ea3\",                        [{\"hovertemplate\":\"GDP per Capita=%{x}\\u003cbr\\u003eObesity Rate=%{y}\\u003cbr\\u003eFruit Intake=%{marker.size}\\u003cbr\\u003eVegetable Intake=%{marker.color}\\u003cextra\\u003e\\u003c\\u002fextra\\u003e\",\"legendgroup\":\"\",\"marker\":{\"color\":[98.1,308.8,129.1,131.8,123.3,123.8,95.9,232.1,116.8,118.4,77.7,186.8,113.2,99.1,27.0,225.0,399.2,185.2,105.6,443.6,87.0,148.3,112.1,93.4,143.2,163.0,297.6,112.0,104.7,131.6,115.2,140.2,306.1,92.8,125.0,212.6,141.6,96.5,97.0,194.8,166.4,115.2,118.5,105.6,193.2,106.4,103.1,121.0,103.5,195.1,108.6,147.7,69.3,103.4,293.3,88.8,125.0,210.4,155.4,138.3,122.2,117.4,87.7,137.4,20.2,48.1,138.1,147.3,91.3,252.3,92.4,145.1,29.5,480.8,80.1,62.1,160.5,167.8,116.6,227.3,116.0,69.3,83.3,149.4,148.9,117.1,282.7,157.0,246.9,38.1,117.9,87.9,131.8,138.2,109.1,140.3,350.7,121.4,111.9,91.7,131.8,195.6,191.1,130.5,95.4,233.3,165.9,131.8,90.3,166.4,177.8,194.0,186.1,150.8,91.0,90.0,174.2,135.5,171.2,138.5,223.4,182.8,173.9,163.5,151.4,98.5,92.8,272.9,117.3,131.8,193.1,131.8,128.8,154.9,88.1,151.2,95.6,110.3,131.8,81.9,178.7,131.8,161.2,67.7,139.3,168.9,358.2,180.9,281.1,147.0,130.6,73.1,152.2,173.2,119.1,128.4,131.8,131.8,460.9,131.8,36.2,180.3,101.6,115.1,150.8,167.0,215.5,129.7,36.7,148.5,175.6,53.8,107.1,140.8,139.4,86.5,198.0,112.9,131.8,169.3,110.7,183.4,162.7,128.6,214.7,104.3,91.0,177.1,71.4,336.4,58.5,131.8,195.8,141.2,131.8,131.8,131.8,131.8,131.8,131.8,131.8,131.8,131.8],\"coloraxis\":\"coloraxis\",\"size\":[65.7,119.7,138.9,91.0,107.6,94.0,91.2,95.5,131.9,105.7,104.8,73.8,103.9,74.8,34.8,54.7,95.9,119.8,83.7,499.9,246.3,85.6,86.6,85.0,129.5,82.9,97.8,50.9,99.0,136.1,138.0,108.5,89.4,60.7,83.3,94.5,89.7,100.5,85.3,237.2,130.8,130.5,59.4,74.1,140.8,146.2,106.2,90.2,142.8,79.5,26.0,88.4,57.3,64.3,105.2,38.6,150.2,109.3,150.8,145.4,69.9,91.3,71.8,87.9,22.0,30.7,67.6,91.0,77.0,121.5,75.6,202.8,88.8,59.5,70.0,60.0,67.0,35.8,78.4,168.6,102.9,76.1,133.9,199.4,176.7,171.1,108.9,59.1,105.0,74.9,49.0,98.0,91.0,96.4,56.9,119.1,227.3,49.6,52.7,76.6,91.0,79.2,68.9,69.4,85.9,59.1,96.2,91.0,98.3,89.6,230.4,149.8,112.4,91.9,70.0,132.8,79.5,245.4,48.7,102.3,34.8,76.8,113.7,106.5,255.0,63.6,35.1,156.5,106.2,82.3,37.9,91.0,152.9,120.6,33.9,130.9,227.8,84.9,91.0,3.9,234.9,91.0,420.9,93.9,106.1,123.1,194.2,90.4,122.6,146.6,82.4,52.4,134.2,60.0,89.3,124.0,91.0,91.0,148.4,91.0,128.9,103.3,80.3,76.6,115.0,92.7,108.5,101.6,42.4,54.8,97.2,90.7,68.6,52.0,130.4,68.5,64.0,79.8,91.0,65.8,55.6,94.1,97.0,86.8,83.6,143.5,108.1,82.6,41.3,140.3,39.3,32.7,51.2,83.4,91.0,91.0,91.0,91.0,91.0,91.0,91.0,91.0,91.0],\"sizemode\":\"area\",\"sizeref\":1.24975,\"symbol\":\"circle\"},\"mode\":\"markers\",\"name\":\"\",\"orientation\":\"v\",\"showlegend\":false,\"x\":[2459.23,7647.41,12657.3,55834.76,66279.79,22992.22,11557.68,19179.26,49038.71,53927.94,14345.73,798.25,49848.48,3039.7,2004.17,4236.27,20669.9,48405.7,36124.69,13198.69,18766.01,6895.51,7941.24,15036.48,15013.58,62848.43,10188.37,15368.49,960.74,47763.47,69357.23,23290.36,13395.27,4435.71,3431.3,1033.74,5347.27,14244.26,2939.72,6387.39,18825.13,12301.5,37016.34,37179.01,51957.24,4754.27,12301.5,54412.58,16355.22,11307.17,11377.44,11289.99,1734.32,37820.66,32701.75,2155.71,46830.52,12160.48,45508.06,3224.99,15351.56,44411.38,13036.32,5038.96,2142.67,2118.21,2185.82,25939.81,28553.07,14961.62,7768.62,13156.91,5303.51,25822.16,2980.85,28920.17,10582.93,5682.67,73004.94,13108.11,10388.29,53502.34,38209.61,41362.7,10087.28,10300.67,40271.79,24303.8,4564.6,4817.17,3844.53,1966.09,24129.12,39798.97,48156.56,6746.81,16097.12,1641.19,12390.65,14526.76,12301.5,11919.21,2679.56,32411.6,112222.73,27357.51,7303.23,12301.5,11023.51,1539.46,22683.08,19200.55,3416.06,15208.02,2229.99,40654.16,4013.48,18742.94,10722.57,1220.2,5500.95,20014.04,1349.33,24590.98,9986.86,1151.44,5206.64,5449.59,54341.03,61924.34,3419.69,8518.67,39934.45,30565.87,4659.42,27894.86,11930.22,7583.65,14188.45,3529.09,29245.89,12301.5,32064.23,11796.58,5668.27,100441.51,25684.25,26280.31,1950.06,47572.5,4584.43,3073.29,91189.77,2301.51,1680.19,8211.53,59826.24,915.85,16565.02,1056.54,3837.22,18405.7,29876.24,35662.4,51194.07,8464.76,25517.21,12301.5,1680.12,1949.85,16657.62,2962.67,15564.02,3189.15,5470.4,27079.0,10208.93,26480.86,3964.63,2449.36,2347.14,12341.19,21781.44,58978.44,6588.91,11871.03,13592.55,8654.12,2631.22,5368.8,2599.94,13697.11,3309.54,2291.12,12301.5,12301.5,12301.5,12301.5,12301.5,12301.5,12301.5,12301.5,12301.5],\"xaxis\":\"x\",\"y\":[4.79,7.17,20.21,25.06,32.76,26.9,18.9,17.59,27.56,19.03,18.3,4.73,21.19,8.57,4.65,3.12,23.8,29.94,29.94,16.81,23.25,22.64,18.83,20.7,21.59,12.84,5.83,17.76,6.6,27.96,18.55,26.7,5.42,9.5,10.28,5.9,8.68,20.91,7.01,10.6,23.94,23.38,20.88,25.01,21.24,12.7,26.29,18.68,25.62,25.69,18.66,30.18,4.25,22.79,20.31,3.88,21.19,28.64,20.6,43.97,14.03,26.26,19.93,9.68,6.82,9.26,8.38,7.46,23.75,19.8,19.35,18.4,19.74,23.08,20.37,25.17,5.97,3.43,23.71,24.23,28.73,20.86,25.25,19.06,22.87,34.13,3.85,19.46,6.23,15.01,3.26,44.38,21.16,4.3,38.13,4.45,30.86,8.97,30.83,18.08,19.405,4.43,14.52,25.14,21.5,22.57,24.11,19.405,17.76,4.62,7.44,27.25,51.5,21.36,7.53,27.96,4.89,22.18,18.75,6.24,11.51,9.89,5.06,13.97,15.11,4.96,7.89,22.06,19.26,21.91,3.52,60.14,29.25,26.59,7.7,21.38,18.62,5.73,53.9,19.75,21.98,6.14,19.62,18.96,30.98,36.34,21.31,21.76,4.93,34.93,7.37,7.69,5.76,20.92,7.75,22.49,19.405,7.32,20.45,19.405,11.02,25.03,19.55,19.28,19.53,14.75,13.02,26.14,5.38,7.37,8.55,12.88,16.99,3.24,46.23,16.98,25.22,30.11,49.77,7.39,4.63,22.92,26.53,34.57,15.07,22.2,24.55,1.75,23.53,45.86,15.43,26.04,7.22,14.21,19.405,19.405,19.405,19.405,19.405,19.405,19.405,19.405,19.405],\"yaxis\":\"y\",\"type\":\"scatter\"}],                        {\"template\":{\"data\":{\"histogram2dcontour\":[{\"type\":\"histogram2dcontour\",\"colorbar\":{\"outlinewidth\":0,\"ticks\":\"\"},\"colorscale\":[[0.0,\"#0d0887\"],[0.1111111111111111,\"#46039f\"],[0.2222222222222222,\"#7201a8\"],[0.3333333333333333,\"#9c179e\"],[0.4444444444444444,\"#bd3786\"],[0.5555555555555556,\"#d8576b\"],[0.6666666666666666,\"#ed7953\"],[0.7777777777777778,\"#fb9f3a\"],[0.8888888888888888,\"#fdca26\"],[1.0,\"#f0f921\"]]}],\"choropleth\":[{\"type\":\"choropleth\",\"colorbar\":{\"outlinewidth\":0,\"ticks\":\"\"}}],\"histogram2d\":[{\"type\":\"histogram2d\",\"colorbar\":{\"outlinewidth\":0,\"ticks\":\"\"},\"colorscale\":[[0.0,\"#0d0887\"],[0.1111111111111111,\"#46039f\"],[0.2222222222222222,\"#7201a8\"],[0.3333333333333333,\"#9c179e\"],[0.4444444444444444,\"#bd3786\"],[0.5555555555555556,\"#d8576b\"],[0.6666666666666666,\"#ed7953\"],[0.7777777777777778,\"#fb9f3a\"],[0.8888888888888888,\"#fdca26\"],[1.0,\"#f0f921\"]]}],\"heatmap\":[{\"type\":\"heatmap\",\"colorbar\":{\"outlinewidth\":0,\"ticks\":\"\"},\"colorscale\":[[0.0,\"#0d0887\"],[0.1111111111111111,\"#46039f\"],[0.2222222222222222,\"#7201a8\"],[0.3333333333333333,\"#9c179e\"],[0.4444444444444444,\"#bd3786\"],[0.5555555555555556,\"#d8576b\"],[0.6666666666666666,\"#ed7953\"],[0.7777777777777778,\"#fb9f3a\"],[0.8888888888888888,\"#fdca26\"],[1.0,\"#f0f921\"]]}],\"heatmapgl\":[{\"type\":\"heatmapgl\",\"colorbar\":{\"outlinewidth\":0,\"ticks\":\"\"},\"colorscale\":[[0.0,\"#0d0887\"],[0.1111111111111111,\"#46039f\"],[0.2222222222222222,\"#7201a8\"],[0.3333333333333333,\"#9c179e\"],[0.4444444444444444,\"#bd3786\"],[0.5555555555555556,\"#d8576b\"],[0.6666666666666666,\"#ed7953\"],[0.7777777777777778,\"#fb9f3a\"],[0.8888888888888888,\"#fdca26\"],[1.0,\"#f0f921\"]]}],\"contourcarpet\":[{\"type\":\"contourcarpet\",\"colorbar\":{\"outlinewidth\":0,\"ticks\":\"\"}}],\"contour\":[{\"type\":\"contour\",\"colorbar\":{\"outlinewidth\":0,\"ticks\":\"\"},\"colorscale\":[[0.0,\"#0d0887\"],[0.1111111111111111,\"#46039f\"],[0.2222222222222222,\"#7201a8\"],[0.3333333333333333,\"#9c179e\"],[0.4444444444444444,\"#bd3786\"],[0.5555555555555556,\"#d8576b\"],[0.6666666666666666,\"#ed7953\"],[0.7777777777777778,\"#fb9f3a\"],[0.8888888888888888,\"#fdca26\"],[1.0,\"#f0f921\"]]}],\"surface\":[{\"type\":\"surface\",\"colorbar\":{\"outlinewidth\":0,\"ticks\":\"\"},\"colorscale\":[[0.0,\"#0d0887\"],[0.1111111111111111,\"#46039f\"],[0.2222222222222222,\"#7201a8\"],[0.3333333333333333,\"#9c179e\"],[0.4444444444444444,\"#bd3786\"],[0.5555555555555556,\"#d8576b\"],[0.6666666666666666,\"#ed7953\"],[0.7777777777777778,\"#fb9f3a\"],[0.8888888888888888,\"#fdca26\"],[1.0,\"#f0f921\"]]}],\"mesh3d\":[{\"type\":\"mesh3d\",\"colorbar\":{\"outlinewidth\":0,\"ticks\":\"\"}}],\"scatter\":[{\"fillpattern\":{\"fillmode\":\"overlay\",\"size\":10,\"solidity\":0.2},\"type\":\"scatter\"}],\"parcoords\":[{\"type\":\"parcoords\",\"line\":{\"colorbar\":{\"outlinewidth\":0,\"ticks\":\"\"}}}],\"scatterpolargl\":[{\"type\":\"scatterpolargl\",\"marker\":{\"colorbar\":{\"outlinewidth\":0,\"ticks\":\"\"}}}],\"bar\":[{\"error_x\":{\"color\":\"#2a3f5f\"},\"error_y\":{\"color\":\"#2a3f5f\"},\"marker\":{\"line\":{\"color\":\"#E5ECF6\",\"width\":0.5},\"pattern\":{\"fillmode\":\"overlay\",\"size\":10,\"solidity\":0.2}},\"type\":\"bar\"}],\"scattergeo\":[{\"type\":\"scattergeo\",\"marker\":{\"colorbar\":{\"outlinewidth\":0,\"ticks\":\"\"}}}],\"scatterpolar\":[{\"type\":\"scatterpolar\",\"marker\":{\"colorbar\":{\"outlinewidth\":0,\"ticks\":\"\"}}}],\"histogram\":[{\"marker\":{\"pattern\":{\"fillmode\":\"overlay\",\"size\":10,\"solidity\":0.2}},\"type\":\"histogram\"}],\"scattergl\":[{\"type\":\"scattergl\",\"marker\":{\"colorbar\":{\"outlinewidth\":0,\"ticks\":\"\"}}}],\"scatter3d\":[{\"type\":\"scatter3d\",\"line\":{\"colorbar\":{\"outlinewidth\":0,\"ticks\":\"\"}},\"marker\":{\"colorbar\":{\"outlinewidth\":0,\"ticks\":\"\"}}}],\"scattermapbox\":[{\"type\":\"scattermapbox\",\"marker\":{\"colorbar\":{\"outlinewidth\":0,\"ticks\":\"\"}}}],\"scatterternary\":[{\"type\":\"scatterternary\",\"marker\":{\"colorbar\":{\"outlinewidth\":0,\"ticks\":\"\"}}}],\"scattercarpet\":[{\"type\":\"scattercarpet\",\"marker\":{\"colorbar\":{\"outlinewidth\":0,\"ticks\":\"\"}}}],\"carpet\":[{\"aaxis\":{\"endlinecolor\":\"#2a3f5f\",\"gridcolor\":\"white\",\"linecolor\":\"white\",\"minorgridcolor\":\"white\",\"startlinecolor\":\"#2a3f5f\"},\"baxis\":{\"endlinecolor\":\"#2a3f5f\",\"gridcolor\":\"white\",\"linecolor\":\"white\",\"minorgridcolor\":\"white\",\"startlinecolor\":\"#2a3f5f\"},\"type\":\"carpet\"}],\"table\":[{\"cells\":{\"fill\":{\"color\":\"#EBF0F8\"},\"line\":{\"color\":\"white\"}},\"header\":{\"fill\":{\"color\":\"#C8D4E3\"},\"line\":{\"color\":\"white\"}},\"type\":\"table\"}],\"barpolar\":[{\"marker\":{\"line\":{\"color\":\"#E5ECF6\",\"width\":0.5},\"pattern\":{\"fillmode\":\"overlay\",\"size\":10,\"solidity\":0.2}},\"type\":\"barpolar\"}],\"pie\":[{\"automargin\":true,\"type\":\"pie\"}]},\"layout\":{\"autotypenumbers\":\"strict\",\"colorway\":[\"#636efa\",\"#EF553B\",\"#00cc96\",\"#ab63fa\",\"#FFA15A\",\"#19d3f3\",\"#FF6692\",\"#B6E880\",\"#FF97FF\",\"#FECB52\"],\"font\":{\"color\":\"#2a3f5f\"},\"hovermode\":\"closest\",\"hoverlabel\":{\"align\":\"left\"},\"paper_bgcolor\":\"white\",\"plot_bgcolor\":\"#E5ECF6\",\"polar\":{\"bgcolor\":\"#E5ECF6\",\"angularaxis\":{\"gridcolor\":\"white\",\"linecolor\":\"white\",\"ticks\":\"\"},\"radialaxis\":{\"gridcolor\":\"white\",\"linecolor\":\"white\",\"ticks\":\"\"}},\"ternary\":{\"bgcolor\":\"#E5ECF6\",\"aaxis\":{\"gridcolor\":\"white\",\"linecolor\":\"white\",\"ticks\":\"\"},\"baxis\":{\"gridcolor\":\"white\",\"linecolor\":\"white\",\"ticks\":\"\"},\"caxis\":{\"gridcolor\":\"white\",\"linecolor\":\"white\",\"ticks\":\"\"}},\"coloraxis\":{\"colorbar\":{\"outlinewidth\":0,\"ticks\":\"\"}},\"colorscale\":{\"sequential\":[[0.0,\"#0d0887\"],[0.1111111111111111,\"#46039f\"],[0.2222222222222222,\"#7201a8\"],[0.3333333333333333,\"#9c179e\"],[0.4444444444444444,\"#bd3786\"],[0.5555555555555556,\"#d8576b\"],[0.6666666666666666,\"#ed7953\"],[0.7777777777777778,\"#fb9f3a\"],[0.8888888888888888,\"#fdca26\"],[1.0,\"#f0f921\"]],\"sequentialminus\":[[0.0,\"#0d0887\"],[0.1111111111111111,\"#46039f\"],[0.2222222222222222,\"#7201a8\"],[0.3333333333333333,\"#9c179e\"],[0.4444444444444444,\"#bd3786\"],[0.5555555555555556,\"#d8576b\"],[0.6666666666666666,\"#ed7953\"],[0.7777777777777778,\"#fb9f3a\"],[0.8888888888888888,\"#fdca26\"],[1.0,\"#f0f921\"]],\"diverging\":[[0,\"#8e0152\"],[0.1,\"#c51b7d\"],[0.2,\"#de77ae\"],[0.3,\"#f1b6da\"],[0.4,\"#fde0ef\"],[0.5,\"#f7f7f7\"],[0.6,\"#e6f5d0\"],[0.7,\"#b8e186\"],[0.8,\"#7fbc41\"],[0.9,\"#4d9221\"],[1,\"#276419\"]]},\"xaxis\":{\"gridcolor\":\"white\",\"linecolor\":\"white\",\"ticks\":\"\",\"title\":{\"standoff\":15},\"zerolinecolor\":\"white\",\"automargin\":true,\"zerolinewidth\":2},\"yaxis\":{\"gridcolor\":\"white\",\"linecolor\":\"white\",\"ticks\":\"\",\"title\":{\"standoff\":15},\"zerolinecolor\":\"white\",\"automargin\":true,\"zerolinewidth\":2},\"scene\":{\"xaxis\":{\"backgroundcolor\":\"#E5ECF6\",\"gridcolor\":\"white\",\"linecolor\":\"white\",\"showbackground\":true,\"ticks\":\"\",\"zerolinecolor\":\"white\",\"gridwidth\":2},\"yaxis\":{\"backgroundcolor\":\"#E5ECF6\",\"gridcolor\":\"white\",\"linecolor\":\"white\",\"showbackground\":true,\"ticks\":\"\",\"zerolinecolor\":\"white\",\"gridwidth\":2},\"zaxis\":{\"backgroundcolor\":\"#E5ECF6\",\"gridcolor\":\"white\",\"linecolor\":\"white\",\"showbackground\":true,\"ticks\":\"\",\"zerolinecolor\":\"white\",\"gridwidth\":2}},\"shapedefaults\":{\"line\":{\"color\":\"#2a3f5f\"}},\"annotationdefaults\":{\"arrowcolor\":\"#2a3f5f\",\"arrowhead\":0,\"arrowwidth\":1},\"geo\":{\"bgcolor\":\"white\",\"landcolor\":\"#E5ECF6\",\"subunitcolor\":\"white\",\"showland\":true,\"showlakes\":true,\"lakecolor\":\"white\"},\"title\":{\"x\":0.05},\"mapbox\":{\"style\":\"light\"}}},\"xaxis\":{\"anchor\":\"y\",\"domain\":[0.0,1.0],\"title\":{\"text\":\"GDP per Capita\"}},\"yaxis\":{\"anchor\":\"x\",\"domain\":[0.0,1.0],\"title\":{\"text\":\"Obesity Rate\"}},\"coloraxis\":{\"colorbar\":{\"title\":{\"text\":\"Vegetable Intake\"}},\"colorscale\":[[0.0,\"#0d0887\"],[0.1111111111111111,\"#46039f\"],[0.2222222222222222,\"#7201a8\"],[0.3333333333333333,\"#9c179e\"],[0.4444444444444444,\"#bd3786\"],[0.5555555555555556,\"#d8576b\"],[0.6666666666666666,\"#ed7953\"],[0.7777777777777778,\"#fb9f3a\"],[0.8888888888888888,\"#fdca26\"],[1.0,\"#f0f921\"]]},\"legend\":{\"tracegroupgap\":0,\"itemsizing\":\"constant\"},\"title\":{\"text\":\"Bubble Plot of GDP, Obesity, and Dietary Intake\"}},                        {\"responsive\": true}                    ).then(function(){\n",
       "                            \n",
       "var gd = document.getElementById('62299017-a4f0-432a-b76d-344ee1326ea3');\n",
       "var x = new MutationObserver(function (mutations, observer) {{\n",
       "        var display = window.getComputedStyle(gd).display;\n",
       "        if (!display || display === 'none') {{\n",
       "            console.log([gd, 'removed!']);\n",
       "            Plotly.purge(gd);\n",
       "            observer.disconnect();\n",
       "        }}\n",
       "}});\n",
       "\n",
       "// Listen for the removal of the full notebook cells\n",
       "var notebookContainer = gd.closest('#notebook-container');\n",
       "if (notebookContainer) {{\n",
       "    x.observe(notebookContainer, {childList: true});\n",
       "}}\n",
       "\n",
       "// Listen for the clearing of the current output cell\n",
       "var outputEl = gd.closest('.output');\n",
       "if (outputEl) {{\n",
       "    x.observe(outputEl, {childList: true});\n",
       "}}\n",
       "\n",
       "                        })                };                });            </script>        </div>"
      ]
     },
     "metadata": {},
     "output_type": "display_data"
    }
   ],
   "source": [
    "#Click to see code\n",
    "# Select the relevant columns for diseases\n",
    "disease_columns = {\n",
    "    'obesity_mean_2011_2016': 'Obesity Rate',\n",
    "    'overweight_mean_2011_2016': 'Overweight Rate',\n",
    "    'blood_pressure_mean_2011_2015': 'Blood Pressure'\n",
    "}\n",
    "\n",
    "# Melt the dataframe for faceted plotting\n",
    "melted_data = data.melt(id_vars=['gdp_per_capita_mean_2011_2021'], \n",
    "                        value_vars=disease_columns.keys(), \n",
    "                        var_name='Disease', \n",
    "                        value_name='Prevalence')\n",
    "\n",
    "# Map the variable names to their labels\n",
    "melted_data['Disease'] = melted_data['Disease'].map(disease_columns)\n",
    "\n",
    "# Create faceted scatter plots\n",
    "fig = px.scatter(melted_data, x='gdp_per_capita_mean_2011_2021', y='Prevalence', \n",
    "                 facet_col='Disease', trendline='ols',\n",
    "                 labels={'gdp_per_capita_mean_2011_2021': 'GDP per Capita', 'Prevalence': 'Prevalence'},\n",
    "                 title='GDP per Capita vs Disease Prevalence')\n",
    "\n",
    "fig.show()\n",
    "\n",
    "#bubbleplot\n",
    "data = data.copy()\n",
    "data['fruit_dietary_intake'] = data['fruit_dietary_intake'].fillna(data['fruit_dietary_intake'].median())\n",
    "data['vegetables_dietary_intake'] = data['vegetables_dietary_intake'].fillna(data['vegetables_dietary_intake'].median())\n",
    "data['gdp_per_capita_mean_2011_2021'] = data['gdp_per_capita_mean_2011_2021'].fillna(data['gdp_per_capita_mean_2011_2021'].median())\n",
    "data['obesity_mean_2011_2016'] = data['obesity_mean_2011_2016'].fillna(data['obesity_mean_2011_2016'].median())\n",
    "\n",
    "# Create a bubble plot\n",
    "fig = px.scatter(data, x='gdp_per_capita_mean_2011_2021', y='obesity_mean_2011_2016',\n",
    "                 size='fruit_dietary_intake', color='vegetables_dietary_intake',\n",
    "                 labels={'gdp_per_capita_mean_2011_2021': 'GDP per Capita',\n",
    "                         'obesity_mean_2011_2016': 'Obesity Rate',\n",
    "                         'fruit_dietary_intake': 'Fruit Intake',\n",
    "                         'vegetables_dietary_intake': 'Vegetable Intake'},\n",
    "                 title='Bubble Plot of GDP, Obesity, and Dietary Intake')\n",
    "fig.show()\n"
   ]
  },
  {
   "cell_type": "markdown",
   "id": "942be262-a6b2-4cf0-95b7-a5491c308b9b",
   "metadata": {},
   "source": [
    "The analysis reveals that higher GDP per capita is associated with increased rates of obesity, overweight, and high blood pressure. As countries become wealthier, their populations often adopt diets high in fats, sugars, and processed foods, leading to these health issues. Additionally, sedentary lifestyles and stress in affluent societies contribute to these trends. These findings highlight the need for integrated public health policies that promote healthy eating, physical activity, and stress management alongside economic growth. Addressing these health disparities requires tailored strategies to mitigate the negative impacts of affluence on public health while fostering overall economic development.\n"
   ]
  },
  {
   "cell_type": "code",
   "execution_count": 13,
   "id": "c279e860-1544-44e9-ab27-3413df33fd56",
   "metadata": {
    "editable": true,
    "slideshow": {
     "slide_type": ""
    },
    "tags": [
     "hide-input"
    ]
   },
   "outputs": [
    {
     "data": {
      "image/png": "[encoded data removed]",
      "text/plain": [
       "<Figure size 1000x600 with 1 Axes>"
      ]
     },
     "metadata": {},
     "output_type": "display_data"
    }
   ],
   "source": [
    "#Click to see code\n",
    "# Creating a column to indicate whether a country has health policies (either salt legislation or trans fatty acids policy)\n",
    "data['health_policy'] = data.apply(lambda row: 'Yes' if row['salt_legislation_policy'] == 'Yes' or row['trans_fatty_acids_policy'] == 'Yes' else 'No', axis=1)\n",
    "\n",
    "# Plotting GDP per capita against the presence of health policies\n",
    "plt.figure(figsize=(10, 6))\n",
    "sns.boxplot(data=data, x='health_policy', y='gdp_per_capita_mean_2011_2021')\n",
    "plt.title('GDP per Capita vs Health Policies')\n",
    "plt.xlabel('Has Health Policies')\n",
    "plt.ylabel('GDP per Capita (Mean 2011-2021)')\n",
    "plt.show()"
   ]
  },
  {
   "cell_type": "markdown",
   "id": "22ba970a-fc29-441e-995a-d741d9f3cc52",
   "metadata": {},
   "source": [
    "The box plot provides valuable insights into the relationship between economic prosperity and the adoption of health policies. It underscores the importance of economic resources in enabling countries to implement regulations aimed at improving public health. To bridge the gap between wealthier and lower-income nations, it is crucial to provide support and resources to help all countries develop and enforce effective health policies."
   ]
  },
  {
   "cell_type": "markdown",
   "id": "e401113d-5469-4fe7-b920-b5f909a3812f",
   "metadata": {},
   "source": [
    "### Public Health Campaigns on Nutrition Have Led to Better Dietary Choices Among the Population\n",
    "Public health campaigns focused on nutrition have shown to significantly improve dietary choices and reduce obesity rates among populations. Studies and interventions from various regions provide compelling evidence of their effectiveness.\n",
    "\n",
    "For instance, community-based interventions like the High Obesity Program (HOP) in Hidalgo County, Texas, have successfully increased access to healthy foods and physical activity. These initiatives, driven by community needs assessments, have demonstrated long-term solutions for obesity prevention by enhancing local infrastructure and promoting healthy living environments​ (CDC, 2018)​.\n",
    "\n",
    "The Change4Life Smart Swaps campaign in England and Wales is another example. This campaign encouraged families to make healthier dietary choices, such as swapping high-fat dairy products for lower-fat alternatives and reducing sugar intake. Participants in the intervention group reported significant improvements in their diet, showing the impact of targeted public health messaging on behavior change​ (Cambridge, 2014)​.\n",
    "\n",
    "Mass media campaigns have also played a crucial role. The LiveLighter campaign in Western Australia, which graphically depicted the harmful effects of visceral fat and sugary drinks, achieved high recall rates and led to significant reductions in the consumption of sugary drinks. This campaign highlighted the power of visual and engaging public health messages in shifting public attitudes and behaviors towards healthier lifestyles​ (Obesity Evidence Hub)​.\n",
    "\n",
    "These examples underscore the importance of well-designed public health policies and campaigns in promoting better dietary choices and reducing obesity rates. Effective public health initiatives, supported by educational efforts and community involvement, can lead to significant improvements in public health outcomes.\n",
    "\n",
    "\n",
    "#### The effectiveness of health policies\n",
    "The impact of public campaigns on healthy eating can be clearly observed through the analysis of chronic disease indicators in relation to nutritional policies, as evidenced by the data presented in the plots. These plots illustrate significant differences in obesity, overweight, underweight, and blood pressure rates between countries that have implemented health policies and those that have not. Such differences underscore the effectiveness of public health campaigns and policies aimed at improving dietary choices among the population.\n",
    "\n",
    "##### Salt Legislation Policy\n",
    "In countries with salt legislation policies, the average obesity and overweight rates are notably lower compared to those without such policies. This suggests that public health campaigns promoting the dangers of excessive salt intake and encouraging healthier alternatives have successfully influenced dietary behavior. By reducing the consumption of high-sodium foods, these countries have managed to decrease the prevalence of obesity and overweight individuals, highlighting the positive outcomes of targeted nutritional policies.\n",
    "\n",
    "\n",
    "##### Overall Impact\n",
    "The visual representations in the plots provide evidence that public health campaigns and policies are instrumental in guiding populations towards healthier dietary habits. The clear reductions in obesity and overweight rates in countries with salt legislation suggest that these policies, supported by effective public education campaigns, have a profound impact on public health. These findings reinforce the argument that well-designed public health initiatives and policies can lead to significant improvements in dietary choices and overall health outcomes.\n",
    "\n"
   ]
  },
  {
   "cell_type": "code",
   "execution_count": 14,
   "id": "c4b27be4-623b-4271-9b1b-6a11c6c68ac9",
   "metadata": {
    "editable": true,
    "slideshow": {
     "slide_type": ""
    },
    "tags": [
     "hide-input"
    ]
   },
   "outputs": [
    {
     "data": {
      "application/vnd.plotly.v1+json": {
       "config": {
        "plotlyServerURL": "https://plot.ly"
       },
       "data": [
        {
         "alignmentgroup": "True",
         "hovertemplate": "Policy=With Salt Legislation<br>Indicator=%{x}<br>Mean Value=%{y}<extra></extra>",
         "legendgroup": "With Salt Legislation",
         "marker": {
          "color": "#636efa",
          "pattern": {
           "shape": ""
          }
         },
         "name": "With Salt Legislation",
         "offsetgroup": "With Salt Legislation",
         "orientation": "v",
         "showlegend": true,
         "textposition": "auto",
         "type": "bar",
         "x": [
          "Obesity",
          "Overweight",
          "Underweight",
          "Blood Pressure"
         ],
         "xaxis": "x",
         "y": [
          16.629837398373986,
          44.359349593495935,
          6.502439024390244,
          25.599674796747966
         ],
         "yaxis": "y"
        },
        {
         "alignmentgroup": "True",
         "hovertemplate": "Policy=Without Salt Legislation<br>Indicator=%{x}<br>Mean Value=%{y}<extra></extra>",
         "legendgroup": "Without Salt Legislation",
         "marker": {
          "color": "#EF553B",
          "pattern": {
           "shape": ""
          }
         },
         "name": "Without Salt Legislation",
         "offsetgroup": "Without Salt Legislation",
         "orientation": "v",
         "showlegend": true,
         "textposition": "auto",
         "type": "bar",
         "x": [
          "Obesity",
          "Overweight",
          "Underweight",
          "Blood Pressure"
         ],
         "xaxis": "x",
         "y": [
          21.499,
          52.113181818181815,
          4.096818181818182,
          23.113939393939393
         ],
         "yaxis": "y"
        }
       ],
       "layout": {
        "autosize": true,
        "barmode": "group",
        "legend": {
         "title": {
          "text": "Policy"
         },
         "tracegroupgap": 0
        },
        "template": {
         "data": {
          "bar": [
           {
            "error_x": {
             "color": "#2a3f5f"
            },
            "error_y": {
             "color": "#2a3f5f"
            },
            "marker": {
             "line": {
              "color": "#E5ECF6",
              "width": 0.5
             },
             "pattern": {
              "fillmode": "overlay",
              "size": 10,
              "solidity": 0.2
             }
            },
            "type": "bar"
           }
          ],
          "barpolar": [
           {
            "marker": {
             "line": {
              "color": "#E5ECF6",
              "width": 0.5
             },
             "pattern": {
              "fillmode": "overlay",
              "size": 10,
              "solidity": 0.2
             }
            },
            "type": "barpolar"
           }
          ],
          "carpet": [
           {
            "aaxis": {
             "endlinecolor": "#2a3f5f",
             "gridcolor": "white",
             "linecolor": "white",
             "minorgridcolor": "white",
             "startlinecolor": "#2a3f5f"
            },
            "baxis": {
             "endlinecolor": "#2a3f5f",
             "gridcolor": "white",
             "linecolor": "white",
             "minorgridcolor": "white",
             "startlinecolor": "#2a3f5f"
            },
            "type": "carpet"
           }
          ],
          "choropleth": [
           {
            "colorbar": {
             "outlinewidth": 0,
             "ticks": ""
            },
            "type": "choropleth"
           }
          ],
          "contour": [
           {
            "colorbar": {
             "outlinewidth": 0,
             "ticks": ""
            },
            "colorscale": [
             [
              0,
              "#0d0887"
             ],
             [
              0.1111111111111111,
              "#46039f"
             ],
             [
              0.2222222222222222,
              "#7201a8"
             ],
             [
              0.3333333333333333,
              "#9c179e"
             ],
             [
              0.4444444444444444,
              "#bd3786"
             ],
             [
              0.5555555555555556,
              "#d8576b"
             ],
             [
              0.6666666666666666,
              "#ed7953"
             ],
             [
              0.7777777777777778,
              "#fb9f3a"
             ],
             [
              0.8888888888888888,
              "#fdca26"
             ],
             [
              1,
              "#f0f921"
             ]
            ],
            "type": "contour"
           }
          ],
          "contourcarpet": [
           {
            "colorbar": {
             "outlinewidth": 0,
             "ticks": ""
            },
            "type": "contourcarpet"
           }
          ],
          "heatmap": [
           {
            "colorbar": {
             "outlinewidth": 0,
             "ticks": ""
            },
            "colorscale": [
             [
              0,
              "#0d0887"
             ],
             [
              0.1111111111111111,
              "#46039f"
             ],
             [
              0.2222222222222222,
              "#7201a8"
             ],
             [
              0.3333333333333333,
              "#9c179e"
             ],
             [
              0.4444444444444444,
              "#bd3786"
             ],
             [
              0.5555555555555556,
              "#d8576b"
             ],
             [
              0.6666666666666666,
              "#ed7953"
             ],
             [
              0.7777777777777778,
              "#fb9f3a"
             ],
             [
              0.8888888888888888,
              "#fdca26"
             ],
             [
              1,
              "#f0f921"
             ]
            ],
            "type": "heatmap"
           }
          ],
          "heatmapgl": [
           {
            "colorbar": {
             "outlinewidth": 0,
             "ticks": ""
            },
            "colorscale": [
             [
              0,
              "#0d0887"
             ],
             [
              0.1111111111111111,
              "#46039f"
             ],
             [
              0.2222222222222222,
              "#7201a8"
             ],
             [
              0.3333333333333333,
              "#9c179e"
             ],
             [
              0.4444444444444444,
              "#bd3786"
             ],
             [
              0.5555555555555556,
              "#d8576b"
             ],
             [
              0.6666666666666666,
              "#ed7953"
             ],
             [
              0.7777777777777778,
              "#fb9f3a"
             ],
             [
              0.8888888888888888,
              "#fdca26"
             ],
             [
              1,
              "#f0f921"
             ]
            ],
            "type": "heatmapgl"
           }
          ],
          "histogram": [
           {
            "marker": {
             "pattern": {
              "fillmode": "overlay",
              "size": 10,
              "solidity": 0.2
             }
            },
            "type": "histogram"
           }
          ],
          "histogram2d": [
           {
            "colorbar": {
             "outlinewidth": 0,
             "ticks": ""
            },
            "colorscale": [
             [
              0,
              "#0d0887"
             ],
             [
              0.1111111111111111,
              "#46039f"
             ],
             [
              0.2222222222222222,
              "#7201a8"
             ],
             [
              0.3333333333333333,
              "#9c179e"
             ],
             [
              0.4444444444444444,
              "#bd3786"
             ],
             [
              0.5555555555555556,
              "#d8576b"
             ],
             [
              0.6666666666666666,
              "#ed7953"
             ],
             [
              0.7777777777777778,
              "#fb9f3a"
             ],
             [
              0.8888888888888888,
              "#fdca26"
             ],
             [
              1,
              "#f0f921"
             ]
            ],
            "type": "histogram2d"
           }
          ],
          "histogram2dcontour": [
           {
            "colorbar": {
             "outlinewidth": 0,
             "ticks": ""
            },
            "colorscale": [
             [
              0,
              "#0d0887"
             ],
             [
              0.1111111111111111,
              "#46039f"
             ],
             [
              0.2222222222222222,
              "#7201a8"
             ],
             [
              0.3333333333333333,
              "#9c179e"
             ],
             [
              0.4444444444444444,
              "#bd3786"
             ],
             [
              0.5555555555555556,
              "#d8576b"
             ],
             [
              0.6666666666666666,
              "#ed7953"
             ],
             [
              0.7777777777777778,
              "#fb9f3a"
             ],
             [
              0.8888888888888888,
              "#fdca26"
             ],
             [
              1,
              "#f0f921"
             ]
            ],
            "type": "histogram2dcontour"
           }
          ],
          "mesh3d": [
           {
            "colorbar": {
             "outlinewidth": 0,
             "ticks": ""
            },
            "type": "mesh3d"
           }
          ],
          "parcoords": [
           {
            "line": {
             "colorbar": {
              "outlinewidth": 0,
              "ticks": ""
             }
            },
            "type": "parcoords"
           }
          ],
          "pie": [
           {
            "automargin": true,
            "type": "pie"
           }
          ],
          "scatter": [
           {
            "fillpattern": {
             "fillmode": "overlay",
             "size": 10,
             "solidity": 0.2
            },
            "type": "scatter"
           }
          ],
          "scatter3d": [
           {
            "line": {
             "colorbar": {
              "outlinewidth": 0,
              "ticks": ""
             }
            },
            "marker": {
             "colorbar": {
              "outlinewidth": 0,
              "ticks": ""
             }
            },
            "type": "scatter3d"
           }
          ],
          "scattercarpet": [
           {
            "marker": {
             "colorbar": {
              "outlinewidth": 0,
              "ticks": ""
             }
            },
            "type": "scattercarpet"
           }
          ],
          "scattergeo": [
           {
            "marker": {
             "colorbar": {
              "outlinewidth": 0,
              "ticks": ""
             }
            },
            "type": "scattergeo"
           }
          ],
          "scattergl": [
           {
            "marker": {
             "colorbar": {
              "outlinewidth": 0,
              "ticks": ""
             }
            },
            "type": "scattergl"
           }
          ],
          "scattermapbox": [
           {
            "marker": {
             "colorbar": {
              "outlinewidth": 0,
              "ticks": ""
             }
            },
            "type": "scattermapbox"
           }
          ],
          "scatterpolar": [
           {
            "marker": {
             "colorbar": {
              "outlinewidth": 0,
              "ticks": ""
             }
            },
            "type": "scatterpolar"
           }
          ],
          "scatterpolargl": [
           {
            "marker": {
             "colorbar": {
              "outlinewidth": 0,
              "ticks": ""
             }
            },
            "type": "scatterpolargl"
           }
          ],
          "scatterternary": [
           {
            "marker": {
             "colorbar": {
              "outlinewidth": 0,
              "ticks": ""
             }
            },
            "type": "scatterternary"
           }
          ],
          "surface": [
           {
            "colorbar": {
             "outlinewidth": 0,
             "ticks": ""
            },
            "colorscale": [
             [
              0,
              "#0d0887"
             ],
             [
              0.1111111111111111,
              "#46039f"
             ],
             [
              0.2222222222222222,
              "#7201a8"
             ],
             [
              0.3333333333333333,
              "#9c179e"
             ],
             [
              0.4444444444444444,
              "#bd3786"
             ],
             [
              0.5555555555555556,
              "#d8576b"
             ],
             [
              0.6666666666666666,
              "#ed7953"
             ],
             [
              0.7777777777777778,
              "#fb9f3a"
             ],
             [
              0.8888888888888888,
              "#fdca26"
             ],
             [
              1,
              "#f0f921"
             ]
            ],
            "type": "surface"
           }
          ],
          "table": [
           {
            "cells": {
             "fill": {
              "color": "#EBF0F8"
             },
             "line": {
              "color": "white"
             }
            },
            "header": {
             "fill": {
              "color": "#C8D4E3"
             },
             "line": {
              "color": "white"
             }
            },
            "type": "table"
           }
          ]
         },
         "layout": {
          "annotationdefaults": {
           "arrowcolor": "#2a3f5f",
           "arrowhead": 0,
           "arrowwidth": 1
          },
          "autotypenumbers": "strict",
          "coloraxis": {
           "colorbar": {
            "outlinewidth": 0,
            "ticks": ""
           }
          },
          "colorscale": {
           "diverging": [
            [
             0,
             "#8e0152"
            ],
            [
             0.1,
             "#c51b7d"
            ],
            [
             0.2,
             "#de77ae"
            ],
            [
             0.3,
             "#f1b6da"
            ],
            [
             0.4,
             "#fde0ef"
            ],
            [
             0.5,
             "#f7f7f7"
            ],
            [
             0.6,
             "#e6f5d0"
            ],
            [
             0.7,
             "#b8e186"
            ],
            [
             0.8,
             "#7fbc41"
            ],
            [
             0.9,
             "#4d9221"
            ],
            [
             1,
             "#276419"
            ]
           ],
           "sequential": [
            [
             0,
             "#0d0887"
            ],
            [
             0.1111111111111111,
             "#46039f"
            ],
            [
             0.2222222222222222,
             "#7201a8"
            ],
            [
             0.3333333333333333,
             "#9c179e"
            ],
            [
             0.4444444444444444,
             "#bd3786"
            ],
            [
             0.5555555555555556,
             "#d8576b"
            ],
            [
             0.6666666666666666,
             "#ed7953"
            ],
            [
             0.7777777777777778,
             "#fb9f3a"
            ],
            [
             0.8888888888888888,
             "#fdca26"
            ],
            [
             1,
             "#f0f921"
            ]
           ],
           "sequentialminus": [
            [
             0,
             "#0d0887"
            ],
            [
             0.1111111111111111,
             "#46039f"
            ],
            [
             0.2222222222222222,
             "#7201a8"
            ],
            [
             0.3333333333333333,
             "#9c179e"
            ],
            [
             0.4444444444444444,
             "#bd3786"
            ],
            [
             0.5555555555555556,
             "#d8576b"
            ],
            [
             0.6666666666666666,
             "#ed7953"
            ],
            [
             0.7777777777777778,
             "#fb9f3a"
            ],
            [
             0.8888888888888888,
             "#fdca26"
            ],
            [
             1,
             "#f0f921"
            ]
           ]
          },
          "colorway": [
           "#636efa",
           "#EF553B",
           "#00cc96",
           "#ab63fa",
           "#FFA15A",
           "#19d3f3",
           "#FF6692",
           "#B6E880",
           "#FF97FF",
           "#FECB52"
          ],
          "font": {
           "color": "#2a3f5f"
          },
          "geo": {
           "bgcolor": "white",
           "lakecolor": "white",
           "landcolor": "#E5ECF6",
           "showlakes": true,
           "showland": true,
           "subunitcolor": "white"
          },
          "hoverlabel": {
           "align": "left"
          },
          "hovermode": "closest",
          "mapbox": {
           "style": "light"
          },
          "paper_bgcolor": "white",
          "plot_bgcolor": "#E5ECF6",
          "polar": {
           "angularaxis": {
            "gridcolor": "white",
            "linecolor": "white",
            "ticks": ""
           },
           "bgcolor": "#E5ECF6",
           "radialaxis": {
            "gridcolor": "white",
            "linecolor": "white",
            "ticks": ""
           }
          },
          "scene": {
           "xaxis": {
            "backgroundcolor": "#E5ECF6",
            "gridcolor": "white",
            "gridwidth": 2,
            "linecolor": "white",
            "showbackground": true,
            "ticks": "",
            "zerolinecolor": "white"
           },
           "yaxis": {
            "backgroundcolor": "#E5ECF6",
            "gridcolor": "white",
            "gridwidth": 2,
            "linecolor": "white",
            "showbackground": true,
            "ticks": "",
            "zerolinecolor": "white"
           },
           "zaxis": {
            "backgroundcolor": "#E5ECF6",
            "gridcolor": "white",
            "gridwidth": 2,
            "linecolor": "white",
            "showbackground": true,
            "ticks": "",
            "zerolinecolor": "white"
           }
          },
          "shapedefaults": {
           "line": {
            "color": "#2a3f5f"
           }
          },
          "ternary": {
           "aaxis": {
            "gridcolor": "white",
            "linecolor": "white",
            "ticks": ""
           },
           "baxis": {
            "gridcolor": "white",
            "linecolor": "white",
            "ticks": ""
           },
           "bgcolor": "#E5ECF6",
           "caxis": {
            "gridcolor": "white",
            "linecolor": "white",
            "ticks": ""
           }
          },
          "title": {
           "x": 0.05
          },
          "xaxis": {
           "automargin": true,
           "gridcolor": "white",
           "linecolor": "white",
           "ticks": "",
           "title": {
            "standoff": 15
           },
           "zerolinecolor": "white",
           "zerolinewidth": 2
          },
          "yaxis": {
           "automargin": true,
           "gridcolor": "white",
           "linecolor": "white",
           "ticks": "",
           "title": {
            "standoff": 15
           },
           "zerolinecolor": "white",
           "zerolinewidth": 2
          }
         }
        },
        "title": {
         "text": "Chronic Disease Indicators: With vs Without Salt Legislation Policy"
        },
        "xaxis": {
         "anchor": "y",
         "autorange": true,
         "domain": [
          0,
          1
         ],
         "range": [
          -0.5,
          3.5
         ],
         "title": {
          "text": "Indicator"
         },
         "type": "category"
        },
        "yaxis": {
         "anchor": "x",
         "autorange": true,
         "domain": [
          0,
          1
         ],
         "range": [
          0,
          54.855980861244014
         ],
         "title": {
          "text": "Mean Value"
         },
         "type": "linear"
        }
       }
      },
      "image/png": "[encoded data removed]",
      "text/html": [
       "<div>                            <div id=\"de405188-aaab-4c94-b11f-f0384ba95ff5\" class=\"plotly-graph-div\" style=\"height:525px; width:100%;\"></div>            <script type=\"text/javascript\">                require([\"plotly\"], function(Plotly) {                    window.PLOTLYENV=window.PLOTLYENV || {};                                    if (document.getElementById(\"de405188-aaab-4c94-b11f-f0384ba95ff5\")) {                    Plotly.newPlot(                        \"de405188-aaab-4c94-b11f-f0384ba95ff5\",                        [{\"alignmentgroup\":\"True\",\"hovertemplate\":\"Policy=With Salt Legislation\\u003cbr\\u003eIndicator=%{x}\\u003cbr\\u003eMean Value=%{y}\\u003cextra\\u003e\\u003c\\u002fextra\\u003e\",\"legendgroup\":\"With Salt Legislation\",\"marker\":{\"color\":\"#636efa\",\"pattern\":{\"shape\":\"\"}},\"name\":\"With Salt Legislation\",\"offsetgroup\":\"With Salt Legislation\",\"orientation\":\"v\",\"showlegend\":true,\"textposition\":\"auto\",\"x\":[\"Obesity\",\"Overweight\",\"Underweight\",\"Blood Pressure\"],\"xaxis\":\"x\",\"y\":[16.629837398373986,44.359349593495935,6.502439024390244,25.599674796747966],\"yaxis\":\"y\",\"type\":\"bar\"},{\"alignmentgroup\":\"True\",\"hovertemplate\":\"Policy=Without Salt Legislation\\u003cbr\\u003eIndicator=%{x}\\u003cbr\\u003eMean Value=%{y}\\u003cextra\\u003e\\u003c\\u002fextra\\u003e\",\"legendgroup\":\"Without Salt Legislation\",\"marker\":{\"color\":\"#EF553B\",\"pattern\":{\"shape\":\"\"}},\"name\":\"Without Salt Legislation\",\"offsetgroup\":\"Without Salt Legislation\",\"orientation\":\"v\",\"showlegend\":true,\"textposition\":\"auto\",\"x\":[\"Obesity\",\"Overweight\",\"Underweight\",\"Blood Pressure\"],\"xaxis\":\"x\",\"y\":[21.499,52.113181818181815,4.096818181818182,23.113939393939393],\"yaxis\":\"y\",\"type\":\"bar\"}],                        {\"template\":{\"data\":{\"histogram2dcontour\":[{\"type\":\"histogram2dcontour\",\"colorbar\":{\"outlinewidth\":0,\"ticks\":\"\"},\"colorscale\":[[0.0,\"#0d0887\"],[0.1111111111111111,\"#46039f\"],[0.2222222222222222,\"#7201a8\"],[0.3333333333333333,\"#9c179e\"],[0.4444444444444444,\"#bd3786\"],[0.5555555555555556,\"#d8576b\"],[0.6666666666666666,\"#ed7953\"],[0.7777777777777778,\"#fb9f3a\"],[0.8888888888888888,\"#fdca26\"],[1.0,\"#f0f921\"]]}],\"choropleth\":[{\"type\":\"choropleth\",\"colorbar\":{\"outlinewidth\":0,\"ticks\":\"\"}}],\"histogram2d\":[{\"type\":\"histogram2d\",\"colorbar\":{\"outlinewidth\":0,\"ticks\":\"\"},\"colorscale\":[[0.0,\"#0d0887\"],[0.1111111111111111,\"#46039f\"],[0.2222222222222222,\"#7201a8\"],[0.3333333333333333,\"#9c179e\"],[0.4444444444444444,\"#bd3786\"],[0.5555555555555556,\"#d8576b\"],[0.6666666666666666,\"#ed7953\"],[0.7777777777777778,\"#fb9f3a\"],[0.8888888888888888,\"#fdca26\"],[1.0,\"#f0f921\"]]}],\"heatmap\":[{\"type\":\"heatmap\",\"colorbar\":{\"outlinewidth\":0,\"ticks\":\"\"},\"colorscale\":[[0.0,\"#0d0887\"],[0.1111111111111111,\"#46039f\"],[0.2222222222222222,\"#7201a8\"],[0.3333333333333333,\"#9c179e\"],[0.4444444444444444,\"#bd3786\"],[0.5555555555555556,\"#d8576b\"],[0.6666666666666666,\"#ed7953\"],[0.7777777777777778,\"#fb9f3a\"],[0.8888888888888888,\"#fdca26\"],[1.0,\"#f0f921\"]]}],\"heatmapgl\":[{\"type\":\"heatmapgl\",\"colorbar\":{\"outlinewidth\":0,\"ticks\":\"\"},\"colorscale\":[[0.0,\"#0d0887\"],[0.1111111111111111,\"#46039f\"],[0.2222222222222222,\"#7201a8\"],[0.3333333333333333,\"#9c179e\"],[0.4444444444444444,\"#bd3786\"],[0.5555555555555556,\"#d8576b\"],[0.6666666666666666,\"#ed7953\"],[0.7777777777777778,\"#fb9f3a\"],[0.8888888888888888,\"#fdca26\"],[1.0,\"#f0f921\"]]}],\"contourcarpet\":[{\"type\":\"contourcarpet\",\"colorbar\":{\"outlinewidth\":0,\"ticks\":\"\"}}],\"contour\":[{\"type\":\"contour\",\"colorbar\":{\"outlinewidth\":0,\"ticks\":\"\"},\"colorscale\":[[0.0,\"#0d0887\"],[0.1111111111111111,\"#46039f\"],[0.2222222222222222,\"#7201a8\"],[0.3333333333333333,\"#9c179e\"],[0.4444444444444444,\"#bd3786\"],[0.5555555555555556,\"#d8576b\"],[0.6666666666666666,\"#ed7953\"],[0.7777777777777778,\"#fb9f3a\"],[0.8888888888888888,\"#fdca26\"],[1.0,\"#f0f921\"]]}],\"surface\":[{\"type\":\"surface\",\"colorbar\":{\"outlinewidth\":0,\"ticks\":\"\"},\"colorscale\":[[0.0,\"#0d0887\"],[0.1111111111111111,\"#46039f\"],[0.2222222222222222,\"#7201a8\"],[0.3333333333333333,\"#9c179e\"],[0.4444444444444444,\"#bd3786\"],[0.5555555555555556,\"#d8576b\"],[0.6666666666666666,\"#ed7953\"],[0.7777777777777778,\"#fb9f3a\"],[0.8888888888888888,\"#fdca26\"],[1.0,\"#f0f921\"]]}],\"mesh3d\":[{\"type\":\"mesh3d\",\"colorbar\":{\"outlinewidth\":0,\"ticks\":\"\"}}],\"scatter\":[{\"fillpattern\":{\"fillmode\":\"overlay\",\"size\":10,\"solidity\":0.2},\"type\":\"scatter\"}],\"parcoords\":[{\"type\":\"parcoords\",\"line\":{\"colorbar\":{\"outlinewidth\":0,\"ticks\":\"\"}}}],\"scatterpolargl\":[{\"type\":\"scatterpolargl\",\"marker\":{\"colorbar\":{\"outlinewidth\":0,\"ticks\":\"\"}}}],\"bar\":[{\"error_x\":{\"color\":\"#2a3f5f\"},\"error_y\":{\"color\":\"#2a3f5f\"},\"marker\":{\"line\":{\"color\":\"#E5ECF6\",\"width\":0.5},\"pattern\":{\"fillmode\":\"overlay\",\"size\":10,\"solidity\":0.2}},\"type\":\"bar\"}],\"scattergeo\":[{\"type\":\"scattergeo\",\"marker\":{\"colorbar\":{\"outlinewidth\":0,\"ticks\":\"\"}}}],\"scatterpolar\":[{\"type\":\"scatterpolar\",\"marker\":{\"colorbar\":{\"outlinewidth\":0,\"ticks\":\"\"}}}],\"histogram\":[{\"marker\":{\"pattern\":{\"fillmode\":\"overlay\",\"size\":10,\"solidity\":0.2}},\"type\":\"histogram\"}],\"scattergl\":[{\"type\":\"scattergl\",\"marker\":{\"colorbar\":{\"outlinewidth\":0,\"ticks\":\"\"}}}],\"scatter3d\":[{\"type\":\"scatter3d\",\"line\":{\"colorbar\":{\"outlinewidth\":0,\"ticks\":\"\"}},\"marker\":{\"colorbar\":{\"outlinewidth\":0,\"ticks\":\"\"}}}],\"scattermapbox\":[{\"type\":\"scattermapbox\",\"marker\":{\"colorbar\":{\"outlinewidth\":0,\"ticks\":\"\"}}}],\"scatterternary\":[{\"type\":\"scatterternary\",\"marker\":{\"colorbar\":{\"outlinewidth\":0,\"ticks\":\"\"}}}],\"scattercarpet\":[{\"type\":\"scattercarpet\",\"marker\":{\"colorbar\":{\"outlinewidth\":0,\"ticks\":\"\"}}}],\"carpet\":[{\"aaxis\":{\"endlinecolor\":\"#2a3f5f\",\"gridcolor\":\"white\",\"linecolor\":\"white\",\"minorgridcolor\":\"white\",\"startlinecolor\":\"#2a3f5f\"},\"baxis\":{\"endlinecolor\":\"#2a3f5f\",\"gridcolor\":\"white\",\"linecolor\":\"white\",\"minorgridcolor\":\"white\",\"startlinecolor\":\"#2a3f5f\"},\"type\":\"carpet\"}],\"table\":[{\"cells\":{\"fill\":{\"color\":\"#EBF0F8\"},\"line\":{\"color\":\"white\"}},\"header\":{\"fill\":{\"color\":\"#C8D4E3\"},\"line\":{\"color\":\"white\"}},\"type\":\"table\"}],\"barpolar\":[{\"marker\":{\"line\":{\"color\":\"#E5ECF6\",\"width\":0.5},\"pattern\":{\"fillmode\":\"overlay\",\"size\":10,\"solidity\":0.2}},\"type\":\"barpolar\"}],\"pie\":[{\"automargin\":true,\"type\":\"pie\"}]},\"layout\":{\"autotypenumbers\":\"strict\",\"colorway\":[\"#636efa\",\"#EF553B\",\"#00cc96\",\"#ab63fa\",\"#FFA15A\",\"#19d3f3\",\"#FF6692\",\"#B6E880\",\"#FF97FF\",\"#FECB52\"],\"font\":{\"color\":\"#2a3f5f\"},\"hovermode\":\"closest\",\"hoverlabel\":{\"align\":\"left\"},\"paper_bgcolor\":\"white\",\"plot_bgcolor\":\"#E5ECF6\",\"polar\":{\"bgcolor\":\"#E5ECF6\",\"angularaxis\":{\"gridcolor\":\"white\",\"linecolor\":\"white\",\"ticks\":\"\"},\"radialaxis\":{\"gridcolor\":\"white\",\"linecolor\":\"white\",\"ticks\":\"\"}},\"ternary\":{\"bgcolor\":\"#E5ECF6\",\"aaxis\":{\"gridcolor\":\"white\",\"linecolor\":\"white\",\"ticks\":\"\"},\"baxis\":{\"gridcolor\":\"white\",\"linecolor\":\"white\",\"ticks\":\"\"},\"caxis\":{\"gridcolor\":\"white\",\"linecolor\":\"white\",\"ticks\":\"\"}},\"coloraxis\":{\"colorbar\":{\"outlinewidth\":0,\"ticks\":\"\"}},\"colorscale\":{\"sequential\":[[0.0,\"#0d0887\"],[0.1111111111111111,\"#46039f\"],[0.2222222222222222,\"#7201a8\"],[0.3333333333333333,\"#9c179e\"],[0.4444444444444444,\"#bd3786\"],[0.5555555555555556,\"#d8576b\"],[0.6666666666666666,\"#ed7953\"],[0.7777777777777778,\"#fb9f3a\"],[0.8888888888888888,\"#fdca26\"],[1.0,\"#f0f921\"]],\"sequentialminus\":[[0.0,\"#0d0887\"],[0.1111111111111111,\"#46039f\"],[0.2222222222222222,\"#7201a8\"],[0.3333333333333333,\"#9c179e\"],[0.4444444444444444,\"#bd3786\"],[0.5555555555555556,\"#d8576b\"],[0.6666666666666666,\"#ed7953\"],[0.7777777777777778,\"#fb9f3a\"],[0.8888888888888888,\"#fdca26\"],[1.0,\"#f0f921\"]],\"diverging\":[[0,\"#8e0152\"],[0.1,\"#c51b7d\"],[0.2,\"#de77ae\"],[0.3,\"#f1b6da\"],[0.4,\"#fde0ef\"],[0.5,\"#f7f7f7\"],[0.6,\"#e6f5d0\"],[0.7,\"#b8e186\"],[0.8,\"#7fbc41\"],[0.9,\"#4d9221\"],[1,\"#276419\"]]},\"xaxis\":{\"gridcolor\":\"white\",\"linecolor\":\"white\",\"ticks\":\"\",\"title\":{\"standoff\":15},\"zerolinecolor\":\"white\",\"automargin\":true,\"zerolinewidth\":2},\"yaxis\":{\"gridcolor\":\"white\",\"linecolor\":\"white\",\"ticks\":\"\",\"title\":{\"standoff\":15},\"zerolinecolor\":\"white\",\"automargin\":true,\"zerolinewidth\":2},\"scene\":{\"xaxis\":{\"backgroundcolor\":\"#E5ECF6\",\"gridcolor\":\"white\",\"linecolor\":\"white\",\"showbackground\":true,\"ticks\":\"\",\"zerolinecolor\":\"white\",\"gridwidth\":2},\"yaxis\":{\"backgroundcolor\":\"#E5ECF6\",\"gridcolor\":\"white\",\"linecolor\":\"white\",\"showbackground\":true,\"ticks\":\"\",\"zerolinecolor\":\"white\",\"gridwidth\":2},\"zaxis\":{\"backgroundcolor\":\"#E5ECF6\",\"gridcolor\":\"white\",\"linecolor\":\"white\",\"showbackground\":true,\"ticks\":\"\",\"zerolinecolor\":\"white\",\"gridwidth\":2}},\"shapedefaults\":{\"line\":{\"color\":\"#2a3f5f\"}},\"annotationdefaults\":{\"arrowcolor\":\"#2a3f5f\",\"arrowhead\":0,\"arrowwidth\":1},\"geo\":{\"bgcolor\":\"white\",\"landcolor\":\"#E5ECF6\",\"subunitcolor\":\"white\",\"showland\":true,\"showlakes\":true,\"lakecolor\":\"white\"},\"title\":{\"x\":0.05},\"mapbox\":{\"style\":\"light\"}}},\"xaxis\":{\"anchor\":\"y\",\"domain\":[0.0,1.0],\"title\":{\"text\":\"Indicator\"}},\"yaxis\":{\"anchor\":\"x\",\"domain\":[0.0,1.0],\"title\":{\"text\":\"Mean Value\"}},\"legend\":{\"title\":{\"text\":\"Policy\"},\"tracegroupgap\":0},\"title\":{\"text\":\"Chronic Disease Indicators: With vs Without Salt Legislation Policy\"},\"barmode\":\"group\"},                        {\"responsive\": true}                    ).then(function(){\n",
       "                            \n",
       "var gd = document.getElementById('de405188-aaab-4c94-b11f-f0384ba95ff5');\n",
       "var x = new MutationObserver(function (mutations, observer) {{\n",
       "        var display = window.getComputedStyle(gd).display;\n",
       "        if (!display || display === 'none') {{\n",
       "            console.log([gd, 'removed!']);\n",
       "            Plotly.purge(gd);\n",
       "            observer.disconnect();\n",
       "        }}\n",
       "}});\n",
       "\n",
       "// Listen for the removal of the full notebook cells\n",
       "var notebookContainer = gd.closest('#notebook-container');\n",
       "if (notebookContainer) {{\n",
       "    x.observe(notebookContainer, {childList: true});\n",
       "}}\n",
       "\n",
       "// Listen for the clearing of the current output cell\n",
       "var outputEl = gd.closest('.output');\n",
       "if (outputEl) {{\n",
       "    x.observe(outputEl, {childList: true});\n",
       "}}\n",
       "\n",
       "                        })                };                });            </script>        </div>"
      ]
     },
     "metadata": {},
     "output_type": "display_data"
    }
   ],
   "source": [
    "#Click to see code\n",
    "# Filter data based on salt legislation policy\n",
    "data_with_salt_policy = data[data['salt_legislation_policy'] == 'Yes']\n",
    "data_without_salt_policy = data[data['salt_legislation_policy'] == 'No']\n",
    "\n",
    "# Calculate mean values for chronic disease indicators\n",
    "mean_with_salt_policy = data_with_salt_policy[['obesity_mean_2011_2016', 'overweight_mean_2011_2016', 'underweight_mean_2011_2016', 'blood_pressure_mean_2011_2015']].mean()\n",
    "mean_without_salt_policy = data_without_salt_policy[['obesity_mean_2011_2016', 'overweight_mean_2011_2016', 'underweight_mean_2011_2016', 'blood_pressure_mean_2011_2015']].mean()\n",
    "\n",
    "# Combine the means into a single dataframe\n",
    "mean_comparison = pd.DataFrame({\n",
    "    'Indicator': ['Obesity', 'Overweight', 'Underweight', 'Blood Pressure'],\n",
    "    'With Salt Legislation': mean_with_salt_policy.values,\n",
    "    'Without Salt Legislation': mean_without_salt_policy.values\n",
    "})\n",
    "\n",
    "# Melt the dataframe for Plotly\n",
    "mean_comparison_melted = mean_comparison.melt(id_vars='Indicator', value_vars=['With Salt Legislation', 'Without Salt Legislation'], var_name='Policy', value_name='Mean Value')\n",
    "\n",
    "# Plot the data with Plotly\n",
    "fig = px.bar(mean_comparison_melted, x='Indicator', y='Mean Value', color='Policy', barmode='group',\n",
    "             title='Chronic Disease Indicators: With vs Without Salt Legislation Policy')\n",
    "fig.show()"
   ]
  },
  {
   "cell_type": "markdown",
   "id": "93747ac6-4540-4495-b2ad-48afaf9950bc",
   "metadata": {},
   "source": [
    "In conclusion, the plot affirms that public campaigns about healthy eating, when combined with legislative measures, lead to better dietary choices among the population. The lower rates of chronic diseases in countries with such policies highlight the crucial role of public health education in promoting healthier lifestyles. Continued efforts in public health campaigns, supported by robust policies, are essential to sustain and further enhance these positive health trends."
   ]
  },
  {
   "cell_type": "markdown",
   "id": "26fe1e9d-3608-469c-840c-09c93f8188c7",
   "metadata": {},
   "source": [
    "#### Health campaigns lead to less deaths\n"
   ]
  },
  {
   "cell_type": "markdown",
   "id": "621f776b-3f2c-474b-ab82-7bf90eb3eff6",
   "metadata": {},
   "source": [
    "The bar chart titled \"Comparison of Obesity Risk Factor with and without Salt Legislation Policy\" tells a compelling story about the impact of health policies on obesity-related health risks. Imagine two communities: one that has embraced salt legislation to promote healthier eating habits and another that has not implemented such measures.\n",
    "\n",
    "In the community with salt legislation, people are more conscious of their salt intake. Health campaigns have educated them about the dangers of excessive salt consumption, leading to healthier choices and a noticeable decrease in obesity-related health issues. This community is represented by the \"With Policy\" category on the chart, where the light blue bar shows a mean obesity risk factor value of around 4500.\n",
    "\n",
    "On the other side, the community without salt legislation faces a different reality. Without the guidance of health policies, people in this community continue their usual eating habits, unaware of the long-term health risks associated with high salt consumption. As a result, the mean obesity risk factor in this community is significantly higher, close to 6000, as shown by the red bar under the \"Without Policy\" category.\n",
    "\n",
    "The chart paints a vivid picture of how effective health policies can be. In the community with salt legislation, the efforts to reduce salt intake have translated into tangible health benefits, significantly lowering the obesity risk factor. Meanwhile, the community without such policies struggles with higher obesity-related health risks.\n",
    "\n",
    "This visual comparison underscores the importance of health campaigns and legislative measures. It highlights how proactive policies can lead to healthier populations, reducing the burden of obesity and its associated health risks. The story the chart tells is one of hope and the potential for positive change through informed policy-making."
   ]
  },
  {
   "cell_type": "code",
   "execution_count": 17,
   "id": "88e7666d-f924-4cf3-b916-5bb2c7161039",
   "metadata": {
    "editable": true,
    "slideshow": {
     "slide_type": ""
    },
    "tags": [
     "hide-input"
    ]
   },
   "outputs": [
    {
     "data": {
      "application/vnd.plotly.v1+json": {
       "config": {
        "plotlyServerURL": "https://plot.ly"
       },
       "data": [
        {
         "marker": {
          "color": "blue"
         },
         "name": "With Policy",
         "type": "bar",
         "x": [
          "With Policy"
         ],
         "y": [
          4464.794918032787
         ]
        },
        {
         "marker": {
          "color": "red"
         },
         "name": "Without Policy",
         "type": "bar",
         "x": [
          "Without Policy"
         ],
         "y": [
          6119.7585
         ]
        }
       ],
       "layout": {
        "autosize": true,
        "barmode": "group",
        "template": {
         "data": {
          "bar": [
           {
            "error_x": {
             "color": "#2a3f5f"
            },
            "error_y": {
             "color": "#2a3f5f"
            },
            "marker": {
             "line": {
              "color": "#E5ECF6",
              "width": 0.5
             },
             "pattern": {
              "fillmode": "overlay",
              "size": 10,
              "solidity": 0.2
             }
            },
            "type": "bar"
           }
          ],
          "barpolar": [
           {
            "marker": {
             "line": {
              "color": "#E5ECF6",
              "width": 0.5
             },
             "pattern": {
              "fillmode": "overlay",
              "size": 10,
              "solidity": 0.2
             }
            },
            "type": "barpolar"
           }
          ],
          "carpet": [
           {
            "aaxis": {
             "endlinecolor": "#2a3f5f",
             "gridcolor": "white",
             "linecolor": "white",
             "minorgridcolor": "white",
             "startlinecolor": "#2a3f5f"
            },
            "baxis": {
             "endlinecolor": "#2a3f5f",
             "gridcolor": "white",
             "linecolor": "white",
             "minorgridcolor": "white",
             "startlinecolor": "#2a3f5f"
            },
            "type": "carpet"
           }
          ],
          "choropleth": [
           {
            "colorbar": {
             "outlinewidth": 0,
             "ticks": ""
            },
            "type": "choropleth"
           }
          ],
          "contour": [
           {
            "colorbar": {
             "outlinewidth": 0,
             "ticks": ""
            },
            "colorscale": [
             [
              0,
              "#0d0887"
             ],
             [
              0.1111111111111111,
              "#46039f"
             ],
             [
              0.2222222222222222,
              "#7201a8"
             ],
             [
              0.3333333333333333,
              "#9c179e"
             ],
             [
              0.4444444444444444,
              "#bd3786"
             ],
             [
              0.5555555555555556,
              "#d8576b"
             ],
             [
              0.6666666666666666,
              "#ed7953"
             ],
             [
              0.7777777777777778,
              "#fb9f3a"
             ],
             [
              0.8888888888888888,
              "#fdca26"
             ],
             [
              1,
              "#f0f921"
             ]
            ],
            "type": "contour"
           }
          ],
          "contourcarpet": [
           {
            "colorbar": {
             "outlinewidth": 0,
             "ticks": ""
            },
            "type": "contourcarpet"
           }
          ],
          "heatmap": [
           {
            "colorbar": {
             "outlinewidth": 0,
             "ticks": ""
            },
            "colorscale": [
             [
              0,
              "#0d0887"
             ],
             [
              0.1111111111111111,
              "#46039f"
             ],
             [
              0.2222222222222222,
              "#7201a8"
             ],
             [
              0.3333333333333333,
              "#9c179e"
             ],
             [
              0.4444444444444444,
              "#bd3786"
             ],
             [
              0.5555555555555556,
              "#d8576b"
             ],
             [
              0.6666666666666666,
              "#ed7953"
             ],
             [
              0.7777777777777778,
              "#fb9f3a"
             ],
             [
              0.8888888888888888,
              "#fdca26"
             ],
             [
              1,
              "#f0f921"
             ]
            ],
            "type": "heatmap"
           }
          ],
          "heatmapgl": [
           {
            "colorbar": {
             "outlinewidth": 0,
             "ticks": ""
            },
            "colorscale": [
             [
              0,
              "#0d0887"
             ],
             [
              0.1111111111111111,
              "#46039f"
             ],
             [
              0.2222222222222222,
              "#7201a8"
             ],
             [
              0.3333333333333333,
              "#9c179e"
             ],
             [
              0.4444444444444444,
              "#bd3786"
             ],
             [
              0.5555555555555556,
              "#d8576b"
             ],
             [
              0.6666666666666666,
              "#ed7953"
             ],
             [
              0.7777777777777778,
              "#fb9f3a"
             ],
             [
              0.8888888888888888,
              "#fdca26"
             ],
             [
              1,
              "#f0f921"
             ]
            ],
            "type": "heatmapgl"
           }
          ],
          "histogram": [
           {
            "marker": {
             "pattern": {
              "fillmode": "overlay",
              "size": 10,
              "solidity": 0.2
             }
            },
            "type": "histogram"
           }
          ],
          "histogram2d": [
           {
            "colorbar": {
             "outlinewidth": 0,
             "ticks": ""
            },
            "colorscale": [
             [
              0,
              "#0d0887"
             ],
             [
              0.1111111111111111,
              "#46039f"
             ],
             [
              0.2222222222222222,
              "#7201a8"
             ],
             [
              0.3333333333333333,
              "#9c179e"
             ],
             [
              0.4444444444444444,
              "#bd3786"
             ],
             [
              0.5555555555555556,
              "#d8576b"
             ],
             [
              0.6666666666666666,
              "#ed7953"
             ],
             [
              0.7777777777777778,
              "#fb9f3a"
             ],
             [
              0.8888888888888888,
              "#fdca26"
             ],
             [
              1,
              "#f0f921"
             ]
            ],
            "type": "histogram2d"
           }
          ],
          "histogram2dcontour": [
           {
            "colorbar": {
             "outlinewidth": 0,
             "ticks": ""
            },
            "colorscale": [
             [
              0,
              "#0d0887"
             ],
             [
              0.1111111111111111,
              "#46039f"
             ],
             [
              0.2222222222222222,
              "#7201a8"
             ],
             [
              0.3333333333333333,
              "#9c179e"
             ],
             [
              0.4444444444444444,
              "#bd3786"
             ],
             [
              0.5555555555555556,
              "#d8576b"
             ],
             [
              0.6666666666666666,
              "#ed7953"
             ],
             [
              0.7777777777777778,
              "#fb9f3a"
             ],
             [
              0.8888888888888888,
              "#fdca26"
             ],
             [
              1,
              "#f0f921"
             ]
            ],
            "type": "histogram2dcontour"
           }
          ],
          "mesh3d": [
           {
            "colorbar": {
             "outlinewidth": 0,
             "ticks": ""
            },
            "type": "mesh3d"
           }
          ],
          "parcoords": [
           {
            "line": {
             "colorbar": {
              "outlinewidth": 0,
              "ticks": ""
             }
            },
            "type": "parcoords"
           }
          ],
          "pie": [
           {
            "automargin": true,
            "type": "pie"
           }
          ],
          "scatter": [
           {
            "fillpattern": {
             "fillmode": "overlay",
             "size": 10,
             "solidity": 0.2
            },
            "type": "scatter"
           }
          ],
          "scatter3d": [
           {
            "line": {
             "colorbar": {
              "outlinewidth": 0,
              "ticks": ""
             }
            },
            "marker": {
             "colorbar": {
              "outlinewidth": 0,
              "ticks": ""
             }
            },
            "type": "scatter3d"
           }
          ],
          "scattercarpet": [
           {
            "marker": {
             "colorbar": {
              "outlinewidth": 0,
              "ticks": ""
             }
            },
            "type": "scattercarpet"
           }
          ],
          "scattergeo": [
           {
            "marker": {
             "colorbar": {
              "outlinewidth": 0,
              "ticks": ""
             }
            },
            "type": "scattergeo"
           }
          ],
          "scattergl": [
           {
            "marker": {
             "colorbar": {
              "outlinewidth": 0,
              "ticks": ""
             }
            },
            "type": "scattergl"
           }
          ],
          "scattermapbox": [
           {
            "marker": {
             "colorbar": {
              "outlinewidth": 0,
              "ticks": ""
             }
            },
            "type": "scattermapbox"
           }
          ],
          "scatterpolar": [
           {
            "marker": {
             "colorbar": {
              "outlinewidth": 0,
              "ticks": ""
             }
            },
            "type": "scatterpolar"
           }
          ],
          "scatterpolargl": [
           {
            "marker": {
             "colorbar": {
              "outlinewidth": 0,
              "ticks": ""
             }
            },
            "type": "scatterpolargl"
           }
          ],
          "scatterternary": [
           {
            "marker": {
             "colorbar": {
              "outlinewidth": 0,
              "ticks": ""
             }
            },
            "type": "scatterternary"
           }
          ],
          "surface": [
           {
            "colorbar": {
             "outlinewidth": 0,
             "ticks": ""
            },
            "colorscale": [
             [
              0,
              "#0d0887"
             ],
             [
              0.1111111111111111,
              "#46039f"
             ],
             [
              0.2222222222222222,
              "#7201a8"
             ],
             [
              0.3333333333333333,
              "#9c179e"
             ],
             [
              0.4444444444444444,
              "#bd3786"
             ],
             [
              0.5555555555555556,
              "#d8576b"
             ],
             [
              0.6666666666666666,
              "#ed7953"
             ],
             [
              0.7777777777777778,
              "#fb9f3a"
             ],
             [
              0.8888888888888888,
              "#fdca26"
             ],
             [
              1,
              "#f0f921"
             ]
            ],
            "type": "surface"
           }
          ],
          "table": [
           {
            "cells": {
             "fill": {
              "color": "#EBF0F8"
             },
             "line": {
              "color": "white"
             }
            },
            "header": {
             "fill": {
              "color": "#C8D4E3"
             },
             "line": {
              "color": "white"
             }
            },
            "type": "table"
           }
          ]
         },
         "layout": {
          "annotationdefaults": {
           "arrowcolor": "#2a3f5f",
           "arrowhead": 0,
           "arrowwidth": 1
          },
          "autotypenumbers": "strict",
          "coloraxis": {
           "colorbar": {
            "outlinewidth": 0,
            "ticks": ""
           }
          },
          "colorscale": {
           "diverging": [
            [
             0,
             "#8e0152"
            ],
            [
             0.1,
             "#c51b7d"
            ],
            [
             0.2,
             "#de77ae"
            ],
            [
             0.3,
             "#f1b6da"
            ],
            [
             0.4,
             "#fde0ef"
            ],
            [
             0.5,
             "#f7f7f7"
            ],
            [
             0.6,
             "#e6f5d0"
            ],
            [
             0.7,
             "#b8e186"
            ],
            [
             0.8,
             "#7fbc41"
            ],
            [
             0.9,
             "#4d9221"
            ],
            [
             1,
             "#276419"
            ]
           ],
           "sequential": [
            [
             0,
             "#0d0887"
            ],
            [
             0.1111111111111111,
             "#46039f"
            ],
            [
             0.2222222222222222,
             "#7201a8"
            ],
            [
             0.3333333333333333,
             "#9c179e"
            ],
            [
             0.4444444444444444,
             "#bd3786"
            ],
            [
             0.5555555555555556,
             "#d8576b"
            ],
            [
             0.6666666666666666,
             "#ed7953"
            ],
            [
             0.7777777777777778,
             "#fb9f3a"
            ],
            [
             0.8888888888888888,
             "#fdca26"
            ],
            [
             1,
             "#f0f921"
            ]
           ],
           "sequentialminus": [
            [
             0,
             "#0d0887"
            ],
            [
             0.1111111111111111,
             "#46039f"
            ],
            [
             0.2222222222222222,
             "#7201a8"
            ],
            [
             0.3333333333333333,
             "#9c179e"
            ],
            [
             0.4444444444444444,
             "#bd3786"
            ],
            [
             0.5555555555555556,
             "#d8576b"
            ],
            [
             0.6666666666666666,
             "#ed7953"
            ],
            [
             0.7777777777777778,
             "#fb9f3a"
            ],
            [
             0.8888888888888888,
             "#fdca26"
            ],
            [
             1,
             "#f0f921"
            ]
           ]
          },
          "colorway": [
           "#636efa",
           "#EF553B",
           "#00cc96",
           "#ab63fa",
           "#FFA15A",
           "#19d3f3",
           "#FF6692",
           "#B6E880",
           "#FF97FF",
           "#FECB52"
          ],
          "font": {
           "color": "#2a3f5f"
          },
          "geo": {
           "bgcolor": "white",
           "lakecolor": "white",
           "landcolor": "#E5ECF6",
           "showlakes": true,
           "showland": true,
           "subunitcolor": "white"
          },
          "hoverlabel": {
           "align": "left"
          },
          "hovermode": "closest",
          "mapbox": {
           "style": "light"
          },
          "paper_bgcolor": "white",
          "plot_bgcolor": "#E5ECF6",
          "polar": {
           "angularaxis": {
            "gridcolor": "white",
            "linecolor": "white",
            "ticks": ""
           },
           "bgcolor": "#E5ECF6",
           "radialaxis": {
            "gridcolor": "white",
            "linecolor": "white",
            "ticks": ""
           }
          },
          "scene": {
           "xaxis": {
            "backgroundcolor": "#E5ECF6",
            "gridcolor": "white",
            "gridwidth": 2,
            "linecolor": "white",
            "showbackground": true,
            "ticks": "",
            "zerolinecolor": "white"
           },
           "yaxis": {
            "backgroundcolor": "#E5ECF6",
            "gridcolor": "white",
            "gridwidth": 2,
            "linecolor": "white",
            "showbackground": true,
            "ticks": "",
            "zerolinecolor": "white"
           },
           "zaxis": {
            "backgroundcolor": "#E5ECF6",
            "gridcolor": "white",
            "gridwidth": 2,
            "linecolor": "white",
            "showbackground": true,
            "ticks": "",
            "zerolinecolor": "white"
           }
          },
          "shapedefaults": {
           "line": {
            "color": "#2a3f5f"
           }
          },
          "ternary": {
           "aaxis": {
            "gridcolor": "white",
            "linecolor": "white",
            "ticks": ""
           },
           "baxis": {
            "gridcolor": "white",
            "linecolor": "white",
            "ticks": ""
           },
           "bgcolor": "#E5ECF6",
           "caxis": {
            "gridcolor": "white",
            "linecolor": "white",
            "ticks": ""
           }
          },
          "title": {
           "x": 0.05
          },
          "xaxis": {
           "automargin": true,
           "gridcolor": "white",
           "linecolor": "white",
           "ticks": "",
           "title": {
            "standoff": 15
           },
           "zerolinecolor": "white",
           "zerolinewidth": 2
          },
          "yaxis": {
           "automargin": true,
           "gridcolor": "white",
           "linecolor": "white",
           "ticks": "",
           "title": {
            "standoff": 15
           },
           "zerolinecolor": "white",
           "zerolinewidth": 2
          }
         }
        },
        "title": {
         "text": "Comparison of Deaths caused by Obesity with and without Salt Legislation Policy"
        },
        "xaxis": {
         "autorange": true,
         "range": [
          -0.5,
          1.5
         ],
         "tickangle": 0,
         "title": {
          "text": "Policy Status"
         },
         "type": "category"
        },
        "yaxis": {
         "autorange": true,
         "range": [
          0,
          6441.851052631579
         ],
         "title": {
          "text": "Mean Amount of Deaths"
         },
         "type": "linear"
        }
       }
      },
      "image/png": "[encoded data removed]",
      "text/html": [
       "<div>                            <div id=\"7657de44-5152-4cb1-a5a1-58512db7cdc3\" class=\"plotly-graph-div\" style=\"height:525px; width:100%;\"></div>            <script type=\"text/javascript\">                require([\"plotly\"], function(Plotly) {                    window.PLOTLYENV=window.PLOTLYENV || {};                                    if (document.getElementById(\"7657de44-5152-4cb1-a5a1-58512db7cdc3\")) {                    Plotly.newPlot(                        \"7657de44-5152-4cb1-a5a1-58512db7cdc3\",                        [{\"marker\":{\"color\":\"blue\"},\"name\":\"With Policy\",\"x\":[\"With Policy\"],\"y\":[4464.794918032787],\"type\":\"bar\"},{\"marker\":{\"color\":\"red\"},\"name\":\"Without Policy\",\"x\":[\"Without Policy\"],\"y\":[6119.7585],\"type\":\"bar\"}],                        {\"template\":{\"data\":{\"histogram2dcontour\":[{\"type\":\"histogram2dcontour\",\"colorbar\":{\"outlinewidth\":0,\"ticks\":\"\"},\"colorscale\":[[0.0,\"#0d0887\"],[0.1111111111111111,\"#46039f\"],[0.2222222222222222,\"#7201a8\"],[0.3333333333333333,\"#9c179e\"],[0.4444444444444444,\"#bd3786\"],[0.5555555555555556,\"#d8576b\"],[0.6666666666666666,\"#ed7953\"],[0.7777777777777778,\"#fb9f3a\"],[0.8888888888888888,\"#fdca26\"],[1.0,\"#f0f921\"]]}],\"choropleth\":[{\"type\":\"choropleth\",\"colorbar\":{\"outlinewidth\":0,\"ticks\":\"\"}}],\"histogram2d\":[{\"type\":\"histogram2d\",\"colorbar\":{\"outlinewidth\":0,\"ticks\":\"\"},\"colorscale\":[[0.0,\"#0d0887\"],[0.1111111111111111,\"#46039f\"],[0.2222222222222222,\"#7201a8\"],[0.3333333333333333,\"#9c179e\"],[0.4444444444444444,\"#bd3786\"],[0.5555555555555556,\"#d8576b\"],[0.6666666666666666,\"#ed7953\"],[0.7777777777777778,\"#fb9f3a\"],[0.8888888888888888,\"#fdca26\"],[1.0,\"#f0f921\"]]}],\"heatmap\":[{\"type\":\"heatmap\",\"colorbar\":{\"outlinewidth\":0,\"ticks\":\"\"},\"colorscale\":[[0.0,\"#0d0887\"],[0.1111111111111111,\"#46039f\"],[0.2222222222222222,\"#7201a8\"],[0.3333333333333333,\"#9c179e\"],[0.4444444444444444,\"#bd3786\"],[0.5555555555555556,\"#d8576b\"],[0.6666666666666666,\"#ed7953\"],[0.7777777777777778,\"#fb9f3a\"],[0.8888888888888888,\"#fdca26\"],[1.0,\"#f0f921\"]]}],\"heatmapgl\":[{\"type\":\"heatmapgl\",\"colorbar\":{\"outlinewidth\":0,\"ticks\":\"\"},\"colorscale\":[[0.0,\"#0d0887\"],[0.1111111111111111,\"#46039f\"],[0.2222222222222222,\"#7201a8\"],[0.3333333333333333,\"#9c179e\"],[0.4444444444444444,\"#bd3786\"],[0.5555555555555556,\"#d8576b\"],[0.6666666666666666,\"#ed7953\"],[0.7777777777777778,\"#fb9f3a\"],[0.8888888888888888,\"#fdca26\"],[1.0,\"#f0f921\"]]}],\"contourcarpet\":[{\"type\":\"contourcarpet\",\"colorbar\":{\"outlinewidth\":0,\"ticks\":\"\"}}],\"contour\":[{\"type\":\"contour\",\"colorbar\":{\"outlinewidth\":0,\"ticks\":\"\"},\"colorscale\":[[0.0,\"#0d0887\"],[0.1111111111111111,\"#46039f\"],[0.2222222222222222,\"#7201a8\"],[0.3333333333333333,\"#9c179e\"],[0.4444444444444444,\"#bd3786\"],[0.5555555555555556,\"#d8576b\"],[0.6666666666666666,\"#ed7953\"],[0.7777777777777778,\"#fb9f3a\"],[0.8888888888888888,\"#fdca26\"],[1.0,\"#f0f921\"]]}],\"surface\":[{\"type\":\"surface\",\"colorbar\":{\"outlinewidth\":0,\"ticks\":\"\"},\"colorscale\":[[0.0,\"#0d0887\"],[0.1111111111111111,\"#46039f\"],[0.2222222222222222,\"#7201a8\"],[0.3333333333333333,\"#9c179e\"],[0.4444444444444444,\"#bd3786\"],[0.5555555555555556,\"#d8576b\"],[0.6666666666666666,\"#ed7953\"],[0.7777777777777778,\"#fb9f3a\"],[0.8888888888888888,\"#fdca26\"],[1.0,\"#f0f921\"]]}],\"mesh3d\":[{\"type\":\"mesh3d\",\"colorbar\":{\"outlinewidth\":0,\"ticks\":\"\"}}],\"scatter\":[{\"fillpattern\":{\"fillmode\":\"overlay\",\"size\":10,\"solidity\":0.2},\"type\":\"scatter\"}],\"parcoords\":[{\"type\":\"parcoords\",\"line\":{\"colorbar\":{\"outlinewidth\":0,\"ticks\":\"\"}}}],\"scatterpolargl\":[{\"type\":\"scatterpolargl\",\"marker\":{\"colorbar\":{\"outlinewidth\":0,\"ticks\":\"\"}}}],\"bar\":[{\"error_x\":{\"color\":\"#2a3f5f\"},\"error_y\":{\"color\":\"#2a3f5f\"},\"marker\":{\"line\":{\"color\":\"#E5ECF6\",\"width\":0.5},\"pattern\":{\"fillmode\":\"overlay\",\"size\":10,\"solidity\":0.2}},\"type\":\"bar\"}],\"scattergeo\":[{\"type\":\"scattergeo\",\"marker\":{\"colorbar\":{\"outlinewidth\":0,\"ticks\":\"\"}}}],\"scatterpolar\":[{\"type\":\"scatterpolar\",\"marker\":{\"colorbar\":{\"outlinewidth\":0,\"ticks\":\"\"}}}],\"histogram\":[{\"marker\":{\"pattern\":{\"fillmode\":\"overlay\",\"size\":10,\"solidity\":0.2}},\"type\":\"histogram\"}],\"scattergl\":[{\"type\":\"scattergl\",\"marker\":{\"colorbar\":{\"outlinewidth\":0,\"ticks\":\"\"}}}],\"scatter3d\":[{\"type\":\"scatter3d\",\"line\":{\"colorbar\":{\"outlinewidth\":0,\"ticks\":\"\"}},\"marker\":{\"colorbar\":{\"outlinewidth\":0,\"ticks\":\"\"}}}],\"scattermapbox\":[{\"type\":\"scattermapbox\",\"marker\":{\"colorbar\":{\"outlinewidth\":0,\"ticks\":\"\"}}}],\"scatterternary\":[{\"type\":\"scatterternary\",\"marker\":{\"colorbar\":{\"outlinewidth\":0,\"ticks\":\"\"}}}],\"scattercarpet\":[{\"type\":\"scattercarpet\",\"marker\":{\"colorbar\":{\"outlinewidth\":0,\"ticks\":\"\"}}}],\"carpet\":[{\"aaxis\":{\"endlinecolor\":\"#2a3f5f\",\"gridcolor\":\"white\",\"linecolor\":\"white\",\"minorgridcolor\":\"white\",\"startlinecolor\":\"#2a3f5f\"},\"baxis\":{\"endlinecolor\":\"#2a3f5f\",\"gridcolor\":\"white\",\"linecolor\":\"white\",\"minorgridcolor\":\"white\",\"startlinecolor\":\"#2a3f5f\"},\"type\":\"carpet\"}],\"table\":[{\"cells\":{\"fill\":{\"color\":\"#EBF0F8\"},\"line\":{\"color\":\"white\"}},\"header\":{\"fill\":{\"color\":\"#C8D4E3\"},\"line\":{\"color\":\"white\"}},\"type\":\"table\"}],\"barpolar\":[{\"marker\":{\"line\":{\"color\":\"#E5ECF6\",\"width\":0.5},\"pattern\":{\"fillmode\":\"overlay\",\"size\":10,\"solidity\":0.2}},\"type\":\"barpolar\"}],\"pie\":[{\"automargin\":true,\"type\":\"pie\"}]},\"layout\":{\"autotypenumbers\":\"strict\",\"colorway\":[\"#636efa\",\"#EF553B\",\"#00cc96\",\"#ab63fa\",\"#FFA15A\",\"#19d3f3\",\"#FF6692\",\"#B6E880\",\"#FF97FF\",\"#FECB52\"],\"font\":{\"color\":\"#2a3f5f\"},\"hovermode\":\"closest\",\"hoverlabel\":{\"align\":\"left\"},\"paper_bgcolor\":\"white\",\"plot_bgcolor\":\"#E5ECF6\",\"polar\":{\"bgcolor\":\"#E5ECF6\",\"angularaxis\":{\"gridcolor\":\"white\",\"linecolor\":\"white\",\"ticks\":\"\"},\"radialaxis\":{\"gridcolor\":\"white\",\"linecolor\":\"white\",\"ticks\":\"\"}},\"ternary\":{\"bgcolor\":\"#E5ECF6\",\"aaxis\":{\"gridcolor\":\"white\",\"linecolor\":\"white\",\"ticks\":\"\"},\"baxis\":{\"gridcolor\":\"white\",\"linecolor\":\"white\",\"ticks\":\"\"},\"caxis\":{\"gridcolor\":\"white\",\"linecolor\":\"white\",\"ticks\":\"\"}},\"coloraxis\":{\"colorbar\":{\"outlinewidth\":0,\"ticks\":\"\"}},\"colorscale\":{\"sequential\":[[0.0,\"#0d0887\"],[0.1111111111111111,\"#46039f\"],[0.2222222222222222,\"#7201a8\"],[0.3333333333333333,\"#9c179e\"],[0.4444444444444444,\"#bd3786\"],[0.5555555555555556,\"#d8576b\"],[0.6666666666666666,\"#ed7953\"],[0.7777777777777778,\"#fb9f3a\"],[0.8888888888888888,\"#fdca26\"],[1.0,\"#f0f921\"]],\"sequentialminus\":[[0.0,\"#0d0887\"],[0.1111111111111111,\"#46039f\"],[0.2222222222222222,\"#7201a8\"],[0.3333333333333333,\"#9c179e\"],[0.4444444444444444,\"#bd3786\"],[0.5555555555555556,\"#d8576b\"],[0.6666666666666666,\"#ed7953\"],[0.7777777777777778,\"#fb9f3a\"],[0.8888888888888888,\"#fdca26\"],[1.0,\"#f0f921\"]],\"diverging\":[[0,\"#8e0152\"],[0.1,\"#c51b7d\"],[0.2,\"#de77ae\"],[0.3,\"#f1b6da\"],[0.4,\"#fde0ef\"],[0.5,\"#f7f7f7\"],[0.6,\"#e6f5d0\"],[0.7,\"#b8e186\"],[0.8,\"#7fbc41\"],[0.9,\"#4d9221\"],[1,\"#276419\"]]},\"xaxis\":{\"gridcolor\":\"white\",\"linecolor\":\"white\",\"ticks\":\"\",\"title\":{\"standoff\":15},\"zerolinecolor\":\"white\",\"automargin\":true,\"zerolinewidth\":2},\"yaxis\":{\"gridcolor\":\"white\",\"linecolor\":\"white\",\"ticks\":\"\",\"title\":{\"standoff\":15},\"zerolinecolor\":\"white\",\"automargin\":true,\"zerolinewidth\":2},\"scene\":{\"xaxis\":{\"backgroundcolor\":\"#E5ECF6\",\"gridcolor\":\"white\",\"linecolor\":\"white\",\"showbackground\":true,\"ticks\":\"\",\"zerolinecolor\":\"white\",\"gridwidth\":2},\"yaxis\":{\"backgroundcolor\":\"#E5ECF6\",\"gridcolor\":\"white\",\"linecolor\":\"white\",\"showbackground\":true,\"ticks\":\"\",\"zerolinecolor\":\"white\",\"gridwidth\":2},\"zaxis\":{\"backgroundcolor\":\"#E5ECF6\",\"gridcolor\":\"white\",\"linecolor\":\"white\",\"showbackground\":true,\"ticks\":\"\",\"zerolinecolor\":\"white\",\"gridwidth\":2}},\"shapedefaults\":{\"line\":{\"color\":\"#2a3f5f\"}},\"annotationdefaults\":{\"arrowcolor\":\"#2a3f5f\",\"arrowhead\":0,\"arrowwidth\":1},\"geo\":{\"bgcolor\":\"white\",\"landcolor\":\"#E5ECF6\",\"subunitcolor\":\"white\",\"showland\":true,\"showlakes\":true,\"lakecolor\":\"white\"},\"title\":{\"x\":0.05},\"mapbox\":{\"style\":\"light\"}}},\"xaxis\":{\"title\":{\"text\":\"Policy Status\"},\"tickangle\":0},\"title\":{\"text\":\"Comparison of Deaths caused by Obesity with and without Salt Legislation Policy\"},\"yaxis\":{\"title\":{\"text\":\"Mean Amount of Deaths\"}},\"barmode\":\"group\"},                        {\"responsive\": true}                    ).then(function(){\n",
       "                            \n",
       "var gd = document.getElementById('7657de44-5152-4cb1-a5a1-58512db7cdc3');\n",
       "var x = new MutationObserver(function (mutations, observer) {{\n",
       "        var display = window.getComputedStyle(gd).display;\n",
       "        if (!display || display === 'none') {{\n",
       "            console.log([gd, 'removed!']);\n",
       "            Plotly.purge(gd);\n",
       "            observer.disconnect();\n",
       "        }}\n",
       "}});\n",
       "\n",
       "// Listen for the removal of the full notebook cells\n",
       "var notebookContainer = gd.closest('#notebook-container');\n",
       "if (notebookContainer) {{\n",
       "    x.observe(notebookContainer, {childList: true});\n",
       "}}\n",
       "\n",
       "// Listen for the clearing of the current output cell\n",
       "var outputEl = gd.closest('.output');\n",
       "if (outputEl) {{\n",
       "    x.observe(outputEl, {childList: true});\n",
       "}}\n",
       "\n",
       "                        })                };                });            </script>        </div>"
      ]
     },
     "metadata": {},
     "output_type": "display_data"
    }
   ],
   "source": [
    "#Click to see code\n",
    "\n",
    "# Separate the data into two groups based on salt legislation policy\n",
    "with_policy = data[data['salt_legislation_policy'] == 'Yes']\n",
    "without_policy = data[data['salt_legislation_policy'] == 'No']\n",
    "\n",
    "# Calculate the mean values of the risk factors for each group\n",
    "risk_factors_with_policy = with_policy[['Risk_factor_obese_2018', 'Risk_factor_all-rf_2018']].mean()\n",
    "risk_factors_without_policy = without_policy[['Risk_factor_obese_2018', 'Risk_factor_all-rf_2018']].mean()\n",
    "\n",
    "# Combine the results into a single dataframe for comparison\n",
    "comparison = pd.DataFrame({\n",
    "    'With Policy': risk_factors_with_policy,\n",
    "    'Without Policy': risk_factors_without_policy\n",
    "})\n",
    "\n",
    "# Data for the plot\n",
    "obese_comparison_salt = comparison.loc['Risk_factor_obese_2018']\n",
    "\n",
    "# Create the interactive bar plot\n",
    "fig = go.Figure(data=[\n",
    "    go.Bar(name='With Policy', x=['With Policy'], y=[obese_comparison_salt['With Policy']], marker_color='blue'),\n",
    "    go.Bar(name='Without Policy', x=['Without Policy'], y=[obese_comparison_salt['Without Policy']], marker_color='red')\n",
    "])\n",
    "\n",
    "# Update layout for better visualization\n",
    "fig.update_layout(\n",
    "    title='Comparison of Deaths caused by Obesity with and without Salt Legislation Policy',\n",
    "    yaxis_title='Mean Amount of Deaths',\n",
    "    xaxis_title='Policy Status',\n",
    "    barmode='group',\n",
    "    xaxis_tickangle=0\n",
    ")\n",
    "\n",
    "# Show the interactive plot\n",
    "fig.show()\n"
   ]
  },
  {
   "cell_type": "markdown",
   "id": "cc853bc0-438b-4ec5-825c-031014d0f318",
   "metadata": {},
   "source": [
    "The chart illustrates that health campaigns and salt legislation can lead to a healthier society by lowering obesity-related risks. It serves as a powerful reminder of the impact that well-designed health policies can have on public health."
   ]
  },
  {
   "cell_type": "markdown",
   "id": "ad548c22-0c5e-44d0-b5d9-5a72216bf69b",
   "metadata": {
    "jp-MarkdownHeadingCollapsed": true
   },
   "source": [
    "### Summary\n",
    "The findings highlight the complex interplay between economic factors, dietary habits, and health policies in shaping public health outcomes. While economic prosperity provides better access to nutritious foods, it also brings challenges related to lifestyle and dietary choices. Effective health policies are essential in guiding populations towards healthier eating habits and reducing the burden of chronic diseases. This comprehensive approach is crucial for achieving better health outcomes globally and ensuring that the benefits of economic prosperity translate into improved public health."
   ]
  },
  {
   "cell_type": "markdown",
   "id": "cf8558d7-1d17-487c-b476-9f0a637b49a9",
   "metadata": {
    "editable": true,
    "slideshow": {
     "slide_type": ""
    },
    "tags": []
   },
   "source": [
    "### References\n",
    "- BMJ Glob Health (October 2023). https://www.ncbi.nlm.nih.gov/pmc/articles/PMC10565303/\n",
    "- BMC Public Health. (2020). The impact of food insecurity on health outcomes: empirical evidence from sub-Saharan African countries. Retrieved from https://bmcpublichealth.biomedcentral.com/articles/10.1186/s12889-019-7762-3\n",
    "- Centers for Disease Control and Prevention (CDC). (2018). The High Obesity Program: A collaboration between public health and cooperative extension services to address obesity. Retrieved from https://www.cdc.gov/obesity/downloads/HOP_factsheet.pdf\n",
    "- Globalization and Health. (2020). Economic globalization, nutrition and health: a review of quantitative evidence. Retrieved from https://globalizationandhealth.biomedcentral.com/articles/10.1186/s12992-019-0483-5\n",
    "- Healthy People 2030. (2020). Access to Foods That Support Healthy Dietary Patterns. Retrieved from https://health.gov/healthypeople/objectives-and-data/browse-objectives/nutrition-and-healthy-eating/access-foods-support-healthy-dietary-patterns\n",
    "-VanHeuvelen, T., & VanHeuvelen, J. S. (2019). The (Economic) Development of Healthy Eating Habits: Gender, Nutrition, and Health Outcomes in 31 Countries. Sociology of Development, 5(1), 91-113. https://doi.org/10.1525/sod.2019.5.1.91\n",
    "\n",
    "- Centers for Disease Control and Prevention (CDC). (2018). The High Obesity Program: A collaboration between public health and cooperative extension services to address obesity. Retrieved from https://www.cdc.gov/obesity/downloads/HOP_factsheet.pdf\n",
    "\n",
    "- BMC Public Health. (2019). Public health campaigns and obesity - a critique. BMC Public Health, 19, 7858. https://doi.org/10.1186/s12889-019-7858-8\n",
    "\n",
    "- Public Health Nutrition. (2014). ‘Change4Life Smart Swaps’: quasi-experimental evaluation of a natural experiment. Cambridge Core. https://doi.org/10.1017/S1368980014002458\n",
    "\n",
    "- Obesity Evidence Hub. (n.d.). Overweight and obesity mass media education campaigns. Retrieved from https://www.obesityevidencehub.org.au/collections/prevention-policy/mass-media-campaigns"
   ]
  },
  {
   "cell_type": "markdown",
   "id": "21d91ddb-c0ed-4c27-9e81-75599f87412b",
   "metadata": {
    "editable": true,
    "slideshow": {
     "slide_type": ""
    },
    "tags": []
   },
   "source": [
    "### External Links\n",
    "- [GitHub repository](https://github.com/NilliNoori/infovis)\n"
   ]
  }
 ],
 "metadata": {
  "kernelspec": {
   "display_name": "Python 3 (ipykernel)",
   "language": "python",
   "name": "python3"
  },
  "language_info": {
   "codemirror_mode": {
    "name": "ipython",
    "version": 3
   },
   "file_extension": ".py",
   "mimetype": "text/x-python",
   "name": "python",
   "nbconvert_exporter": "python",
   "pygments_lexer": "ipython3",
   "version": "3.10.12"
  }
 },
 "nbformat": 4,
 "nbformat_minor": 5
}
