{
 "cells": [
  {
   "cell_type": "markdown",
   "id": "380d58dc-6efa-4c4f-8494-22229e7fdaf3",
   "metadata": {},
   "source": [
    "## Dataset and Preprocessing\n",
    "\n",
    "#### Contents\n",
    "- **Data Cleaning**\n",
    "- **Variable Descriptions**\n",
    "- **Aggregations**\n",
    "\n",
    "### Data Cleaning\n",
    "\n",
    "We researched online and found the [Global Nutrition Report 2021 - Dataset and Metadata](https://globalnutritionreport.org/reports/2021-global-nutrition-report/dataset-and-metadata/)\n",
    ", which included multiple datasets in the file `2021_Global_Nutrition_Report_Dataset_6YAamkd.xlsx`. From this report, we selected and merged the following relevant datasets: `country_dietary_needs.xlsx`, `country_economics.xlsx`, `country_adult.xlsx`, and `country_policy.xlsx`.  These datasets provide comprehensive information on dietary needs, economic and demographic data, adult obesity rates and policy measures for various countries.\n",
    "\n",
    "#### First Phase: Renaming and Restructuring Columns\n",
    "\n",
    "In the first phase, we addressed column conflicts by adding unique suffixes to the columns of each dataset. This ensured that there were no conflicting column names during the merge. We then read each dataset separately using the `pandas` library in Python.\n",
    "\n",
    "#### Second Phase: Merging and Normalizing\n",
    "\n",
    "In the second phase, we merged the datasets based on the common column`country`. To remove duplicates and normalize the data, we aggregated numerical columns by taking their means and retained the first value for categorical columns. This allowed us to obtain a single row per country, containing all relevant merged information.\n",
    "\n",
    "#### Third Phase: Selecting Relevant Variables\n",
    "\n",
    "In the third phase, we focused on selecting only the relevant variables that align with our perspectives and arguments. This involved filtering the dataset to retain columns that provide insights into dietary habits, national policies, consumption of processed foods, and socio-economic factors. The selected columns were then saved into a new cleaned dataset.\n",
    "\n",
    "\n",
    "### Variable Descriptions\n",
    "\n",
    "The final dataset includes a wide range of variables, including:\n",
    "\n",
    "- **Dietary-related variables**: such as `fruit_dietary_intake`, `vegetables_dietary_intake`, `legumes_dietary_intake`, `nuts_dietary_intake`, `whole_grains_dietary_intake`, `fish_dietary_intake`, `dairy_dietary_intake`, `red_meat_dietary_intake`.\n",
    "- **Economic and demographic variables**: such as `gdp_per_capita_mean_2011_2021`.\n",
    "- **Adult-obesity variables**: such as `obesity_mean_2011_2016`, `overweight_mean_2011_2016`, `underweight_mean_2011_2016`, `blood_pressure_mean_2011_2015`, `Risk_factor_obese_2018`.\n",
    "- **Policy-related variables**: such as policy measures like `salt_legislation_policy`.\n",
    "\n",
    "\n",
    "### Aggregations\n",
    "\n",
    "The data was aggregated at the country level to obtain a single record per country. For numerical values, we calculated the means, while for categorical values, we retained the first non-null value. This ensured that the final dataset is comprehensive and cohesive, ready for further analysis and visualization.\n",
    "\n",
    "For example:\n",
    "\n",
    "- **Numerical aggregation**: For columns like `fruit_dietary_intake` and `vegetables_dietary_intake`, we calculated the mean.\n",
    "- **Categorical aggregation**: For policy information like `salt_legislation_policy`, we retained the first non-null value.\n",
    "\n",
    "\n",
    "### Final Result\n",
    "\n",
    "The resulting dataset provides a comprehensive view of various aspects of dietary and policy information per country. This dataset is now primed for further analysis and visualization."
   ]
  }
 ],
 "metadata": {
  "kernelspec": {
   "display_name": "Python 3 (ipykernel)",
   "language": "python",
   "name": "python3"
  },
  "language_info": {
   "codemirror_mode": {
    "name": "ipython",
    "version": 3
   },
   "file_extension": ".py",
   "mimetype": "text/x-python",
   "name": "python",
   "nbconvert_exporter": "python",
   "pygments_lexer": "ipython3",
   "version": "3.10.14"
  }
 },
 "nbformat": 4,
 "nbformat_minor": 5
}